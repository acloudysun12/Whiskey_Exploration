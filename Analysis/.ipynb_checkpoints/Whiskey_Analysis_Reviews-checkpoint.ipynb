{
 "cells": [
  {
   "cell_type": "code",
   "execution_count": 15,
   "metadata": {},
   "outputs": [],
   "source": [
    "import numpy as np\n",
    "import pandas as pd\n",
    "import csv\n",
    "from scipy import stats\n",
    "import os\n",
    "import datetime\n",
    "import sys\n",
    "import time\n",
    "import random\n",
    "import json\n",
    "import re\n",
    "import pickle\n",
    "from collections import Counter\n",
    "import torch\n",
    "import torchtext\n",
    "from torchtext.data import get_tokenizer\n",
    "import spacy\n",
    "# import tensorflow as tf\n",
    "# import tensorflow_datasets as tfds\n",
    "import matplotlib.pyplot as plt\n",
    "from matplotlib.pyplot import figure\n",
    "%matplotlib inline\n",
    "\n",
    "pd.set_option(\"display.max_columns\", 30)"
   ]
  },
  {
   "cell_type": "code",
   "execution_count": 2,
   "metadata": {},
   "outputs": [],
   "source": [
    "nlp = spacy.load(\"en_core_web_sm\")"
   ]
  },
  {
   "cell_type": "code",
   "execution_count": 3,
   "metadata": {},
   "outputs": [
    {
     "data": {
      "text/html": [
       "<div>\n",
       "<style scoped>\n",
       "    .dataframe tbody tr th:only-of-type {\n",
       "        vertical-align: middle;\n",
       "    }\n",
       "\n",
       "    .dataframe tbody tr th {\n",
       "        vertical-align: top;\n",
       "    }\n",
       "\n",
       "    .dataframe thead th {\n",
       "        text-align: right;\n",
       "    }\n",
       "</style>\n",
       "<table border=\"1\" class=\"dataframe\">\n",
       "  <thead>\n",
       "    <tr style=\"text-align: right;\">\n",
       "      <th></th>\n",
       "      <th>whiskey_type</th>\n",
       "      <th>whiskey_name</th>\n",
       "      <th>reviewer_name</th>\n",
       "      <th>review_date</th>\n",
       "      <th>rev_rating</th>\n",
       "      <th>rev_notes</th>\n",
       "    </tr>\n",
       "  </thead>\n",
       "  <tbody>\n",
       "    <tr>\n",
       "      <th>0</th>\n",
       "      <td>american_single_malt</td>\n",
       "      <td>STRANAHAN'S COLORADO WHISKEY</td>\n",
       "      <td>elbucko</td>\n",
       "      <td>Tasted December 16, 2021</td>\n",
       "      <td>3.75</td>\n",
       "      <td>Tastes like whiskey, maybe some pear? Great on...</td>\n",
       "    </tr>\n",
       "    <tr>\n",
       "      <th>1</th>\n",
       "      <td>american_single_malt</td>\n",
       "      <td>STRANAHAN'S COLORADO WHISKEY</td>\n",
       "      <td>gmrocks</td>\n",
       "      <td>Tasted December 8, 2021</td>\n",
       "      <td>3.75</td>\n",
       "      <td>This one proved quite popular with group of fr...</td>\n",
       "    </tr>\n",
       "    <tr>\n",
       "      <th>2</th>\n",
       "      <td>american_single_malt</td>\n",
       "      <td>STRANAHAN'S COLORADO WHISKEY</td>\n",
       "      <td>Mark-Willis</td>\n",
       "      <td>Tasted November 27, 2021</td>\n",
       "      <td>4.50</td>\n",
       "      <td>Surprise of the flight consisting of itself Gl...</td>\n",
       "    </tr>\n",
       "    <tr>\n",
       "      <th>3</th>\n",
       "      <td>american_single_malt</td>\n",
       "      <td>STRANAHAN'S COLORADO WHISKEY</td>\n",
       "      <td>Dan-Cordial</td>\n",
       "      <td>Tasted November 13, 2021</td>\n",
       "      <td>3.75</td>\n",
       "      <td>Floral notes</td>\n",
       "    </tr>\n",
       "    <tr>\n",
       "      <th>4</th>\n",
       "      <td>american_single_malt</td>\n",
       "      <td>STRANAHAN'S COLORADO WHISKEY</td>\n",
       "      <td>MoparRocker74</td>\n",
       "      <td>Tasted November 11, 2021</td>\n",
       "      <td>3.75</td>\n",
       "      <td>Really good American single malt. Oaky and Cok...</td>\n",
       "    </tr>\n",
       "  </tbody>\n",
       "</table>\n",
       "</div>"
      ],
      "text/plain": [
       "           whiskey_type                  whiskey_name  reviewer_name  \\\n",
       "0  american_single_malt  STRANAHAN'S COLORADO WHISKEY        elbucko   \n",
       "1  american_single_malt  STRANAHAN'S COLORADO WHISKEY        gmrocks   \n",
       "2  american_single_malt  STRANAHAN'S COLORADO WHISKEY    Mark-Willis   \n",
       "3  american_single_malt  STRANAHAN'S COLORADO WHISKEY    Dan-Cordial   \n",
       "4  american_single_malt  STRANAHAN'S COLORADO WHISKEY  MoparRocker74   \n",
       "\n",
       "                review_date  rev_rating  \\\n",
       "0  Tasted December 16, 2021        3.75   \n",
       "1   Tasted December 8, 2021        3.75   \n",
       "2  Tasted November 27, 2021        4.50   \n",
       "3  Tasted November 13, 2021        3.75   \n",
       "4  Tasted November 11, 2021        3.75   \n",
       "\n",
       "                                           rev_notes  \n",
       "0  Tastes like whiskey, maybe some pear? Great on...  \n",
       "1  This one proved quite popular with group of fr...  \n",
       "2  Surprise of the flight consisting of itself Gl...  \n",
       "3                                       Floral notes  \n",
       "4  Really good American single malt. Oaky and Cok...  "
      ]
     },
     "execution_count": 3,
     "metadata": {},
     "output_type": "execute_result"
    }
   ],
   "source": [
    "################ Read the file, check it out ################\n",
    "\n",
    "file_dir = 'C:/Users/aclou/Documents/Projects/Whiskey_Ratings/Datasets/' \n",
    "\n",
    "df_ratings_all = pd.read_csv(file_dir + 'whisk_reviews_combined.csv')\n",
    "df_ratings_all.head()"
   ]
  },
  {
   "cell_type": "code",
   "execution_count": 4,
   "metadata": {},
   "outputs": [],
   "source": [
    "################ INITIAL NEW/TRANSFORMEd COLS FOR DF ################\n",
    "\n",
    "rev_notes = df_ratings_all['rev_notes']\n",
    "rev_notes = [str(elem).encode(\"ascii\", \"ignore\").decode('utf-8') for elem in rev_notes] \n",
    "rev_notes = [re.sub('[\\n\\r\\t\\f]', ' ', elem) for elem in rev_notes] \n",
    "df_ratings_all['rev_notes'] = rev_notes # get the NEW rev notes\n",
    "\n",
    "len_review = [len(str(review)) for review in df_ratings_all['rev_notes']]\n",
    "df_ratings_all['rev_char_len'] = len_review\n",
    "\n",
    "df_ratings_all = df_ratings_all.loc[df_ratings_all['rev_char_len'] > 0, :].reset_index(drop = True) # aka get rid of empty reviews"
   ]
  },
  {
   "cell_type": "code",
   "execution_count": 5,
   "metadata": {
    "scrolled": false
   },
   "outputs": [
    {
     "data": {
      "text/plain": [
       "count    114483.000000\n",
       "mean        221.219858\n",
       "std         385.680698\n",
       "min           1.000000\n",
       "5%           11.000000\n",
       "10%          19.000000\n",
       "25%          41.000000\n",
       "35%          58.000000\n",
       "50%          93.000000\n",
       "65%         149.000000\n",
       "75%         216.000000\n",
       "90%         528.000000\n",
       "95%         945.900000\n",
       "97.5%      1403.000000\n",
       "max        7686.000000\n",
       "Name: rev_char_len, dtype: float64"
      ]
     },
     "execution_count": 5,
     "metadata": {},
     "output_type": "execute_result"
    }
   ],
   "source": [
    "df_ratings_all['rev_char_len'].describe([0.05, 0.1, 0.25, 0.35, .5, 0.65, .75, 0.9, 0.95, 0.975])"
   ]
  },
  {
   "cell_type": "code",
   "execution_count": 21,
   "metadata": {},
   "outputs": [],
   "source": [
    "################ BREAK UP INTO LONG / SHORT RATINGS AND PREPROCESS ################\n",
    "# SHORT -- >=40, <200 (around 30th to 70th percentile)\n",
    "# LONG -- >=200 (cap at 2500 characters) (70th to 100th percentile)\n",
    "\n",
    "df_ratings_short = df_ratings_all.loc[(df_ratings_all['rev_char_len'] >= 40) & (df_ratings_all['rev_char_len'] < 200), :].\\\n",
    "    reset_index(drop = True)\n",
    "df_ratings_short['review_flg'] = 1*(df_ratings_short['rev_rating'] >= 3.75) # DEFINE A POSITIVE REVIEW\n",
    "df_ratings_short = df_ratings_short.loc[~np.isnan(df_ratings_short['review_flg'])].reset_index(drop = True)\n",
    "df_ratings_short = df_ratings_short.loc[:,['rev_notes', 'review_flg']]\n",
    "\n",
    "df_ratings_long = df_ratings_all.loc[(df_ratings_all['rev_char_len'] >= 200), :].\\\n",
    "    reset_index(drop = True)\n",
    "rev_capped = [elem[0:2500] for elem in df_ratings_long['rev_notes']]\n",
    "df_ratings_long['rev_notes'] = rev_capped"
   ]
  },
  {
   "cell_type": "code",
   "execution_count": 22,
   "metadata": {},
   "outputs": [
    {
     "data": {
      "text/html": [
       "<div>\n",
       "<style scoped>\n",
       "    .dataframe tbody tr th:only-of-type {\n",
       "        vertical-align: middle;\n",
       "    }\n",
       "\n",
       "    .dataframe tbody tr th {\n",
       "        vertical-align: top;\n",
       "    }\n",
       "\n",
       "    .dataframe thead th {\n",
       "        text-align: right;\n",
       "    }\n",
       "</style>\n",
       "<table border=\"1\" class=\"dataframe\">\n",
       "  <thead>\n",
       "    <tr style=\"text-align: right;\">\n",
       "      <th></th>\n",
       "      <th>rev_notes</th>\n",
       "      <th>review_flg</th>\n",
       "    </tr>\n",
       "  </thead>\n",
       "  <tbody>\n",
       "    <tr>\n",
       "      <th>0</th>\n",
       "      <td>Tastes like whiskey, maybe some pear? Great on...</td>\n",
       "      <td>1</td>\n",
       "    </tr>\n",
       "    <tr>\n",
       "      <th>1</th>\n",
       "      <td>Really good American single malt. Oaky and Cok...</td>\n",
       "      <td>1</td>\n",
       "    </tr>\n",
       "    <tr>\n",
       "      <th>2</th>\n",
       "      <td>Cask strength. Strong ethanol nose, slight che...</td>\n",
       "      <td>0</td>\n",
       "    </tr>\n",
       "    <tr>\n",
       "      <th>3</th>\n",
       "      <td>Pre-Distiller tasting. Bar pour with a big roc...</td>\n",
       "      <td>0</td>\n",
       "    </tr>\n",
       "    <tr>\n",
       "      <th>4</th>\n",
       "      <td>Not bad at all, a little on the harsh side tho...</td>\n",
       "      <td>1</td>\n",
       "    </tr>\n",
       "  </tbody>\n",
       "</table>\n",
       "</div>"
      ],
      "text/plain": [
       "                                           rev_notes  review_flg\n",
       "0  Tastes like whiskey, maybe some pear? Great on...           1\n",
       "1  Really good American single malt. Oaky and Cok...           1\n",
       "2  Cask strength. Strong ethanol nose, slight che...           0\n",
       "3  Pre-Distiller tasting. Bar pour with a big roc...           0\n",
       "4  Not bad at all, a little on the harsh side tho...           1"
      ]
     },
     "execution_count": 22,
     "metadata": {},
     "output_type": "execute_result"
    }
   ],
   "source": [
    "df_ratings_short.head()"
   ]
  },
  {
   "cell_type": "code",
   "execution_count": 24,
   "metadata": {},
   "outputs": [],
   "source": [
    "df_ratings_short.to_csv('df_ratings_short.csv', index = False)"
   ]
  },
  {
   "cell_type": "code",
   "execution_count": 29,
   "metadata": {},
   "outputs": [],
   "source": [
    "TEXT = torchtext.legacy.data.Field(\n",
    "    tokenize = 'spacy', \n",
    "    tokenizer_language = 'en_core_web_sm')\n",
    "\n",
    "LABEL = torchtext.legacy.data.LabelField(dtype = torch.long)"
   ]
  },
  {
   "cell_type": "code",
   "execution_count": 33,
   "metadata": {},
   "outputs": [],
   "source": [
    "fields = [('rev_notes', TEXT), ('review_flg', LABEL)]\n",
    "\n",
    "dataset = torchtext.legacy.data.TabularDataset(\n",
    "    path = 'df_ratings_short.csv', format = 'csv', \n",
    "    skip_header = True, fields = fields)"
   ]
  },
  {
   "cell_type": "code",
   "execution_count": 34,
   "metadata": {},
   "outputs": [],
   "source": [
    "train_data, test_data = dataset.split(split_ratio = [0.8, 0.2])\n",
    "train_data, val_data = train_data.split(split_ratio = [0.8, 0.2])"
   ]
  },
  {
   "cell_type": "code",
   "execution_count": 42,
   "metadata": {},
   "outputs": [
    {
     "data": {
      "text/plain": [
       "{'rev_notes': ['This',\n",
       "  'was',\n",
       "  'terrible',\n",
       "  '.',\n",
       "  'I',\n",
       "  'wished',\n",
       "  'it',\n",
       "  'was',\n",
       "  'sweet',\n",
       "  ',',\n",
       "  'instead',\n",
       "  'it',\n",
       "  'was',\n",
       "  'a',\n",
       "  'headache',\n",
       "  'in',\n",
       "  'a',\n",
       "  'bottle',\n",
       "  '.',\n",
       "  'What',\n",
       "  'the',\n",
       "  'he',\n",
       "  \"'ll\",\n",
       "  'was',\n",
       "  'Michter',\n",
       "  \"'s\",\n",
       "  'thinking',\n",
       "  '.'],\n",
       " 'review_flg': '0'}"
      ]
     },
     "execution_count": 42,
     "metadata": {},
     "output_type": "execute_result"
    }
   ],
   "source": [
    "vars(train_data.examples[120])"
   ]
  },
  {
   "cell_type": "code",
   "execution_count": 38,
   "metadata": {},
   "outputs": [
    {
     "name": "stdout",
     "output_type": "stream",
     "text": [
      "11148\n"
     ]
    }
   ],
   "source": [
    "print(len(test_data))"
   ]
  },
  {
   "cell_type": "code",
   "execution_count": 8,
   "metadata": {},
   "outputs": [
    {
     "name": "stdout",
     "output_type": "stream",
     "text": [
      "24498\n"
     ]
    }
   ],
   "source": [
    "# token_counts = Counter()\n",
    "# tokenizer = get_tokenizer(\"basic_english\")\n",
    "\n",
    "# for example in df_ratings_short['rev_notes']:\n",
    "#     tokens = tokenizer(example) # string to tokenize\n",
    "#     token_counts.update(tokens)\n",
    "\n",
    "# print(len(token_counts))"
   ]
  },
  {
   "cell_type": "code",
   "execution_count": null,
   "metadata": {},
   "outputs": [],
   "source": []
  },
  {
   "cell_type": "code",
   "execution_count": null,
   "metadata": {},
   "outputs": [],
   "source": [
    "from sklearn.model_selection import train_test_split\n",
    "\n",
    "df_ratings_short_trainval = df_ratings_short.loc[~np.isnan(df_ratings_short['rev_rating']),:].reset_index(drop = True)\n",
    "\n",
    "df_ratings_short_trn, df_ratings_short_val, ratings_short_trn,  ratings_short_val = \\\n",
    "    train_test_split(df_ratings_short_trainval, df_ratings_short_trainval['rev_rating'], test_size=0.30, random_state=42)"
   ]
  },
  {
   "cell_type": "code",
   "execution_count": null,
   "metadata": {},
   "outputs": [],
   "source": []
  },
  {
   "cell_type": "code",
   "execution_count": null,
   "metadata": {},
   "outputs": [],
   "source": []
  },
  {
   "cell_type": "code",
   "execution_count": null,
   "metadata": {},
   "outputs": [],
   "source": []
  },
  {
   "cell_type": "code",
   "execution_count": null,
   "metadata": {
    "scrolled": true
   },
   "outputs": [],
   "source": [
    "str_rand = df_ratings_all['rev_notes'].loc[df_ratings_all['rev_char_len'] == 40].iloc[80]\n",
    "str_rand"
   ]
  },
  {
   "cell_type": "code",
   "execution_count": null,
   "metadata": {},
   "outputs": [],
   "source": [
    "df_ratings_all['rev_notes'][1025]"
   ]
  }
 ],
 "metadata": {
  "kernelspec": {
   "display_name": "Python 3",
   "language": "python",
   "name": "python3"
  },
  "language_info": {
   "codemirror_mode": {
    "name": "ipython",
    "version": 3
   },
   "file_extension": ".py",
   "mimetype": "text/x-python",
   "name": "python",
   "nbconvert_exporter": "python",
   "pygments_lexer": "ipython3",
   "version": "3.8.5"
  }
 },
 "nbformat": 4,
 "nbformat_minor": 4
}
