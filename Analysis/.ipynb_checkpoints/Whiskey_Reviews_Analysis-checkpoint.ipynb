{
 "cells": [
  {
   "cell_type": "code",
   "execution_count": 10,
   "metadata": {},
   "outputs": [],
   "source": [
    "import numpy as np\n",
    "import pandas as pd\n",
    "import csv\n",
    "from scipy import stats\n",
    "import os\n",
    "import datetime\n",
    "import sys\n",
    "import time\n",
    "import random\n",
    "import json\n",
    "import re\n",
    "import pickle\n",
    "# import torch\n",
    "import tensorflow\n",
    "import matplotlib.pyplot as plt\n",
    "from matplotlib.pyplot import figure\n",
    "%matplotlib inline\n",
    "\n",
    "pd.set_option(\"display.max_columns\", 30)"
   ]
  },
  {
   "cell_type": "code",
   "execution_count": 11,
   "metadata": {},
   "outputs": [
    {
     "data": {
      "text/plain": [
       "['american_single_malt_reviews.pkl',\n",
       " 'bourbon_reviews.pkl',\n",
       " 'ireland_whiskey_reviews.pkl',\n",
       " 'japan_whiskey_reviews.pkl',\n",
       " 'rye_reviews.pkl',\n",
       " 'single_malt_peated_reviews.pkl',\n",
       " 'single_malt_reviews.pkl']"
      ]
     },
     "execution_count": 11,
     "metadata": {},
     "output_type": "execute_result"
    }
   ],
   "source": [
    "file_dir = 'C:/Users/aclou/Documents/Projects/Whiskey_Ratings/Datasets/' \n",
    "\n",
    "review_files = [f for f in os.listdir(file_dir) if re.search('.pkl', f) != None]\n",
    "review_files"
   ]
  },
  {
   "cell_type": "code",
   "execution_count": null,
   "metadata": {},
   "outputs": [],
   "source": []
  },
  {
   "cell_type": "code",
   "execution_count": 12,
   "metadata": {},
   "outputs": [],
   "source": [
    "df_revs = pd.DataFrame()"
   ]
  },
  {
   "cell_type": "code",
   "execution_count": 13,
   "metadata": {},
   "outputs": [
    {
     "name": "stdout",
     "output_type": "stream",
     "text": [
      "american_single_malt\n",
      "bourbon\n",
      "ireland_whiskey\n",
      "japan_whiskey\n",
      "rye\n",
      "single_malt_peated\n",
      "single_malt\n"
     ]
    }
   ],
   "source": [
    "for rev_idx in range(len(review_files)):\n",
    "    with open(file_dir + review_files[rev_idx], 'rb') as f:\n",
    "        revs = pickle.load(f)\n",
    "        whisk_type = review_files[rev_idx][0:len(review_files[rev_idx]) - 12] # get the name of whiskey type for review!\n",
    "        print(whisk_type)\n",
    "        for iter in list(revs.keys()):\n",
    "            dict_iter = revs[iter]\n",
    "            vec_name = dict_iter['rev_names']\n",
    "            vec_date = dict_iter['rev_dates']\n",
    "            vec_rating = dict_iter['rev_ratings']\n",
    "            vec_notes = dict_iter['rev_texts']\n",
    "            vec_whisk = [iter] * len(vec_notes)\n",
    "            vec_whisk_type = [whisk_type] * len(vec_notes)\n",
    "            df_revs_iter = pd.DataFrame({'whiskey_type' : vec_whisk_type, 'whiskey_name' : vec_whisk, \n",
    "                                         'reviewer_name' : vec_name, 'review_date' : vec_date, \n",
    "                                         'rev_rating' : vec_rating, 'rev_notes' : vec_rating})\n",
    "            df_revs = df_revs.append(df_revs_iter, ignore_index = False)"
   ]
  },
  {
   "cell_type": "code",
   "execution_count": 14,
   "metadata": {},
   "outputs": [
    {
     "data": {
      "text/plain": [
       "114557"
      ]
     },
     "execution_count": 14,
     "metadata": {},
     "output_type": "execute_result"
    }
   ],
   "source": [
    "len(df_revs)"
   ]
  },
  {
   "cell_type": "code",
   "execution_count": null,
   "metadata": {},
   "outputs": [],
   "source": [
    "# dict_iter = revs[list(revs.keys())[0]]\n",
    "# vec_whisk = [iter] * len(vec_notes)\n",
    "# vec_whisk_type = [whisk_type] * len(vec_notes)\n",
    "# vec_name = dict_iter['rev_names']\n",
    "# vec_date = dict_iter['rev_dates']\n",
    "# vec_rating = dict_iter['rev_ratings']\n",
    "# vec_notes = dict_iter['rev_texts']\n",
    "# df_revs_iter = pd.DataFrame({'whiskey_type' : vec_whisk_type, 'whiskey_name' : vec_whisk, \n",
    "#                              'reviewer_name' : vec_name, 'review_date' : vec_date, \n",
    "#                              'rev_rating' : vec_rating, 'rev_notes' : vec_rating})"
   ]
  },
  {
   "cell_type": "code",
   "execution_count": null,
   "metadata": {},
   "outputs": [],
   "source": []
  },
  {
   "cell_type": "code",
   "execution_count": 16,
   "metadata": {},
   "outputs": [],
   "source": [
    "df_revs.to_csv(file_dir+'whisk_reviews_combined.csv', index = False)"
   ]
  },
  {
   "cell_type": "code",
   "execution_count": null,
   "metadata": {},
   "outputs": [],
   "source": []
  }
 ],
 "metadata": {
  "kernelspec": {
   "display_name": "Python 3",
   "language": "python",
   "name": "python3"
  },
  "language_info": {
   "codemirror_mode": {
    "name": "ipython",
    "version": 3
   },
   "file_extension": ".py",
   "mimetype": "text/x-python",
   "name": "python",
   "nbconvert_exporter": "python",
   "pygments_lexer": "ipython3",
   "version": "3.8.5"
  }
 },
 "nbformat": 4,
 "nbformat_minor": 4
}
