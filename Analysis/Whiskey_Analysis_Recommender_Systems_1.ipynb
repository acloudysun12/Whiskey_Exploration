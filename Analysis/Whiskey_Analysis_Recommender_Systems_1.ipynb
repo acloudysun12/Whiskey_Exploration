{
 "cells": [
  {
   "cell_type": "code",
   "execution_count": 1,
   "metadata": {},
   "outputs": [],
   "source": [
    "import numpy as np\n",
    "import pandas as pd\n",
    "import csv\n",
    "from scipy import stats\n",
    "import os\n",
    "import datetime\n",
    "import sys\n",
    "import time\n",
    "import random\n",
    "import json\n",
    "import re\n",
    "import pickle\n",
    "from collections import Counter\n",
    "import torch\n",
    "import torch.nn.functional as F\n",
    "import torchtext\n",
    "from torchtext.data import get_tokenizer\n",
    "import spacy\n",
    "# import tensorflow as tf\n",
    "# import tensorflow_datasets as tfds\n",
    "import matplotlib.pyplot as plt\n",
    "from matplotlib.pyplot import figure\n",
    "%matplotlib inline\n",
    "\n",
    "pd.set_option(\"display.max_columns\", 30)"
   ]
  },
  {
   "cell_type": "code",
   "execution_count": 2,
   "metadata": {},
   "outputs": [],
   "source": [
    "nlp = spacy.load(\"en_core_web_sm\")"
   ]
  },
  {
   "cell_type": "code",
   "execution_count": 3,
   "metadata": {},
   "outputs": [
    {
     "data": {
      "text/html": [
       "<div>\n",
       "<style scoped>\n",
       "    .dataframe tbody tr th:only-of-type {\n",
       "        vertical-align: middle;\n",
       "    }\n",
       "\n",
       "    .dataframe tbody tr th {\n",
       "        vertical-align: top;\n",
       "    }\n",
       "\n",
       "    .dataframe thead th {\n",
       "        text-align: right;\n",
       "    }\n",
       "</style>\n",
       "<table border=\"1\" class=\"dataframe\">\n",
       "  <thead>\n",
       "    <tr style=\"text-align: right;\">\n",
       "      <th></th>\n",
       "      <th>whiskey_type</th>\n",
       "      <th>whiskey_name</th>\n",
       "      <th>reviewer_name</th>\n",
       "      <th>review_date</th>\n",
       "      <th>rev_rating</th>\n",
       "      <th>rev_notes</th>\n",
       "    </tr>\n",
       "  </thead>\n",
       "  <tbody>\n",
       "    <tr>\n",
       "      <th>0</th>\n",
       "      <td>american_single_malt</td>\n",
       "      <td>STRANAHAN'S COLORADO WHISKEY</td>\n",
       "      <td>elbucko</td>\n",
       "      <td>Tasted December 16, 2021</td>\n",
       "      <td>3.75</td>\n",
       "      <td>Tastes like whiskey, maybe some pear? Great on...</td>\n",
       "    </tr>\n",
       "    <tr>\n",
       "      <th>1</th>\n",
       "      <td>american_single_malt</td>\n",
       "      <td>STRANAHAN'S COLORADO WHISKEY</td>\n",
       "      <td>gmrocks</td>\n",
       "      <td>Tasted December 8, 2021</td>\n",
       "      <td>3.75</td>\n",
       "      <td>This one proved quite popular with group of fr...</td>\n",
       "    </tr>\n",
       "    <tr>\n",
       "      <th>2</th>\n",
       "      <td>american_single_malt</td>\n",
       "      <td>STRANAHAN'S COLORADO WHISKEY</td>\n",
       "      <td>Mark-Willis</td>\n",
       "      <td>Tasted November 27, 2021</td>\n",
       "      <td>4.50</td>\n",
       "      <td>Surprise of the flight consisting of itself Gl...</td>\n",
       "    </tr>\n",
       "    <tr>\n",
       "      <th>3</th>\n",
       "      <td>american_single_malt</td>\n",
       "      <td>STRANAHAN'S COLORADO WHISKEY</td>\n",
       "      <td>Dan-Cordial</td>\n",
       "      <td>Tasted November 13, 2021</td>\n",
       "      <td>3.75</td>\n",
       "      <td>Floral notes</td>\n",
       "    </tr>\n",
       "    <tr>\n",
       "      <th>4</th>\n",
       "      <td>american_single_malt</td>\n",
       "      <td>STRANAHAN'S COLORADO WHISKEY</td>\n",
       "      <td>MoparRocker74</td>\n",
       "      <td>Tasted November 11, 2021</td>\n",
       "      <td>3.75</td>\n",
       "      <td>Really good American single malt. Oaky and Cok...</td>\n",
       "    </tr>\n",
       "  </tbody>\n",
       "</table>\n",
       "</div>"
      ],
      "text/plain": [
       "           whiskey_type                  whiskey_name  reviewer_name  \\\n",
       "0  american_single_malt  STRANAHAN'S COLORADO WHISKEY        elbucko   \n",
       "1  american_single_malt  STRANAHAN'S COLORADO WHISKEY        gmrocks   \n",
       "2  american_single_malt  STRANAHAN'S COLORADO WHISKEY    Mark-Willis   \n",
       "3  american_single_malt  STRANAHAN'S COLORADO WHISKEY    Dan-Cordial   \n",
       "4  american_single_malt  STRANAHAN'S COLORADO WHISKEY  MoparRocker74   \n",
       "\n",
       "                review_date  rev_rating  \\\n",
       "0  Tasted December 16, 2021        3.75   \n",
       "1   Tasted December 8, 2021        3.75   \n",
       "2  Tasted November 27, 2021        4.50   \n",
       "3  Tasted November 13, 2021        3.75   \n",
       "4  Tasted November 11, 2021        3.75   \n",
       "\n",
       "                                           rev_notes  \n",
       "0  Tastes like whiskey, maybe some pear? Great on...  \n",
       "1  This one proved quite popular with group of fr...  \n",
       "2  Surprise of the flight consisting of itself Gl...  \n",
       "3                                       Floral notes  \n",
       "4  Really good American single malt. Oaky and Cok...  "
      ]
     },
     "execution_count": 3,
     "metadata": {},
     "output_type": "execute_result"
    }
   ],
   "source": [
    "################ Read the file, check it out ################\n",
    "\n",
    "file_dir = './' \n",
    "\n",
    "df_ratings_all = pd.read_csv(file_dir + 'whisk_reviews_combined.csv')\n",
    "df_ratings_all.head()"
   ]
  },
  {
   "cell_type": "code",
   "execution_count": null,
   "metadata": {},
   "outputs": [],
   "source": []
  },
  {
   "cell_type": "code",
   "execution_count": null,
   "metadata": {},
   "outputs": [],
   "source": []
  },
  {
   "cell_type": "code",
   "execution_count": null,
   "metadata": {},
   "outputs": [],
   "source": []
  },
  {
   "cell_type": "code",
   "execution_count": null,
   "metadata": {},
   "outputs": [],
   "source": []
  }
 ],
 "metadata": {
  "kernel_info": {
   "name": "python3"
  },
  "kernelspec": {
   "display_name": "Python 3",
   "language": "python",
   "name": "python3"
  },
  "language_info": {
   "codemirror_mode": {
    "name": "ipython",
    "version": 3
   },
   "file_extension": ".py",
   "mimetype": "text/x-python",
   "name": "python",
   "nbconvert_exporter": "python",
   "pygments_lexer": "ipython3",
   "version": "3.8.5"
  },
  "nteract": {
   "version": "nteract-front-end@1.0.0"
  }
 },
 "nbformat": 4,
 "nbformat_minor": 4
}
