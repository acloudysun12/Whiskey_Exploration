{
 "cells": [
  {
   "cell_type": "code",
   "execution_count": 1,
   "metadata": {},
   "outputs": [],
   "source": [
    "import numpy as np\n",
    "import pandas as pd\n",
    "import csv\n",
    "from scipy import stats\n",
    "import os\n",
    "import datetime\n",
    "import statsmodels.api as sm\n",
    "import requests\n",
    "import sys, json\n",
    "import time\n",
    "import random\n",
    "import json\n",
    "import pickle\n",
    "import re"
   ]
  },
  {
   "cell_type": "code",
   "execution_count": 3,
   "metadata": {},
   "outputs": [
    {
     "data": {
      "text/plain": [
       "'/mnt/batch/tasks/shared/LS_root/mounts/clusters/avs-compute-allpurp3/code/Users/asun/Whiskeys/Data_Files/bourbon_main.csv'"
      ]
     },
     "execution_count": 3,
     "metadata": {},
     "output_type": "execute_result"
    }
   ],
   "source": [
    "os.path.join(os.getcwd(), 'Data_Files', 'bourbon_main.csv')"
   ]
  },
  {
   "cell_type": "code",
   "execution_count": 4,
   "metadata": {},
   "outputs": [
    {
     "data": {
      "text/plain": [
       "['american_single_malt',\n",
       " 'bourbon',\n",
       " 'ireland_whiskeys',\n",
       " 'japan_whiskeys',\n",
       " 'rye',\n",
       " 'single_malt',\n",
       " 'single_malt_peated']"
      ]
     },
     "execution_count": 4,
     "metadata": {},
     "output_type": "execute_result"
    }
   ],
   "source": [
    "ls_whisks = ['american_single_malt', 'bourbon', 'ireland_whiskeys', 'japan_whiskeys', 'rye', 'single_malt', 'single_malt_peated']\n",
    "ls_whisks"
   ]
  },
  {
   "cell_type": "markdown",
   "metadata": {},
   "source": [
    "## WHISKEY REVIEWS"
   ]
  },
  {
   "cell_type": "code",
   "execution_count": 5,
   "metadata": {},
   "outputs": [
    {
     "data": {
      "text/html": [
       "<div>\n",
       "<style scoped>\n",
       "    .dataframe tbody tr th:only-of-type {\n",
       "        vertical-align: middle;\n",
       "    }\n",
       "\n",
       "    .dataframe tbody tr th {\n",
       "        vertical-align: top;\n",
       "    }\n",
       "\n",
       "    .dataframe thead th {\n",
       "        text-align: right;\n",
       "    }\n",
       "</style>\n",
       "<table border=\"1\" class=\"dataframe\">\n",
       "  <thead>\n",
       "    <tr style=\"text-align: right;\">\n",
       "      <th></th>\n",
       "      <th>reviewer_name</th>\n",
       "      <th>reviewer_date</th>\n",
       "      <th>reviewer_rating</th>\n",
       "      <th>reviewer_notes</th>\n",
       "      <th>alc_name</th>\n",
       "      <th>alc_type</th>\n",
       "    </tr>\n",
       "  </thead>\n",
       "  <tbody>\n",
       "  </tbody>\n",
       "</table>\n",
       "</div>"
      ],
      "text/plain": [
       "Empty DataFrame\n",
       "Columns: [reviewer_name, reviewer_date, reviewer_rating, reviewer_notes, alc_name, alc_type]\n",
       "Index: []"
      ]
     },
     "execution_count": 5,
     "metadata": {},
     "output_type": "execute_result"
    }
   ],
   "source": [
    "df_combined_revs = pd.DataFrame(columns = ['reviewer_name','reviewer_date', 'reviewer_rating', 'reviewer_notes', 'alc_name', 'alc_type'])\n",
    "df_combined_revs"
   ]
  },
  {
   "cell_type": "code",
   "execution_count": 20,
   "metadata": {},
   "outputs": [],
   "source": [
    "# DATA PREP. READ IN PICKLES + COMBINE INTO CSV\n",
    "\n",
    "for filename in os.listdir(os.path.join(os.getcwd(), 'Data_Files')):\n",
    "    if '.pkl' in filename:\n",
    "        alc_type = filename.replace('_reviews.pkl', '')\n",
    "        with open(os.path.join(os.getcwd(), 'Data_Files', filename), 'rb') as f:\n",
    "            dict_reviews = pickle.load(f)\n",
    "        for key_id in dict_reviews.keys():\n",
    "            df_reviews = pd.DataFrame(dict_reviews[key_id]) \n",
    "            df_reviews.columns = ['reviewer_name','reviewer_date', 'reviewer_rating', 'reviewer_notes']\n",
    "            df_reviews['alc_name'] = key_id\n",
    "            df_reviews['alc_type'] = alc_type\n",
    "            df_combined_revs = pd.concat([df_combined_revs, df_reviews], axis = 0, ignore_index = True)"
   ]
  },
  {
   "cell_type": "code",
   "execution_count": 24,
   "metadata": {},
   "outputs": [
    {
     "name": "stdout",
     "output_type": "stream",
     "text": [
      "(117345, 6)\n"
     ]
    },
    {
     "data": {
      "text/html": [
       "<div>\n",
       "<style scoped>\n",
       "    .dataframe tbody tr th:only-of-type {\n",
       "        vertical-align: middle;\n",
       "    }\n",
       "\n",
       "    .dataframe tbody tr th {\n",
       "        vertical-align: top;\n",
       "    }\n",
       "\n",
       "    .dataframe thead th {\n",
       "        text-align: right;\n",
       "    }\n",
       "</style>\n",
       "<table border=\"1\" class=\"dataframe\">\n",
       "  <thead>\n",
       "    <tr style=\"text-align: right;\">\n",
       "      <th></th>\n",
       "      <th>reviewer_name</th>\n",
       "      <th>reviewer_date</th>\n",
       "      <th>reviewer_rating</th>\n",
       "      <th>reviewer_notes</th>\n",
       "      <th>alc_name</th>\n",
       "      <th>alc_type</th>\n",
       "    </tr>\n",
       "  </thead>\n",
       "  <tbody>\n",
       "    <tr>\n",
       "      <th>0</th>\n",
       "      <td>elbucko</td>\n",
       "      <td>Tasted December 16, 2021</td>\n",
       "      <td>3.75</td>\n",
       "      <td>Tastes like whiskey, maybe some pear? Great on...</td>\n",
       "      <td>STRANAHAN'S COLORADO WHISKEY</td>\n",
       "      <td>american_single_malt</td>\n",
       "    </tr>\n",
       "    <tr>\n",
       "      <th>1</th>\n",
       "      <td>gmrocks</td>\n",
       "      <td>Tasted December 8, 2021</td>\n",
       "      <td>3.75</td>\n",
       "      <td>This one proved quite popular with group of fr...</td>\n",
       "      <td>STRANAHAN'S COLORADO WHISKEY</td>\n",
       "      <td>american_single_malt</td>\n",
       "    </tr>\n",
       "    <tr>\n",
       "      <th>2</th>\n",
       "      <td>Mark-Willis</td>\n",
       "      <td>Tasted November 27, 2021</td>\n",
       "      <td>4.5</td>\n",
       "      <td>Surprise of the flight consisting of itself Gl...</td>\n",
       "      <td>STRANAHAN'S COLORADO WHISKEY</td>\n",
       "      <td>american_single_malt</td>\n",
       "    </tr>\n",
       "    <tr>\n",
       "      <th>3</th>\n",
       "      <td>Dan-Cordial</td>\n",
       "      <td>Tasted November 13, 2021</td>\n",
       "      <td>3.75</td>\n",
       "      <td>Floral notes</td>\n",
       "      <td>STRANAHAN'S COLORADO WHISKEY</td>\n",
       "      <td>american_single_malt</td>\n",
       "    </tr>\n",
       "    <tr>\n",
       "      <th>4</th>\n",
       "      <td>MoparRocker74</td>\n",
       "      <td>Tasted November 11, 2021</td>\n",
       "      <td>3.75</td>\n",
       "      <td>Really good American single malt. Oaky and Cok...</td>\n",
       "      <td>STRANAHAN'S COLORADO WHISKEY</td>\n",
       "      <td>american_single_malt</td>\n",
       "    </tr>\n",
       "  </tbody>\n",
       "</table>\n",
       "</div>"
      ],
      "text/plain": [
       "   reviewer_name             reviewer_date reviewer_rating  \\\n",
       "0        elbucko  Tasted December 16, 2021            3.75   \n",
       "1        gmrocks   Tasted December 8, 2021            3.75   \n",
       "2    Mark-Willis  Tasted November 27, 2021             4.5   \n",
       "3    Dan-Cordial  Tasted November 13, 2021            3.75   \n",
       "4  MoparRocker74  Tasted November 11, 2021            3.75   \n",
       "\n",
       "                                      reviewer_notes  \\\n",
       "0  Tastes like whiskey, maybe some pear? Great on...   \n",
       "1  This one proved quite popular with group of fr...   \n",
       "2  Surprise of the flight consisting of itself Gl...   \n",
       "3                                       Floral notes   \n",
       "4  Really good American single malt. Oaky and Cok...   \n",
       "\n",
       "                       alc_name              alc_type  \n",
       "0  STRANAHAN'S COLORADO WHISKEY  american_single_malt  \n",
       "1  STRANAHAN'S COLORADO WHISKEY  american_single_malt  \n",
       "2  STRANAHAN'S COLORADO WHISKEY  american_single_malt  \n",
       "3  STRANAHAN'S COLORADO WHISKEY  american_single_malt  \n",
       "4  STRANAHAN'S COLORADO WHISKEY  american_single_malt  "
      ]
     },
     "execution_count": 24,
     "metadata": {},
     "output_type": "execute_result"
    }
   ],
   "source": [
    "print(df_combined_revs.shape)\n",
    "df_combined_revs.head()"
   ]
  },
  {
   "cell_type": "code",
   "execution_count": 22,
   "metadata": {},
   "outputs": [],
   "source": [
    "df_combined_revs.to_csv(os.path.join(os.getcwd(), 'Data_Files', 'whisk_reviews_combined.csv'), index = False)"
   ]
  },
  {
   "cell_type": "markdown",
   "metadata": {},
   "source": [
    "<br>"
   ]
  },
  {
   "cell_type": "markdown",
   "metadata": {},
   "source": [
    "## WHISKEY PROFILES"
   ]
  },
  {
   "cell_type": "code",
   "execution_count": 41,
   "metadata": {},
   "outputs": [
    {
     "data": {
      "text/html": [
       "<div>\n",
       "<style scoped>\n",
       "    .dataframe tbody tr th:only-of-type {\n",
       "        vertical-align: middle;\n",
       "    }\n",
       "\n",
       "    .dataframe tbody tr th {\n",
       "        vertical-align: top;\n",
       "    }\n",
       "\n",
       "    .dataframe thead th {\n",
       "        text-align: right;\n",
       "    }\n",
       "</style>\n",
       "<table border=\"1\" class=\"dataframe\">\n",
       "  <thead>\n",
       "    <tr style=\"text-align: right;\">\n",
       "      <th></th>\n",
       "      <th>Whisk_Name</th>\n",
       "      <th>URL</th>\n",
       "      <th>Num_Revs</th>\n",
       "      <th>Brand</th>\n",
       "      <th>Cost</th>\n",
       "      <th>Age</th>\n",
       "      <th>ABV</th>\n",
       "      <th>Flavor</th>\n",
       "      <th>Profile</th>\n",
       "    </tr>\n",
       "  </thead>\n",
       "  <tbody>\n",
       "  </tbody>\n",
       "</table>\n",
       "</div>"
      ],
      "text/plain": [
       "Empty DataFrame\n",
       "Columns: [Whisk_Name, URL, Num_Revs, Brand, Cost, Age, ABV, Flavor, Profile]\n",
       "Index: []"
      ]
     },
     "execution_count": 41,
     "metadata": {},
     "output_type": "execute_result"
    }
   ],
   "source": [
    "df_combined_profs = pd.DataFrame(columns = ['Whisk_Name', 'URL', 'Num_Revs', 'Brand', 'Cost', 'Age', 'ABV', 'Flavor', 'Profile'])\n",
    "df_combined_profs"
   ]
  },
  {
   "cell_type": "code",
   "execution_count": 42,
   "metadata": {},
   "outputs": [],
   "source": [
    "# DATA PREP. READ IN PICKLES + COMBINE INTO CSV\n",
    "\n",
    "for filename in os.listdir(os.path.join(os.getcwd(), 'Data_Files')):\n",
    "    if '_profiles.csv' in filename:\n",
    "        df_profile = pd.read_csv(os.path.join(os.getcwd(), 'Data_Files', filename))\n",
    "        df_combined_profs = pd.concat([df_combined_profs, df_profile], axis = 0, ignore_index = True, sort = False).reset_index(drop = True)"
   ]
  },
  {
   "cell_type": "code",
   "execution_count": 43,
   "metadata": {},
   "outputs": [
    {
     "data": {
      "text/html": [
       "<div>\n",
       "<style scoped>\n",
       "    .dataframe tbody tr th:only-of-type {\n",
       "        vertical-align: middle;\n",
       "    }\n",
       "\n",
       "    .dataframe tbody tr th {\n",
       "        vertical-align: top;\n",
       "    }\n",
       "\n",
       "    .dataframe thead th {\n",
       "        text-align: right;\n",
       "    }\n",
       "</style>\n",
       "<table border=\"1\" class=\"dataframe\">\n",
       "  <thead>\n",
       "    <tr style=\"text-align: right;\">\n",
       "      <th></th>\n",
       "      <th>Whisk_Name</th>\n",
       "      <th>URL</th>\n",
       "      <th>Num_Revs</th>\n",
       "      <th>Brand</th>\n",
       "      <th>Cost</th>\n",
       "      <th>Age</th>\n",
       "      <th>ABV</th>\n",
       "      <th>Flavor</th>\n",
       "      <th>Profile</th>\n",
       "    </tr>\n",
       "  </thead>\n",
       "  <tbody>\n",
       "    <tr>\n",
       "      <th>0</th>\n",
       "      <td>STRANAHAN'S COLORADO WHISKEY</td>\n",
       "      <td>https://distiller.com/spirits/stranahan-s-colo...</td>\n",
       "      <td>1159</td>\n",
       "      <td>Stranahan's</td>\n",
       "      <td>spirit-cost cost-3</td>\n",
       "      <td>NaN</td>\n",
       "      <td>47.0</td>\n",
       "      <td>OILY</td>\n",
       "      <td>{\"smoky\":30,\"peaty\":0,\"spicy\":50,\"herbal\":0,\"o...</td>\n",
       "    </tr>\n",
       "    <tr>\n",
       "      <th>1</th>\n",
       "      <td>BALCONES TEXAS SINGLE MALT</td>\n",
       "      <td>https://distiller.com/spirits/balcones-texas-s...</td>\n",
       "      <td>915</td>\n",
       "      <td>Balcones</td>\n",
       "      <td>spirit-cost cost-4</td>\n",
       "      <td>NAS</td>\n",
       "      <td>52.5</td>\n",
       "      <td>RICH &amp; FULL BODIED</td>\n",
       "      <td>{\"smoky\":5,\"peaty\":0,\"spicy\":20,\"herbal\":0,\"oi...</td>\n",
       "    </tr>\n",
       "    <tr>\n",
       "      <th>2</th>\n",
       "      <td>WESTLAND AMERICAN OAK AMERICAN SINGLE MALT</td>\n",
       "      <td>https://distiller.com/spirits/westland-america...</td>\n",
       "      <td>423</td>\n",
       "      <td>Westland</td>\n",
       "      <td>spirit-cost cost-2</td>\n",
       "      <td>NAS</td>\n",
       "      <td>46.0</td>\n",
       "      <td>VANILLA &amp; SWEET</td>\n",
       "      <td>{\"smoky\":40,\"peaty\":0,\"spicy\":60,\"herbal\":60,\"...</td>\n",
       "    </tr>\n",
       "    <tr>\n",
       "      <th>3</th>\n",
       "      <td>CORSAIR TRIPLE SMOKE AMERICAN SINGLE MALT</td>\n",
       "      <td>https://distiller.com/spirits/corsair-triple-s...</td>\n",
       "      <td>312</td>\n",
       "      <td>Corsair</td>\n",
       "      <td>spirit-cost cost-2</td>\n",
       "      <td>NAS</td>\n",
       "      <td>40.0</td>\n",
       "      <td>TART</td>\n",
       "      <td>{\"smoky\":40,\"peaty\":25,\"spicy\":30,\"herbal\":40,...</td>\n",
       "    </tr>\n",
       "    <tr>\n",
       "      <th>4</th>\n",
       "      <td>STRANAHAN'S DIAMOND PEAK (OLD RECIPE)</td>\n",
       "      <td>https://distiller.com/spirits/stranahan-s-diam...</td>\n",
       "      <td>306</td>\n",
       "      <td>Stranahan's</td>\n",
       "      <td>spirit-cost cost-3</td>\n",
       "      <td>NAS</td>\n",
       "      <td>47.0</td>\n",
       "      <td>RICH &amp; FULL BODIED</td>\n",
       "      <td>{\"smoky\":50,\"peaty\":0,\"spicy\":60,\"herbal\":10,\"...</td>\n",
       "    </tr>\n",
       "  </tbody>\n",
       "</table>\n",
       "</div>"
      ],
      "text/plain": [
       "                                   Whisk_Name  \\\n",
       "0                STRANAHAN'S COLORADO WHISKEY   \n",
       "1                  BALCONES TEXAS SINGLE MALT   \n",
       "2  WESTLAND AMERICAN OAK AMERICAN SINGLE MALT   \n",
       "3   CORSAIR TRIPLE SMOKE AMERICAN SINGLE MALT   \n",
       "4       STRANAHAN'S DIAMOND PEAK (OLD RECIPE)   \n",
       "\n",
       "                                                 URL Num_Revs        Brand  \\\n",
       "0  https://distiller.com/spirits/stranahan-s-colo...     1159  Stranahan's   \n",
       "1  https://distiller.com/spirits/balcones-texas-s...      915     Balcones   \n",
       "2  https://distiller.com/spirits/westland-america...      423    Westland    \n",
       "3  https://distiller.com/spirits/corsair-triple-s...      312      Corsair   \n",
       "4  https://distiller.com/spirits/stranahan-s-diam...      306  Stranahan's   \n",
       "\n",
       "                 Cost  Age   ABV              Flavor  \\\n",
       "0  spirit-cost cost-3  NaN  47.0                OILY   \n",
       "1  spirit-cost cost-4  NAS  52.5  RICH & FULL BODIED   \n",
       "2  spirit-cost cost-2  NAS  46.0     VANILLA & SWEET   \n",
       "3  spirit-cost cost-2  NAS  40.0                TART   \n",
       "4  spirit-cost cost-3  NAS  47.0  RICH & FULL BODIED   \n",
       "\n",
       "                                             Profile  \n",
       "0  {\"smoky\":30,\"peaty\":0,\"spicy\":50,\"herbal\":0,\"o...  \n",
       "1  {\"smoky\":5,\"peaty\":0,\"spicy\":20,\"herbal\":0,\"oi...  \n",
       "2  {\"smoky\":40,\"peaty\":0,\"spicy\":60,\"herbal\":60,\"...  \n",
       "3  {\"smoky\":40,\"peaty\":25,\"spicy\":30,\"herbal\":40,...  \n",
       "4  {\"smoky\":50,\"peaty\":0,\"spicy\":60,\"herbal\":10,\"...  "
      ]
     },
     "execution_count": 43,
     "metadata": {},
     "output_type": "execute_result"
    }
   ],
   "source": [
    "df_combined_profs.head()"
   ]
  },
  {
   "cell_type": "code",
   "execution_count": 44,
   "metadata": {},
   "outputs": [],
   "source": [
    "df_combined_profs.to_csv(os.path.join(os.getcwd(), 'Data_Files', 'df_whisk_profiles_all.csv'), index = False) # TO PREVENT PICKING UP BY THIS SCRIPT IN FUTURE"
   ]
  },
  {
   "cell_type": "markdown",
   "metadata": {},
   "source": [
    "<br>"
   ]
  },
  {
   "cell_type": "markdown",
   "metadata": {},
   "source": [
    "## WHISKEY MAINS"
   ]
  },
  {
   "cell_type": "code",
   "execution_count": 45,
   "metadata": {},
   "outputs": [
    {
     "data": {
      "text/html": [
       "<div>\n",
       "<style scoped>\n",
       "    .dataframe tbody tr th:only-of-type {\n",
       "        vertical-align: middle;\n",
       "    }\n",
       "\n",
       "    .dataframe tbody tr th {\n",
       "        vertical-align: top;\n",
       "    }\n",
       "\n",
       "    .dataframe thead th {\n",
       "        text-align: right;\n",
       "    }\n",
       "</style>\n",
       "<table border=\"1\" class=\"dataframe\">\n",
       "  <thead>\n",
       "    <tr style=\"text-align: right;\">\n",
       "      <th></th>\n",
       "      <th>Whisk_Name</th>\n",
       "      <th>URL</th>\n",
       "      <th>Num_Revs</th>\n",
       "      <th>Brand</th>\n",
       "      <th>Cost</th>\n",
       "      <th>Age</th>\n",
       "      <th>ABV</th>\n",
       "      <th>Flavor</th>\n",
       "      <th>Profile</th>\n",
       "    </tr>\n",
       "  </thead>\n",
       "  <tbody>\n",
       "  </tbody>\n",
       "</table>\n",
       "</div>"
      ],
      "text/plain": [
       "Empty DataFrame\n",
       "Columns: [Whisk_Name, URL, Num_Revs, Brand, Cost, Age, ABV, Flavor, Profile]\n",
       "Index: []"
      ]
     },
     "execution_count": 45,
     "metadata": {},
     "output_type": "execute_result"
    }
   ],
   "source": [
    "df_combined_main = pd.DataFrame(columns = ['Whisk_Name', 'URL', 'Num_Revs', 'Brand', 'Cost', 'Age', 'ABV', 'Flavor', 'Profile'])\n",
    "df_combined_main"
   ]
  },
  {
   "cell_type": "code",
   "execution_count": 46,
   "metadata": {},
   "outputs": [],
   "source": [
    "# DATA PREP. READ IN PICKLES + COMBINE INTO CSV\n",
    "\n",
    "for filename in os.listdir(os.path.join(os.getcwd(), 'Data_Files')):\n",
    "    if '_main.csv' in filename:\n",
    "        df_main = pd.read_csv(os.path.join(os.getcwd(), 'Data_Files', filename))\n",
    "        df_combined_main = pd.concat([df_combined_main, df_main], axis = 0, ignore_index = True, sort = False).reset_index(drop = True)"
   ]
  },
  {
   "cell_type": "code",
   "execution_count": 47,
   "metadata": {
    "scrolled": true
   },
   "outputs": [
    {
     "data": {
      "text/html": [
       "<div>\n",
       "<style scoped>\n",
       "    .dataframe tbody tr th:only-of-type {\n",
       "        vertical-align: middle;\n",
       "    }\n",
       "\n",
       "    .dataframe tbody tr th {\n",
       "        vertical-align: top;\n",
       "    }\n",
       "\n",
       "    .dataframe thead th {\n",
       "        text-align: right;\n",
       "    }\n",
       "</style>\n",
       "<table border=\"1\" class=\"dataframe\">\n",
       "  <thead>\n",
       "    <tr style=\"text-align: right;\">\n",
       "      <th></th>\n",
       "      <th>Whisk_Name</th>\n",
       "      <th>URL</th>\n",
       "      <th>Num_Revs</th>\n",
       "      <th>Brand</th>\n",
       "      <th>Cost</th>\n",
       "      <th>Age</th>\n",
       "      <th>ABV</th>\n",
       "      <th>Flavor</th>\n",
       "      <th>Profile</th>\n",
       "      <th>Whisk_Type</th>\n",
       "      <th>Whisk_Loc</th>\n",
       "      <th>Communal_Rating</th>\n",
       "      <th>Distiller_Score</th>\n",
       "    </tr>\n",
       "  </thead>\n",
       "  <tbody>\n",
       "    <tr>\n",
       "      <th>0</th>\n",
       "      <td>STRANAHAN'S COLORADO WHISKEY</td>\n",
       "      <td>https://distiller.com/spirits/stranahan-s-colo...</td>\n",
       "      <td>NaN</td>\n",
       "      <td>NaN</td>\n",
       "      <td>NaN</td>\n",
       "      <td>NaN</td>\n",
       "      <td>NaN</td>\n",
       "      <td>NaN</td>\n",
       "      <td>NaN</td>\n",
       "      <td>American Single Malt</td>\n",
       "      <td>Colorado, USA</td>\n",
       "      <td>3.70</td>\n",
       "      <td>88.0</td>\n",
       "    </tr>\n",
       "    <tr>\n",
       "      <th>1</th>\n",
       "      <td>BALCONES TEXAS SINGLE MALT</td>\n",
       "      <td>https://distiller.com/spirits/balcones-texas-s...</td>\n",
       "      <td>NaN</td>\n",
       "      <td>NaN</td>\n",
       "      <td>NaN</td>\n",
       "      <td>NaN</td>\n",
       "      <td>NaN</td>\n",
       "      <td>NaN</td>\n",
       "      <td>NaN</td>\n",
       "      <td>American Single Malt</td>\n",
       "      <td>Texas, USA</td>\n",
       "      <td>3.99</td>\n",
       "      <td>92.0</td>\n",
       "    </tr>\n",
       "    <tr>\n",
       "      <th>2</th>\n",
       "      <td>WESTLAND AMERICAN OAK AMERICAN SINGLE MALT</td>\n",
       "      <td>https://distiller.com/spirits/westland-america...</td>\n",
       "      <td>NaN</td>\n",
       "      <td>NaN</td>\n",
       "      <td>NaN</td>\n",
       "      <td>NaN</td>\n",
       "      <td>NaN</td>\n",
       "      <td>NaN</td>\n",
       "      <td>NaN</td>\n",
       "      <td>American Single Malt</td>\n",
       "      <td>Washington , USA</td>\n",
       "      <td>3.74</td>\n",
       "      <td>89.0</td>\n",
       "    </tr>\n",
       "    <tr>\n",
       "      <th>3</th>\n",
       "      <td>CORSAIR TRIPLE SMOKE AMERICAN SINGLE MALT</td>\n",
       "      <td>https://distiller.com/spirits/corsair-triple-s...</td>\n",
       "      <td>NaN</td>\n",
       "      <td>NaN</td>\n",
       "      <td>NaN</td>\n",
       "      <td>NaN</td>\n",
       "      <td>NaN</td>\n",
       "      <td>NaN</td>\n",
       "      <td>NaN</td>\n",
       "      <td>American Single Malt</td>\n",
       "      <td>Tennessee, USA</td>\n",
       "      <td>3.67</td>\n",
       "      <td>83.0</td>\n",
       "    </tr>\n",
       "    <tr>\n",
       "      <th>4</th>\n",
       "      <td>STRANAHAN'S DIAMOND PEAK (OLD RECIPE)</td>\n",
       "      <td>https://distiller.com/spirits/stranahan-s-diam...</td>\n",
       "      <td>NaN</td>\n",
       "      <td>NaN</td>\n",
       "      <td>NaN</td>\n",
       "      <td>NaN</td>\n",
       "      <td>NaN</td>\n",
       "      <td>NaN</td>\n",
       "      <td>NaN</td>\n",
       "      <td>American Single Malt</td>\n",
       "      <td>Colorado, USA</td>\n",
       "      <td>3.88</td>\n",
       "      <td>85.0</td>\n",
       "    </tr>\n",
       "  </tbody>\n",
       "</table>\n",
       "</div>"
      ],
      "text/plain": [
       "                                   Whisk_Name  \\\n",
       "0                STRANAHAN'S COLORADO WHISKEY   \n",
       "1                  BALCONES TEXAS SINGLE MALT   \n",
       "2  WESTLAND AMERICAN OAK AMERICAN SINGLE MALT   \n",
       "3   CORSAIR TRIPLE SMOKE AMERICAN SINGLE MALT   \n",
       "4       STRANAHAN'S DIAMOND PEAK (OLD RECIPE)   \n",
       "\n",
       "                                                 URL Num_Revs Brand Cost  Age  \\\n",
       "0  https://distiller.com/spirits/stranahan-s-colo...      NaN   NaN  NaN  NaN   \n",
       "1  https://distiller.com/spirits/balcones-texas-s...      NaN   NaN  NaN  NaN   \n",
       "2  https://distiller.com/spirits/westland-america...      NaN   NaN  NaN  NaN   \n",
       "3  https://distiller.com/spirits/corsair-triple-s...      NaN   NaN  NaN  NaN   \n",
       "4  https://distiller.com/spirits/stranahan-s-diam...      NaN   NaN  NaN  NaN   \n",
       "\n",
       "   ABV Flavor Profile            Whisk_Type         Whisk_Loc  \\\n",
       "0  NaN    NaN     NaN  American Single Malt     Colorado, USA   \n",
       "1  NaN    NaN     NaN  American Single Malt        Texas, USA   \n",
       "2  NaN    NaN     NaN  American Single Malt  Washington , USA   \n",
       "3  NaN    NaN     NaN  American Single Malt    Tennessee, USA   \n",
       "4  NaN    NaN     NaN  American Single Malt     Colorado, USA   \n",
       "\n",
       "   Communal_Rating  Distiller_Score  \n",
       "0             3.70             88.0  \n",
       "1             3.99             92.0  \n",
       "2             3.74             89.0  \n",
       "3             3.67             83.0  \n",
       "4             3.88             85.0  "
      ]
     },
     "execution_count": 47,
     "metadata": {},
     "output_type": "execute_result"
    }
   ],
   "source": [
    "df_combined_main.head()"
   ]
  },
  {
   "cell_type": "code",
   "execution_count": 48,
   "metadata": {},
   "outputs": [],
   "source": [
    "df_combined_main.to_csv(os.path.join(os.getcwd(), 'Data_Files', 'df_whisk_main_all.csv'), index = False) # TO PREVENT PICKING UP BY THIS SCRIPT IN FUTURE"
   ]
  }
 ],
 "metadata": {
  "kernel_info": {
   "name": "python3"
  },
  "kernelspec": {
   "display_name": "Python 3 (ipykernel)",
   "language": "python",
   "name": "python3"
  },
  "language_info": {
   "codemirror_mode": {
    "name": "ipython",
    "version": 3
   },
   "file_extension": ".py",
   "mimetype": "text/x-python",
   "name": "python",
   "nbconvert_exporter": "python",
   "pygments_lexer": "ipython3",
   "version": "3.8.5"
  },
  "nteract": {
   "version": "nteract-front-end@1.0.0"
  }
 },
 "nbformat": 4,
 "nbformat_minor": 4
}
