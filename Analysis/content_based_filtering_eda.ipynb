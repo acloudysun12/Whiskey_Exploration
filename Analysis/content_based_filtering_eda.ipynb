{
 "cells": [
  {
   "cell_type": "code",
   "execution_count": 1,
   "metadata": {},
   "outputs": [],
   "source": [
    "import numpy as np\n",
    "import pandas as pd\n",
    "import csv\n",
    "from scipy import stats\n",
    "import os\n",
    "import datetime\n",
    "import sys\n",
    "import time\n",
    "import random\n",
    "import json\n",
    "import re\n",
    "import pickle\n",
    "from collections import Counter\n",
    "import spacy\n",
    "import datetime as dt\n",
    "import matplotlib.pyplot as plt\n",
    "from matplotlib.pyplot import figure\n",
    "%matplotlib inline\n",
    "\n",
    "from surprise import Dataset, Reader\n",
    "from surprise import KNNWithMeans\n",
    "from surprise.model_selection.split import train_test_split\n",
    "from sklearn.feature_extraction.text import TfidfVectorizer\n",
    "from sklearn.metrics.pairwise import cosine_similarity"
   ]
  },
  {
   "cell_type": "code",
   "execution_count": 2,
   "metadata": {},
   "outputs": [],
   "source": [
    "nlp = spacy.load(\"en_core_web_sm\")\n",
    "nlp.Defaults.stop_words.remove(\"full\") # want to remove the word 'full' because 'full-bodied' is common\n",
    "nlp.vocab[\"full\"].is_stop = False # actually changes the characterization of the word \"full\""
   ]
  },
  {
   "cell_type": "code",
   "execution_count": 3,
   "metadata": {},
   "outputs": [
    {
     "data": {
      "text/plain": [
       "'/mnt/batch/tasks/shared/LS_root/mounts/clusters/avs-fallback-comp1/code/Users/asun/Whiskeys/Recommenders'"
      ]
     },
     "execution_count": 3,
     "metadata": {},
     "output_type": "execute_result"
    }
   ],
   "source": [
    "os.getcwd()"
   ]
  },
  {
   "cell_type": "markdown",
   "metadata": {},
   "source": [
    "<br>"
   ]
  },
  {
   "cell_type": "code",
   "execution_count": 4,
   "metadata": {},
   "outputs": [
    {
     "data": {
      "text/plain": [
       "'\\nhttps://www.offerzen.com/blog/how-to-build-a-content-based-recommender-system-for-your-product\\nhttps://towardsdatascience.com/how-to-build-from-scratch-a-content-based-movie-recommender-with-natural-language-processing-25ad400eb243\\nhttps://towardsdatascience.com/hands-on-content-based-recommender-system-using-python-1d643bf314e4\\nhttps://towardsdatascience.com/introduction-to-two-approaches-of-content-based-recommendation-system-fc797460c18c \\nhttps://towardsdatascience.com/lovecraft-with-natural-language-processing-part-3-tf-idf-vectors-8c2d4df98621 \\n'"
      ]
     },
     "execution_count": 4,
     "metadata": {},
     "output_type": "execute_result"
    }
   ],
   "source": [
    "'''\n",
    "https://www.offerzen.com/blog/how-to-build-a-content-based-recommender-system-for-your-product\n",
    "https://towardsdatascience.com/how-to-build-from-scratch-a-content-based-movie-recommender-with-natural-language-processing-25ad400eb243\n",
    "https://towardsdatascience.com/hands-on-content-based-recommender-system-using-python-1d643bf314e4\n",
    "https://towardsdatascience.com/introduction-to-two-approaches-of-content-based-recommendation-system-fc797460c18c \n",
    "https://towardsdatascience.com/lovecraft-with-natural-language-processing-part-3-tf-idf-vectors-8c2d4df98621 \n",
    "https://medium.com/@toprak.mhmt/content-based-recommender-system-bdfc60b1bee8\n",
    "'''"
   ]
  },
  {
   "cell_type": "markdown",
   "metadata": {},
   "source": [
    "## READ FILES AND INITIAL EXPLORE / TRANSFORM AND MAKE SURPRISE DS"
   ]
  },
  {
   "cell_type": "code",
   "execution_count": 5,
   "metadata": {
    "scrolled": true
   },
   "outputs": [
    {
     "name": "stdout",
     "output_type": "stream",
     "text": [
      "(110610, 6)\n"
     ]
    },
    {
     "data": {
      "text/html": [
       "<div>\n",
       "<style scoped>\n",
       "    .dataframe tbody tr th:only-of-type {\n",
       "        vertical-align: middle;\n",
       "    }\n",
       "\n",
       "    .dataframe tbody tr th {\n",
       "        vertical-align: top;\n",
       "    }\n",
       "\n",
       "    .dataframe thead th {\n",
       "        text-align: right;\n",
       "    }\n",
       "</style>\n",
       "<table border=\"1\" class=\"dataframe\">\n",
       "  <thead>\n",
       "    <tr style=\"text-align: right;\">\n",
       "      <th></th>\n",
       "      <th>reviewer_name</th>\n",
       "      <th>reviewer_date</th>\n",
       "      <th>alc_name</th>\n",
       "      <th>alc_type</th>\n",
       "      <th>latest_avg_rating</th>\n",
       "      <th>latest_rev_date</th>\n",
       "    </tr>\n",
       "  </thead>\n",
       "  <tbody>\n",
       "    <tr>\n",
       "      <th>0</th>\n",
       "      <td>----------451</td>\n",
       "      <td>Tasted March 2, 2021</td>\n",
       "      <td>HIGHLAND PARK 12 YEAR</td>\n",
       "      <td>single_malt_peated</td>\n",
       "      <td>3.75</td>\n",
       "      <td>2021-03-02</td>\n",
       "    </tr>\n",
       "    <tr>\n",
       "      <th>1</th>\n",
       "      <td>----------451</td>\n",
       "      <td>Tasted March 12, 2021</td>\n",
       "      <td>THE POGUES IRISH WHISKEY</td>\n",
       "      <td>ireland_whiskey</td>\n",
       "      <td>2.50</td>\n",
       "      <td>2021-03-12</td>\n",
       "    </tr>\n",
       "    <tr>\n",
       "      <th>2</th>\n",
       "      <td>----------451</td>\n",
       "      <td>Tasted May 12, 2021</td>\n",
       "      <td>DALMORE 12 YEAR SHERRY CASK SELECT</td>\n",
       "      <td>single_malt</td>\n",
       "      <td>4.25</td>\n",
       "      <td>2021-05-12</td>\n",
       "    </tr>\n",
       "    <tr>\n",
       "      <th>3</th>\n",
       "      <td>----------96</td>\n",
       "      <td>Tasted December 29, 2017</td>\n",
       "      <td>LAPHROAIG FOUR OAK</td>\n",
       "      <td>single_malt_peated</td>\n",
       "      <td>5.00</td>\n",
       "      <td>2017-12-29</td>\n",
       "    </tr>\n",
       "    <tr>\n",
       "      <th>4</th>\n",
       "      <td>----------96</td>\n",
       "      <td>Tasted January 28, 2018</td>\n",
       "      <td>NIKKA BLENDED</td>\n",
       "      <td>japan_whiskey</td>\n",
       "      <td>2.00</td>\n",
       "      <td>2018-01-28</td>\n",
       "    </tr>\n",
       "  </tbody>\n",
       "</table>\n",
       "</div>"
      ],
      "text/plain": [
       "   reviewer_name             reviewer_date  \\\n",
       "0  ----------451      Tasted March 2, 2021   \n",
       "1  ----------451     Tasted March 12, 2021   \n",
       "2  ----------451       Tasted May 12, 2021   \n",
       "3   ----------96  Tasted December 29, 2017   \n",
       "4   ----------96   Tasted January 28, 2018   \n",
       "\n",
       "                             alc_name            alc_type  latest_avg_rating  \\\n",
       "0               HIGHLAND PARK 12 YEAR  single_malt_peated               3.75   \n",
       "1            THE POGUES IRISH WHISKEY     ireland_whiskey               2.50   \n",
       "2  DALMORE 12 YEAR SHERRY CASK SELECT         single_malt               4.25   \n",
       "3                  LAPHROAIG FOUR OAK  single_malt_peated               5.00   \n",
       "4                       NIKKA BLENDED       japan_whiskey               2.00   \n",
       "\n",
       "  latest_rev_date  \n",
       "0      2021-03-02  \n",
       "1      2021-03-12  \n",
       "2      2021-05-12  \n",
       "3      2017-12-29  \n",
       "4      2018-01-28  "
      ]
     },
     "execution_count": 5,
     "metadata": {},
     "output_type": "execute_result"
    }
   ],
   "source": [
    "file_dir = '../Data_Files/' \n",
    "\n",
    "df_revs_rec = pd.read_csv(file_dir + 'whisk_reviews_recommender.csv')\n",
    "print(df_revs_rec.shape)\n",
    "df_revs_rec.head()"
   ]
  },
  {
   "cell_type": "code",
   "execution_count": 6,
   "metadata": {},
   "outputs": [],
   "source": [
    "df_revs_rec['rev_ct'] = 1\n",
    "df_revs_rec['rev_ct'] = df_revs_rec.groupby('reviewer_name')['rev_ct'].transform(sum)\n",
    "\n",
    "# UNFORTUNATELY, NEED TO REMOVE REVIEWERS WITH <=2 TOTAL REVIEWS\n",
    "df_revs_rec = df_revs_rec.loc[df_revs_rec['rev_ct'] >= 3]"
   ]
  },
  {
   "cell_type": "code",
   "execution_count": 7,
   "metadata": {},
   "outputs": [
    {
     "name": "stdout",
     "output_type": "stream",
     "text": [
      "<class 'surprise.dataset.DatasetAutoFolds'>\n",
      "<class 'surprise.trainset.Trainset'>\n",
      "<class 'list'>\n"
     ]
    }
   ],
   "source": [
    "# PACKAGE CALLED SURPRISE\n",
    "reader = Reader(rating_scale=(0, 5))\n",
    "\n",
    "# Loads Pandas dataframe\n",
    "ds_revs_rec = Dataset.load_from_df(df_revs_rec[[\"reviewer_name\", \"alc_name\", \"latest_avg_rating\"]], reader)\n",
    "print(type(ds_revs_rec))\n",
    "\n",
    "# SET THE RANDOM SEED FOR REPRODUCIBILITY\n",
    "np.random.seed(776926)\n",
    "\n",
    "# BREAK OUT INTO TRAINING, TEST\n",
    "trainset, testset = train_test_split(ds_revs_rec, test_size=0.2)\n",
    "print(type(trainset))\n",
    "print(type(testset))"
   ]
  },
  {
   "cell_type": "code",
   "execution_count": 8,
   "metadata": {},
   "outputs": [
    {
     "data": {
      "text/html": [
       "<div>\n",
       "<style scoped>\n",
       "    .dataframe tbody tr th:only-of-type {\n",
       "        vertical-align: middle;\n",
       "    }\n",
       "\n",
       "    .dataframe tbody tr th {\n",
       "        vertical-align: top;\n",
       "    }\n",
       "\n",
       "    .dataframe thead th {\n",
       "        text-align: right;\n",
       "    }\n",
       "</style>\n",
       "<table border=\"1\" class=\"dataframe\">\n",
       "  <thead>\n",
       "    <tr style=\"text-align: right;\">\n",
       "      <th></th>\n",
       "      <th>uid</th>\n",
       "      <th>iid</th>\n",
       "      <th>act</th>\n",
       "    </tr>\n",
       "  </thead>\n",
       "  <tbody>\n",
       "    <tr>\n",
       "      <th>68899</th>\n",
       "      <td>Jim-Callahan</td>\n",
       "      <td>JAMESON THE DISTILLER'S SAFE</td>\n",
       "      <td>3.75</td>\n",
       "    </tr>\n",
       "    <tr>\n",
       "      <th>12441</th>\n",
       "      <td>Alicia-D</td>\n",
       "      <td>ELIJAH CRAIG TOASTED BARREL BOURBON</td>\n",
       "      <td>4.25</td>\n",
       "    </tr>\n",
       "    <tr>\n",
       "      <th>62864</th>\n",
       "      <td>Whiskey_Pete</td>\n",
       "      <td>CONNEMARA CASK STRENGTH PEATED SINGLE MALT</td>\n",
       "      <td>3.00</td>\n",
       "    </tr>\n",
       "    <tr>\n",
       "      <th>46723</th>\n",
       "      <td>Lsc1257</td>\n",
       "      <td>JOURNEYMAN DISTILLERY FEATHERBONE ORGANIC BOURBON</td>\n",
       "      <td>4.00</td>\n",
       "    </tr>\n",
       "    <tr>\n",
       "      <th>52039</th>\n",
       "      <td>GoldnWlf</td>\n",
       "      <td>WILD TURKEY RARE BREED BARREL PROOF BOURBON</td>\n",
       "      <td>3.50</td>\n",
       "    </tr>\n",
       "  </tbody>\n",
       "</table>\n",
       "</div>"
      ],
      "text/plain": [
       "                uid                                                iid   act\n",
       "68899  Jim-Callahan                       JAMESON THE DISTILLER'S SAFE  3.75\n",
       "12441      Alicia-D                ELIJAH CRAIG TOASTED BARREL BOURBON  4.25\n",
       "62864  Whiskey_Pete         CONNEMARA CASK STRENGTH PEATED SINGLE MALT  3.00\n",
       "46723       Lsc1257  JOURNEYMAN DISTILLERY FEATHERBONE ORGANIC BOURBON  4.00\n",
       "52039      GoldnWlf        WILD TURKEY RARE BREED BARREL PROOF BOURBON  3.50"
      ]
     },
     "execution_count": 8,
     "metadata": {},
     "output_type": "execute_result"
    }
   ],
   "source": [
    "trainset_df = trainset.build_testset()\n",
    "trainset_df = {'uid': [x[0] for x in trainset_df], 'iid': [x[1] for x in trainset_df], 'act': [x[2] for x in trainset_df]}\n",
    "trainset_df = pd.DataFrame(trainset_df)\n",
    "trainset_df.sample(5)"
   ]
  },
  {
   "cell_type": "code",
   "execution_count": null,
   "metadata": {},
   "outputs": [],
   "source": []
  },
  {
   "cell_type": "code",
   "execution_count": 9,
   "metadata": {},
   "outputs": [
    {
     "data": {
      "text/html": [
       "<div>\n",
       "<style scoped>\n",
       "    .dataframe tbody tr th:only-of-type {\n",
       "        vertical-align: middle;\n",
       "    }\n",
       "\n",
       "    .dataframe tbody tr th {\n",
       "        vertical-align: top;\n",
       "    }\n",
       "\n",
       "    .dataframe thead th {\n",
       "        text-align: right;\n",
       "    }\n",
       "</style>\n",
       "<table border=\"1\" class=\"dataframe\">\n",
       "  <thead>\n",
       "    <tr style=\"text-align: right;\">\n",
       "      <th></th>\n",
       "      <th>alc_name</th>\n",
       "      <th>alc_type</th>\n",
       "    </tr>\n",
       "  </thead>\n",
       "  <tbody>\n",
       "    <tr>\n",
       "      <th>0</th>\n",
       "      <td>HIGHLAND PARK 12 YEAR</td>\n",
       "      <td>single_malt_peated</td>\n",
       "    </tr>\n",
       "    <tr>\n",
       "      <th>1</th>\n",
       "      <td>THE POGUES IRISH WHISKEY</td>\n",
       "      <td>ireland_whiskey</td>\n",
       "    </tr>\n",
       "    <tr>\n",
       "      <th>2</th>\n",
       "      <td>DALMORE 12 YEAR SHERRY CASK SELECT</td>\n",
       "      <td>single_malt</td>\n",
       "    </tr>\n",
       "    <tr>\n",
       "      <th>3</th>\n",
       "      <td>GLENFIDDICH 18 YEAR</td>\n",
       "      <td>single_malt</td>\n",
       "    </tr>\n",
       "    <tr>\n",
       "      <th>4</th>\n",
       "      <td>TULLAMORE D.E.W. 12 YEAR SPECIAL RESERVE</td>\n",
       "      <td>ireland_whiskey</td>\n",
       "    </tr>\n",
       "  </tbody>\n",
       "</table>\n",
       "</div>"
      ],
      "text/plain": [
       "                                   alc_name            alc_type\n",
       "0                     HIGHLAND PARK 12 YEAR  single_malt_peated\n",
       "1                  THE POGUES IRISH WHISKEY     ireland_whiskey\n",
       "2        DALMORE 12 YEAR SHERRY CASK SELECT         single_malt\n",
       "3                       GLENFIDDICH 18 YEAR         single_malt\n",
       "4  TULLAMORE D.E.W. 12 YEAR SPECIAL RESERVE     ireland_whiskey"
      ]
     },
     "execution_count": 9,
     "metadata": {},
     "output_type": "execute_result"
    }
   ],
   "source": [
    "df_alc_types = df_revs_rec.loc[:,['alc_name', 'alc_type']].drop_duplicates().reset_index(drop = True)\n",
    "df_alc_types.head()"
   ]
  },
  {
   "cell_type": "code",
   "execution_count": 106,
   "metadata": {},
   "outputs": [],
   "source": [
    "df_revs_text = pd.read_csv(file_dir + 'whisk_reviews_combined.csv')\n",
    "df_revs_text = df_revs_text.loc[:,['reviewer_name', 'reviewer_date', 'alc_name', 'reviewer_notes']]\n",
    "df_revs_text = pd.merge(df_revs_rec, df_revs_text, how = \"left\", \\\n",
    "                        left_on = ['reviewer_name', 'reviewer_date', 'alc_name'], \n",
    "                        right_on = ['reviewer_name', 'reviewer_date', 'alc_name'])\n",
    "\n",
    "# conver values to string\n",
    "df_revs_text['reviewer_notes'] = [str(elem) for elem in df_revs_text['reviewer_notes']]"
   ]
  },
  {
   "cell_type": "code",
   "execution_count": 108,
   "metadata": {},
   "outputs": [
    {
     "name": "stdout",
     "output_type": "stream",
     "text": [
      "(3112, 2)\n"
     ]
    },
    {
     "data": {
      "text/html": [
       "<div>\n",
       "<style scoped>\n",
       "    .dataframe tbody tr th:only-of-type {\n",
       "        vertical-align: middle;\n",
       "    }\n",
       "\n",
       "    .dataframe tbody tr th {\n",
       "        vertical-align: top;\n",
       "    }\n",
       "\n",
       "    .dataframe thead th {\n",
       "        text-align: right;\n",
       "    }\n",
       "</style>\n",
       "<table border=\"1\" class=\"dataframe\">\n",
       "  <thead>\n",
       "    <tr style=\"text-align: right;\">\n",
       "      <th></th>\n",
       "      <th>alc_name</th>\n",
       "      <th>combined_notes</th>\n",
       "    </tr>\n",
       "  </thead>\n",
       "  <tbody>\n",
       "    <tr>\n",
       "      <th>0</th>\n",
       "      <td>HIGHLAND PARK 12 YEAR</td>\n",
       "      <td>,  ,     . \\n ,   , , ,   , ,   ,         hel...</td>\n",
       "    </tr>\n",
       "    <tr>\n",
       "      <th>1</th>\n",
       "      <td>THE POGUES IRISH WHISKEY</td>\n",
       "      <td>,   ,      . \\n  ,  ,   . Surprisingly much be...</td>\n",
       "    </tr>\n",
       "    <tr>\n",
       "      <th>2</th>\n",
       "      <td>DALMORE 12 YEAR SHERRY CASK SELECT</td>\n",
       "      <td>!\\n:\\n  , ,  ,   ,         .\\n\\n:    ,   , ...</td>\n",
       "    </tr>\n",
       "    <tr>\n",
       "      <th>3</th>\n",
       "      <td>GLENFIDDICH 18 YEAR</td>\n",
       "      <td>, , , , .    . 12\\n\\n\\n  : \\n : ,  milk chocol...</td>\n",
       "    </tr>\n",
       "    <tr>\n",
       "      <th>4</th>\n",
       "      <td>TULLAMORE D.E.W. 12 YEAR SPECIAL RESERVE</td>\n",
       "      <td>.    . Not as smooth as original but adde...</td>\n",
       "    </tr>\n",
       "  </tbody>\n",
       "</table>\n",
       "</div>"
      ],
      "text/plain": [
       "                                   alc_name  \\\n",
       "0                     HIGHLAND PARK 12 YEAR   \n",
       "1                  THE POGUES IRISH WHISKEY   \n",
       "2        DALMORE 12 YEAR SHERRY CASK SELECT   \n",
       "3                       GLENFIDDICH 18 YEAR   \n",
       "4  TULLAMORE D.E.W. 12 YEAR SPECIAL RESERVE   \n",
       "\n",
       "                                      combined_notes  \n",
       "0   ,  ,     . \\n ,   , , ,   , ,   ,         hel...  \n",
       "1  ,   ,      . \\n  ,  ,   . Surprisingly much be...  \n",
       "2     !\\n:\\n  , ,  ,   ,         .\\n\\n:    ,   , ...  \n",
       "3  , , , , .    . 12\\n\\n\\n  : \\n : ,  milk chocol...  \n",
       "4       .    . Not as smooth as original but adde...  "
      ]
     },
     "execution_count": 108,
     "metadata": {},
     "output_type": "execute_result"
    }
   ],
   "source": [
    "df_revs_text['combined_notes'] = df_revs_text.groupby(['alc_name'])['reviewer_notes'].transform(lambda x : ' '.join(x))\n",
    "df_revs_text = df_revs_text.loc[:,['alc_name', 'combined_notes']].drop_duplicates().reset_index(drop = True)\n",
    "print(df_revs_text.shape)\n",
    "df_revs_text.head()"
   ]
  },
  {
   "cell_type": "code",
   "execution_count": 28,
   "metadata": {
    "scrolled": true
   },
   "outputs": [],
   "source": [
    "def get_tokens(x):\n",
    "    tokens = nlp(x)\n",
    "    token_vec = [re.sub('[^0-9a-zA-Z]+', '', token.lemma_.lower()) for token in tokens if \\\n",
    "                 (token.is_stop == False and \\\n",
    "                  token.is_punct == False and \\\n",
    "                  token.is_space == False and \\\n",
    "                  token.like_num == False and \\\n",
    "                  token.is_ascii == True \n",
    "                 )]\n",
    "    \n",
    "    return(token_vec)"
   ]
  },
  {
   "cell_type": "code",
   "execution_count": 29,
   "metadata": {},
   "outputs": [
    {
     "name": "stdout",
     "output_type": "stream",
     "text": [
      "['apple', 'look', 'buy', 'uk', 'startup', '', 'love', 'full', 'bodied', 'alcohol']\n"
     ]
    }
   ],
   "source": [
    "doc = nlp(\"Apple is looking at buying U.K. startup for $1 billion, and I love full-bodied alcohol\")\n",
    "print(get_tokens(\"Apple is looking at buying U.K. startup for $1 billion, and I love full-bodied alcohol\"))"
   ]
  },
  {
   "cell_type": "code",
   "execution_count": 38,
   "metadata": {},
   "outputs": [
    {
     "name": "stdout",
     "output_type": "stream",
     "text": [
      "10\n",
      "['kalt', 'etwas', 'salzig', 'smokey', 'bit', 'salty', 'ful', 'combinednote', 'dtype', 'object']\n",
      "[]\n"
     ]
    }
   ],
   "source": [
    "test_output = get_tokens(str(df_revs_text.loc[df_revs_text['alc_name'] == 'LAPHROAIG FOUR OAK', 'combined_notes']))\n",
    "print(len(test_output))\n",
    "print(test_output)\n",
    "print(np.array(test_output)[np.where(np.array(test_output) == 'citrus')])"
   ]
  },
  {
   "cell_type": "code",
   "execution_count": 39,
   "metadata": {},
   "outputs": [],
   "source": [
    "tfidf_vectorizer = TfidfVectorizer(input = 'content', tokenizer = get_tokens, \\\n",
    "                                   min_df = 0.05, max_df = 0.75, smooth_idf = True)"
   ]
  },
  {
   "cell_type": "code",
   "execution_count": 40,
   "metadata": {
    "scrolled": true
   },
   "outputs": [
    {
     "data": {
      "text/plain": [
       "<3112x1254 sparse matrix of type '<class 'numpy.float64'>'\n",
       "\twith 671214 stored elements in Compressed Sparse Row format>"
      ]
     },
     "execution_count": 40,
     "metadata": {},
     "output_type": "execute_result"
    }
   ],
   "source": [
    "full_res = tfidf_vectorizer.fit_transform(df_revs_text['combined_notes'])\n",
    "full_res"
   ]
  },
  {
   "cell_type": "code",
   "execution_count": 41,
   "metadata": {},
   "outputs": [
    {
     "data": {
      "text/plain": [
       "array([], dtype=int64)"
      ]
     },
     "execution_count": 41,
     "metadata": {},
     "output_type": "execute_result"
    }
   ],
   "source": [
    "token_vec = np.array(tfidf_vectorizer.get_feature_names())\n",
    "np.where(token_vec == 'vanilla')[0] # NOTE vanilla is too popular?"
   ]
  },
  {
   "cell_type": "code",
   "execution_count": 42,
   "metadata": {
    "scrolled": true
   },
   "outputs": [
    {
     "name": "stdout",
     "output_type": "stream",
     "text": [
      "(3112, 1254)\n"
     ]
    },
    {
     "data": {
      "text/html": [
       "<div>\n",
       "<style scoped>\n",
       "    .dataframe tbody tr th:only-of-type {\n",
       "        vertical-align: middle;\n",
       "    }\n",
       "\n",
       "    .dataframe tbody tr th {\n",
       "        vertical-align: top;\n",
       "    }\n",
       "\n",
       "    .dataframe thead th {\n",
       "        text-align: right;\n",
       "    }\n",
       "</style>\n",
       "<table border=\"1\" class=\"dataframe\">\n",
       "  <thead>\n",
       "    <tr style=\"text-align: right;\">\n",
       "      <th></th>\n",
       "      <th></th>\n",
       "      <th>2nd</th>\n",
       "      <th>able</th>\n",
       "      <th>absolute</th>\n",
       "      <th>absolutely</th>\n",
       "      <th>abv</th>\n",
       "      <th>accompany</th>\n",
       "      <th>acetone</th>\n",
       "      <th>acidic</th>\n",
       "      <th>actual</th>\n",
       "      <th>...</th>\n",
       "      <th>yeah</th>\n",
       "      <th>year</th>\n",
       "      <th>yellow</th>\n",
       "      <th>yes</th>\n",
       "      <th>young</th>\n",
       "      <th>youth</th>\n",
       "      <th>youthful</th>\n",
       "      <th>yr</th>\n",
       "      <th>z</th>\n",
       "      <th>zest</th>\n",
       "    </tr>\n",
       "  </thead>\n",
       "  <tbody>\n",
       "    <tr>\n",
       "      <th>0</th>\n",
       "      <td>0.016437</td>\n",
       "      <td>0.0</td>\n",
       "      <td>0.000000</td>\n",
       "      <td>0.020271</td>\n",
       "      <td>0.028029</td>\n",
       "      <td>0.000000</td>\n",
       "      <td>0.000000</td>\n",
       "      <td>0.0</td>\n",
       "      <td>0.0</td>\n",
       "      <td>0.0</td>\n",
       "      <td>...</td>\n",
       "      <td>0.0</td>\n",
       "      <td>0.048439</td>\n",
       "      <td>0.000000</td>\n",
       "      <td>0.000000</td>\n",
       "      <td>0.009884</td>\n",
       "      <td>0.0</td>\n",
       "      <td>0.0</td>\n",
       "      <td>0.017432</td>\n",
       "      <td>0.000000</td>\n",
       "      <td>0.030431</td>\n",
       "    </tr>\n",
       "    <tr>\n",
       "      <th>1</th>\n",
       "      <td>0.101615</td>\n",
       "      <td>0.0</td>\n",
       "      <td>0.064312</td>\n",
       "      <td>0.000000</td>\n",
       "      <td>0.000000</td>\n",
       "      <td>0.000000</td>\n",
       "      <td>0.000000</td>\n",
       "      <td>0.0</td>\n",
       "      <td>0.0</td>\n",
       "      <td>0.0</td>\n",
       "      <td>...</td>\n",
       "      <td>0.0</td>\n",
       "      <td>0.066543</td>\n",
       "      <td>0.000000</td>\n",
       "      <td>0.000000</td>\n",
       "      <td>0.040733</td>\n",
       "      <td>0.0</td>\n",
       "      <td>0.0</td>\n",
       "      <td>0.000000</td>\n",
       "      <td>0.000000</td>\n",
       "      <td>0.000000</td>\n",
       "    </tr>\n",
       "    <tr>\n",
       "      <th>2</th>\n",
       "      <td>0.000000</td>\n",
       "      <td>0.0</td>\n",
       "      <td>0.000000</td>\n",
       "      <td>0.000000</td>\n",
       "      <td>0.000000</td>\n",
       "      <td>0.000000</td>\n",
       "      <td>0.000000</td>\n",
       "      <td>0.0</td>\n",
       "      <td>0.0</td>\n",
       "      <td>0.0</td>\n",
       "      <td>...</td>\n",
       "      <td>0.0</td>\n",
       "      <td>0.000000</td>\n",
       "      <td>0.000000</td>\n",
       "      <td>0.000000</td>\n",
       "      <td>0.049716</td>\n",
       "      <td>0.0</td>\n",
       "      <td>0.0</td>\n",
       "      <td>0.000000</td>\n",
       "      <td>0.000000</td>\n",
       "      <td>0.000000</td>\n",
       "    </tr>\n",
       "    <tr>\n",
       "      <th>3</th>\n",
       "      <td>0.093432</td>\n",
       "      <td>0.0</td>\n",
       "      <td>0.000000</td>\n",
       "      <td>0.000000</td>\n",
       "      <td>0.000000</td>\n",
       "      <td>0.021703</td>\n",
       "      <td>0.000000</td>\n",
       "      <td>0.0</td>\n",
       "      <td>0.0</td>\n",
       "      <td>0.0</td>\n",
       "      <td>...</td>\n",
       "      <td>0.0</td>\n",
       "      <td>0.083433</td>\n",
       "      <td>0.000000</td>\n",
       "      <td>0.014841</td>\n",
       "      <td>0.020429</td>\n",
       "      <td>0.0</td>\n",
       "      <td>0.0</td>\n",
       "      <td>0.018015</td>\n",
       "      <td>0.017121</td>\n",
       "      <td>0.000000</td>\n",
       "    </tr>\n",
       "    <tr>\n",
       "      <th>4</th>\n",
       "      <td>0.090982</td>\n",
       "      <td>0.0</td>\n",
       "      <td>0.000000</td>\n",
       "      <td>0.022440</td>\n",
       "      <td>0.015514</td>\n",
       "      <td>0.034871</td>\n",
       "      <td>0.043732</td>\n",
       "      <td>0.0</td>\n",
       "      <td>0.0</td>\n",
       "      <td>0.0</td>\n",
       "      <td>...</td>\n",
       "      <td>0.0</td>\n",
       "      <td>0.098308</td>\n",
       "      <td>0.019741</td>\n",
       "      <td>0.000000</td>\n",
       "      <td>0.010941</td>\n",
       "      <td>0.0</td>\n",
       "      <td>0.0</td>\n",
       "      <td>0.019297</td>\n",
       "      <td>0.018340</td>\n",
       "      <td>0.000000</td>\n",
       "    </tr>\n",
       "  </tbody>\n",
       "</table>\n",
       "<p>5 rows × 1254 columns</p>\n",
       "</div>"
      ],
      "text/plain": [
       "             2nd      able  absolute  absolutely       abv  accompany  \\\n",
       "0  0.016437  0.0  0.000000  0.020271    0.028029  0.000000   0.000000   \n",
       "1  0.101615  0.0  0.064312  0.000000    0.000000  0.000000   0.000000   \n",
       "2  0.000000  0.0  0.000000  0.000000    0.000000  0.000000   0.000000   \n",
       "3  0.093432  0.0  0.000000  0.000000    0.000000  0.021703   0.000000   \n",
       "4  0.090982  0.0  0.000000  0.022440    0.015514  0.034871   0.043732   \n",
       "\n",
       "   acetone  acidic  actual  ...  yeah      year    yellow       yes     young  \\\n",
       "0      0.0     0.0     0.0  ...   0.0  0.048439  0.000000  0.000000  0.009884   \n",
       "1      0.0     0.0     0.0  ...   0.0  0.066543  0.000000  0.000000  0.040733   \n",
       "2      0.0     0.0     0.0  ...   0.0  0.000000  0.000000  0.000000  0.049716   \n",
       "3      0.0     0.0     0.0  ...   0.0  0.083433  0.000000  0.014841  0.020429   \n",
       "4      0.0     0.0     0.0  ...   0.0  0.098308  0.019741  0.000000  0.010941   \n",
       "\n",
       "   youth  youthful        yr         z      zest  \n",
       "0    0.0       0.0  0.017432  0.000000  0.030431  \n",
       "1    0.0       0.0  0.000000  0.000000  0.000000  \n",
       "2    0.0       0.0  0.000000  0.000000  0.000000  \n",
       "3    0.0       0.0  0.018015  0.017121  0.000000  \n",
       "4    0.0       0.0  0.019297  0.018340  0.000000  \n",
       "\n",
       "[5 rows x 1254 columns]"
      ]
     },
     "execution_count": 42,
     "metadata": {},
     "output_type": "execute_result"
    }
   ],
   "source": [
    "df_full_res = pd.DataFrame(\\\n",
    "    full_res.todense().tolist(),columns=tfidf_vectorizer.get_feature_names())\n",
    "print(df_full_res.shape)\n",
    "df_full_res.head()"
   ]
  },
  {
   "cell_type": "code",
   "execution_count": 43,
   "metadata": {},
   "outputs": [
    {
     "data": {
      "text/plain": [
       "0.03279060936294755"
      ]
     },
     "execution_count": 43,
     "metadata": {},
     "output_type": "execute_result"
    }
   ],
   "source": [
    "df_full_res.lemon[0]"
   ]
  },
  {
   "cell_type": "code",
   "execution_count": 87,
   "metadata": {},
   "outputs": [],
   "source": [
    "# SAVE THE TFIDF FILE TO DATA_FILES\n",
    "df_full_res.to_csv(file_dir + 'all_whisk_tfidf.csv', index = False)"
   ]
  },
  {
   "cell_type": "markdown",
   "metadata": {},
   "source": [
    "## READ IN AND EXPLORE TFIDF"
   ]
  },
  {
   "cell_type": "code",
   "execution_count": 121,
   "metadata": {},
   "outputs": [
    {
     "data": {
      "text/html": [
       "<div>\n",
       "<style scoped>\n",
       "    .dataframe tbody tr th:only-of-type {\n",
       "        vertical-align: middle;\n",
       "    }\n",
       "\n",
       "    .dataframe tbody tr th {\n",
       "        vertical-align: top;\n",
       "    }\n",
       "\n",
       "    .dataframe thead th {\n",
       "        text-align: right;\n",
       "    }\n",
       "</style>\n",
       "<table border=\"1\" class=\"dataframe\">\n",
       "  <thead>\n",
       "    <tr style=\"text-align: right;\">\n",
       "      <th></th>\n",
       "      <th>Unnamed: 0</th>\n",
       "      <th>2nd</th>\n",
       "      <th>able</th>\n",
       "      <th>absolute</th>\n",
       "      <th>absolutely</th>\n",
       "      <th>abv</th>\n",
       "      <th>accompany</th>\n",
       "      <th>acetone</th>\n",
       "      <th>acidic</th>\n",
       "      <th>actual</th>\n",
       "      <th>...</th>\n",
       "      <th>yeah</th>\n",
       "      <th>year</th>\n",
       "      <th>yellow</th>\n",
       "      <th>yes</th>\n",
       "      <th>young</th>\n",
       "      <th>youth</th>\n",
       "      <th>youthful</th>\n",
       "      <th>yr</th>\n",
       "      <th>z</th>\n",
       "      <th>zest</th>\n",
       "    </tr>\n",
       "  </thead>\n",
       "  <tbody>\n",
       "    <tr>\n",
       "      <th>0</th>\n",
       "      <td>0.016437</td>\n",
       "      <td>0.0</td>\n",
       "      <td>0.000000</td>\n",
       "      <td>0.020271</td>\n",
       "      <td>0.028029</td>\n",
       "      <td>0.000000</td>\n",
       "      <td>0.000000</td>\n",
       "      <td>0.0</td>\n",
       "      <td>0.0</td>\n",
       "      <td>0.0</td>\n",
       "      <td>...</td>\n",
       "      <td>0.0</td>\n",
       "      <td>0.048439</td>\n",
       "      <td>0.000000</td>\n",
       "      <td>0.000000</td>\n",
       "      <td>0.009884</td>\n",
       "      <td>0.0</td>\n",
       "      <td>0.0</td>\n",
       "      <td>0.017432</td>\n",
       "      <td>0.000000</td>\n",
       "      <td>0.030431</td>\n",
       "    </tr>\n",
       "    <tr>\n",
       "      <th>1</th>\n",
       "      <td>0.101615</td>\n",
       "      <td>0.0</td>\n",
       "      <td>0.064312</td>\n",
       "      <td>0.000000</td>\n",
       "      <td>0.000000</td>\n",
       "      <td>0.000000</td>\n",
       "      <td>0.000000</td>\n",
       "      <td>0.0</td>\n",
       "      <td>0.0</td>\n",
       "      <td>0.0</td>\n",
       "      <td>...</td>\n",
       "      <td>0.0</td>\n",
       "      <td>0.066543</td>\n",
       "      <td>0.000000</td>\n",
       "      <td>0.000000</td>\n",
       "      <td>0.040733</td>\n",
       "      <td>0.0</td>\n",
       "      <td>0.0</td>\n",
       "      <td>0.000000</td>\n",
       "      <td>0.000000</td>\n",
       "      <td>0.000000</td>\n",
       "    </tr>\n",
       "    <tr>\n",
       "      <th>2</th>\n",
       "      <td>0.000000</td>\n",
       "      <td>0.0</td>\n",
       "      <td>0.000000</td>\n",
       "      <td>0.000000</td>\n",
       "      <td>0.000000</td>\n",
       "      <td>0.000000</td>\n",
       "      <td>0.000000</td>\n",
       "      <td>0.0</td>\n",
       "      <td>0.0</td>\n",
       "      <td>0.0</td>\n",
       "      <td>...</td>\n",
       "      <td>0.0</td>\n",
       "      <td>0.000000</td>\n",
       "      <td>0.000000</td>\n",
       "      <td>0.000000</td>\n",
       "      <td>0.049716</td>\n",
       "      <td>0.0</td>\n",
       "      <td>0.0</td>\n",
       "      <td>0.000000</td>\n",
       "      <td>0.000000</td>\n",
       "      <td>0.000000</td>\n",
       "    </tr>\n",
       "    <tr>\n",
       "      <th>3</th>\n",
       "      <td>0.093432</td>\n",
       "      <td>0.0</td>\n",
       "      <td>0.000000</td>\n",
       "      <td>0.000000</td>\n",
       "      <td>0.000000</td>\n",
       "      <td>0.021703</td>\n",
       "      <td>0.000000</td>\n",
       "      <td>0.0</td>\n",
       "      <td>0.0</td>\n",
       "      <td>0.0</td>\n",
       "      <td>...</td>\n",
       "      <td>0.0</td>\n",
       "      <td>0.083433</td>\n",
       "      <td>0.000000</td>\n",
       "      <td>0.014841</td>\n",
       "      <td>0.020429</td>\n",
       "      <td>0.0</td>\n",
       "      <td>0.0</td>\n",
       "      <td>0.018015</td>\n",
       "      <td>0.017121</td>\n",
       "      <td>0.000000</td>\n",
       "    </tr>\n",
       "    <tr>\n",
       "      <th>4</th>\n",
       "      <td>0.090982</td>\n",
       "      <td>0.0</td>\n",
       "      <td>0.000000</td>\n",
       "      <td>0.022440</td>\n",
       "      <td>0.015514</td>\n",
       "      <td>0.034871</td>\n",
       "      <td>0.043732</td>\n",
       "      <td>0.0</td>\n",
       "      <td>0.0</td>\n",
       "      <td>0.0</td>\n",
       "      <td>...</td>\n",
       "      <td>0.0</td>\n",
       "      <td>0.098308</td>\n",
       "      <td>0.019741</td>\n",
       "      <td>0.000000</td>\n",
       "      <td>0.010941</td>\n",
       "      <td>0.0</td>\n",
       "      <td>0.0</td>\n",
       "      <td>0.019297</td>\n",
       "      <td>0.018340</td>\n",
       "      <td>0.000000</td>\n",
       "    </tr>\n",
       "  </tbody>\n",
       "</table>\n",
       "<p>5 rows × 1254 columns</p>\n",
       "</div>"
      ],
      "text/plain": [
       "   Unnamed: 0  2nd      able  absolute  absolutely       abv  accompany  \\\n",
       "0    0.016437  0.0  0.000000  0.020271    0.028029  0.000000   0.000000   \n",
       "1    0.101615  0.0  0.064312  0.000000    0.000000  0.000000   0.000000   \n",
       "2    0.000000  0.0  0.000000  0.000000    0.000000  0.000000   0.000000   \n",
       "3    0.093432  0.0  0.000000  0.000000    0.000000  0.021703   0.000000   \n",
       "4    0.090982  0.0  0.000000  0.022440    0.015514  0.034871   0.043732   \n",
       "\n",
       "   acetone  acidic  actual  ...  yeah      year    yellow       yes     young  \\\n",
       "0      0.0     0.0     0.0  ...   0.0  0.048439  0.000000  0.000000  0.009884   \n",
       "1      0.0     0.0     0.0  ...   0.0  0.066543  0.000000  0.000000  0.040733   \n",
       "2      0.0     0.0     0.0  ...   0.0  0.000000  0.000000  0.000000  0.049716   \n",
       "3      0.0     0.0     0.0  ...   0.0  0.083433  0.000000  0.014841  0.020429   \n",
       "4      0.0     0.0     0.0  ...   0.0  0.098308  0.019741  0.000000  0.010941   \n",
       "\n",
       "   youth  youthful        yr         z      zest  \n",
       "0    0.0       0.0  0.017432  0.000000  0.030431  \n",
       "1    0.0       0.0  0.000000  0.000000  0.000000  \n",
       "2    0.0       0.0  0.000000  0.000000  0.000000  \n",
       "3    0.0       0.0  0.018015  0.017121  0.000000  \n",
       "4    0.0       0.0  0.019297  0.018340  0.000000  \n",
       "\n",
       "[5 rows x 1254 columns]"
      ]
     },
     "execution_count": 121,
     "metadata": {},
     "output_type": "execute_result"
    }
   ],
   "source": [
    "df_full_res = pd.read_csv(file_dir + 'all_whisk_tfidf.csv')\n",
    "df_full_res.head()"
   ]
  },
  {
   "cell_type": "code",
   "execution_count": null,
   "metadata": {},
   "outputs": [],
   "source": [
    "df_combined_profs = pd.read_csv(file_dir + 'df_whisk_profiles_all.csv')\n",
    "df_combined_profs = df_combined_profs.loc[:,['Whisk_Name', 'Brand', 'Flavor']]\n",
    "df_combined_profs.head()"
   ]
  },
  {
   "cell_type": "code",
   "execution_count": 113,
   "metadata": {},
   "outputs": [
    {
     "data": {
      "text/html": [
       "<div>\n",
       "<style scoped>\n",
       "    .dataframe tbody tr th:only-of-type {\n",
       "        vertical-align: middle;\n",
       "    }\n",
       "\n",
       "    .dataframe tbody tr th {\n",
       "        vertical-align: top;\n",
       "    }\n",
       "\n",
       "    .dataframe thead th {\n",
       "        text-align: right;\n",
       "    }\n",
       "</style>\n",
       "<table border=\"1\" class=\"dataframe\">\n",
       "  <thead>\n",
       "    <tr style=\"text-align: right;\">\n",
       "      <th></th>\n",
       "      <th>alc_name</th>\n",
       "      <th>alc_type</th>\n",
       "      <th>Brand</th>\n",
       "      <th>Flavor</th>\n",
       "    </tr>\n",
       "  </thead>\n",
       "  <tbody>\n",
       "    <tr>\n",
       "      <th>0</th>\n",
       "      <td>HIGHLAND PARK 12 YEAR</td>\n",
       "      <td>single_malt_peated</td>\n",
       "      <td>Highland Park</td>\n",
       "      <td>SWEET &amp; FRUITY</td>\n",
       "    </tr>\n",
       "    <tr>\n",
       "      <th>1</th>\n",
       "      <td>THE POGUES IRISH WHISKEY</td>\n",
       "      <td>ireland_whiskey</td>\n",
       "      <td>West Cork Distillers</td>\n",
       "      <td>HERBAL</td>\n",
       "    </tr>\n",
       "    <tr>\n",
       "      <th>2</th>\n",
       "      <td>DALMORE 12 YEAR SHERRY CASK SELECT</td>\n",
       "      <td>single_malt</td>\n",
       "      <td>The Dalmore</td>\n",
       "      <td>RICH</td>\n",
       "    </tr>\n",
       "    <tr>\n",
       "      <th>3</th>\n",
       "      <td>GLENFIDDICH 18 YEAR</td>\n",
       "      <td>single_malt</td>\n",
       "      <td>Glenfiddich</td>\n",
       "      <td>SWEET &amp; FRUITY</td>\n",
       "    </tr>\n",
       "    <tr>\n",
       "      <th>4</th>\n",
       "      <td>TULLAMORE D.E.W. 12 YEAR SPECIAL RESERVE</td>\n",
       "      <td>ireland_whiskey</td>\n",
       "      <td>Tullamore D.E.W.</td>\n",
       "      <td>VANILLA &amp; SWEET</td>\n",
       "    </tr>\n",
       "  </tbody>\n",
       "</table>\n",
       "</div>"
      ],
      "text/plain": [
       "                                   alc_name            alc_type  \\\n",
       "0                     HIGHLAND PARK 12 YEAR  single_malt_peated   \n",
       "1                  THE POGUES IRISH WHISKEY     ireland_whiskey   \n",
       "2        DALMORE 12 YEAR SHERRY CASK SELECT         single_malt   \n",
       "3                       GLENFIDDICH 18 YEAR         single_malt   \n",
       "4  TULLAMORE D.E.W. 12 YEAR SPECIAL RESERVE     ireland_whiskey   \n",
       "\n",
       "                  Brand           Flavor  \n",
       "0         Highland Park   SWEET & FRUITY  \n",
       "1  West Cork Distillers           HERBAL  \n",
       "2           The Dalmore             RICH  \n",
       "3           Glenfiddich   SWEET & FRUITY  \n",
       "4      Tullamore D.E.W.  VANILLA & SWEET  "
      ]
     },
     "execution_count": 113,
     "metadata": {},
     "output_type": "execute_result"
    }
   ],
   "source": [
    "df_revs_fin = pd.merge(df_revs_text, df_alc_types, \"left\", on = \"alc_name\")\n",
    "df_revs_fin = pd.merge(df_revs_fin, df_combined_profs, \"left\", left_on = \"alc_name\", right_on = \"Whisk_Name\", )\n",
    "df_revs_fin = df_revs_fin.drop(columns = ['combined_notes', 'Whisk_Name'])\n",
    "\n",
    "df_revs_fin.head()"
   ]
  },
  {
   "cell_type": "code",
   "execution_count": 119,
   "metadata": {},
   "outputs": [
    {
     "data": {
      "text/plain": [
       "array([575, 716])"
      ]
     },
     "execution_count": 119,
     "metadata": {},
     "output_type": "execute_result"
    }
   ],
   "source": [
    "idx_test = np.where(np.isin(df_revs_fin['alc_name'], ['THE MACALLAN FINE OAK 15 YEAR', 'THE MACALLAN 18 YEAR SHERRY OAK CASK']))[0]\n",
    "idx_test "
   ]
  },
  {
   "cell_type": "code",
   "execution_count": 118,
   "metadata": {},
   "outputs": [
    {
     "data": {
      "text/plain": [
       "(0.759204284520545, 8.964925408278071e-236)"
      ]
     },
     "execution_count": 118,
     "metadata": {},
     "output_type": "execute_result"
    }
   ],
   "source": [
    "from scipy.stats import pearsonr\n",
    "\n",
    "pearsonr(df_full_res.iloc[575,:], df_full_res.iloc[716,:])"
   ]
  },
  {
   "cell_type": "code",
   "execution_count": 123,
   "metadata": {},
   "outputs": [
    {
     "data": {
      "text/plain": [
       "(3112, 3112)"
      ]
     },
     "execution_count": 123,
     "metadata": {},
     "output_type": "execute_result"
    }
   ],
   "source": [
    "# https://towardsdatascience.com/how-to-build-from-scratch-a-content-based-movie-recommender-with-natural-language-processing-25ad400eb243\n",
    "# USER NOT NEEDED IN THIS EXAMPLE\n",
    "\n",
    "sim_mtx = cosine_similarity(df_full_res)\n",
    "sim_mtx.shape"
   ]
  },
  {
   "cell_type": "markdown",
   "metadata": {},
   "source": [
    "### FIND CLOSEST WHISKIES TO A CERTAIN WHISKEY BASED ON SIMILARITY MTX"
   ]
  },
  {
   "cell_type": "code",
   "execution_count": 125,
   "metadata": {},
   "outputs": [
    {
     "name": "stdout",
     "output_type": "stream",
     "text": [
      "1623\n",
      "BUFFALO TRACE SINGLE BARREL SELECT BOURBON\n"
     ]
    },
    {
     "data": {
      "text/html": [
       "<div>\n",
       "<style scoped>\n",
       "    .dataframe tbody tr th:only-of-type {\n",
       "        vertical-align: middle;\n",
       "    }\n",
       "\n",
       "    .dataframe tbody tr th {\n",
       "        vertical-align: top;\n",
       "    }\n",
       "\n",
       "    .dataframe thead th {\n",
       "        text-align: right;\n",
       "    }\n",
       "</style>\n",
       "<table border=\"1\" class=\"dataframe\">\n",
       "  <thead>\n",
       "    <tr style=\"text-align: right;\">\n",
       "      <th></th>\n",
       "      <th>alc_name</th>\n",
       "      <th>alc_type</th>\n",
       "      <th>Brand</th>\n",
       "      <th>Flavor</th>\n",
       "      <th>similarity</th>\n",
       "    </tr>\n",
       "  </thead>\n",
       "  <tbody>\n",
       "    <tr>\n",
       "      <th>444</th>\n",
       "      <td>OLD FORESTER SINGLE BARREL BOURBON 90 PROOF</td>\n",
       "      <td>bourbon</td>\n",
       "      <td>Old Forester</td>\n",
       "      <td>NaN</td>\n",
       "      <td>0.5982</td>\n",
       "    </tr>\n",
       "    <tr>\n",
       "      <th>453</th>\n",
       "      <td>HANCOCK'S PRESIDENT'S RESERVE SINGLE BARREL BO...</td>\n",
       "      <td>bourbon</td>\n",
       "      <td>Buffalo Trace</td>\n",
       "      <td>VANILLA &amp; FRUITY</td>\n",
       "      <td>0.5255</td>\n",
       "    </tr>\n",
       "    <tr>\n",
       "      <th>477</th>\n",
       "      <td>EZRA BROOKS DISTILLER’S COLLECTION BOURBON</td>\n",
       "      <td>bourbon</td>\n",
       "      <td>Ezra Brooks</td>\n",
       "      <td>NaN</td>\n",
       "      <td>0.5175</td>\n",
       "    </tr>\n",
       "    <tr>\n",
       "      <th>646</th>\n",
       "      <td>BUFFALO TRACE SINGLE BARREL</td>\n",
       "      <td>bourbon</td>\n",
       "      <td>NaN</td>\n",
       "      <td>NaN</td>\n",
       "      <td>0.5380</td>\n",
       "    </tr>\n",
       "    <tr>\n",
       "      <th>829</th>\n",
       "      <td>NEW RIFF SINGLE BARREL BARREL PROOF BOURBON</td>\n",
       "      <td>bourbon</td>\n",
       "      <td>New Riff</td>\n",
       "      <td>SPICY &amp; VANILLA</td>\n",
       "      <td>0.5165</td>\n",
       "    </tr>\n",
       "    <tr>\n",
       "      <th>1161</th>\n",
       "      <td>KNOB CREEK SINGLE BARREL SELECT BOURBON</td>\n",
       "      <td>bourbon</td>\n",
       "      <td>Knob Creek</td>\n",
       "      <td>NaN</td>\n",
       "      <td>0.5432</td>\n",
       "    </tr>\n",
       "    <tr>\n",
       "      <th>1331</th>\n",
       "      <td>RUSSELL’S RESERVE PRIVATE BARREL SELECTION</td>\n",
       "      <td>bourbon</td>\n",
       "      <td>NaN</td>\n",
       "      <td>NaN</td>\n",
       "      <td>0.5286</td>\n",
       "    </tr>\n",
       "    <tr>\n",
       "      <th>1413</th>\n",
       "      <td>BULLEIT BOURBON SINGLE BARREL</td>\n",
       "      <td>bourbon</td>\n",
       "      <td>Bulleit</td>\n",
       "      <td>NaN</td>\n",
       "      <td>0.5372</td>\n",
       "    </tr>\n",
       "    <tr>\n",
       "      <th>1486</th>\n",
       "      <td>JOHN J BOWMAN SINGLE BARREL BOURBON</td>\n",
       "      <td>bourbon</td>\n",
       "      <td>A. Smith Bowman</td>\n",
       "      <td>VANILLA &amp; FULL BODIED</td>\n",
       "      <td>0.5161</td>\n",
       "    </tr>\n",
       "    <tr>\n",
       "      <th>1623</th>\n",
       "      <td>BUFFALO TRACE SINGLE BARREL SELECT BOURBON</td>\n",
       "      <td>bourbon</td>\n",
       "      <td>Buffalo Trace</td>\n",
       "      <td>NaN</td>\n",
       "      <td>1.0000</td>\n",
       "    </tr>\n",
       "    <tr>\n",
       "      <th>1725</th>\n",
       "      <td>WELLER ANTIQUE 107 SINGLE BARREL</td>\n",
       "      <td>bourbon</td>\n",
       "      <td>Weller</td>\n",
       "      <td>NaN</td>\n",
       "      <td>0.5580</td>\n",
       "    </tr>\n",
       "  </tbody>\n",
       "</table>\n",
       "</div>"
      ],
      "text/plain": [
       "                                               alc_name alc_type  \\\n",
       "444         OLD FORESTER SINGLE BARREL BOURBON 90 PROOF  bourbon   \n",
       "453   HANCOCK'S PRESIDENT'S RESERVE SINGLE BARREL BO...  bourbon   \n",
       "477          EZRA BROOKS DISTILLER’S COLLECTION BOURBON  bourbon   \n",
       "646                         BUFFALO TRACE SINGLE BARREL  bourbon   \n",
       "829         NEW RIFF SINGLE BARREL BARREL PROOF BOURBON  bourbon   \n",
       "1161            KNOB CREEK SINGLE BARREL SELECT BOURBON  bourbon   \n",
       "1331         RUSSELL’S RESERVE PRIVATE BARREL SELECTION  bourbon   \n",
       "1413                      BULLEIT BOURBON SINGLE BARREL  bourbon   \n",
       "1486                JOHN J BOWMAN SINGLE BARREL BOURBON  bourbon   \n",
       "1623         BUFFALO TRACE SINGLE BARREL SELECT BOURBON  bourbon   \n",
       "1725                   WELLER ANTIQUE 107 SINGLE BARREL  bourbon   \n",
       "\n",
       "                Brand                 Flavor  similarity  \n",
       "444      Old Forester                    NaN      0.5982  \n",
       "453     Buffalo Trace       VANILLA & FRUITY      0.5255  \n",
       "477       Ezra Brooks                    NaN      0.5175  \n",
       "646               NaN                    NaN      0.5380  \n",
       "829          New Riff        SPICY & VANILLA      0.5165  \n",
       "1161       Knob Creek                    NaN      0.5432  \n",
       "1331              NaN                    NaN      0.5286  \n",
       "1413          Bulleit                    NaN      0.5372  \n",
       "1486  A. Smith Bowman  VANILLA & FULL BODIED      0.5161  \n",
       "1623    Buffalo Trace                    NaN      1.0000  \n",
       "1725           Weller                    NaN      0.5580  "
      ]
     },
     "execution_count": 125,
     "metadata": {},
     "output_type": "execute_result"
    }
   ],
   "source": [
    "ex_whisk_idx = np.random.randint(0, sim_mtx.shape[0])\n",
    "# specific whiskeys\n",
    "ex_whisk_idx = np.where(df_revs_text['alc_name'] == 'BUFFALO TRACE SINGLE BARREL SELECT BOURBON')[0][0]\n",
    "# ex_whisk_idx = np.where(df_revs_text['alc_name'] == 'THE MACALLAN 18 YEAR SHERRY OAK CASK')[0][0]\n",
    "# ex_whisk_idx = np.where(df_revs_text['alc_name'] == 'TALISKER 18 YEAR')[0][0]\n",
    "# ex_whisk_idx = np.where(df_revs_text['alc_name'] == 'LAPHROAIG QUARTER CASK')[0][0]\n",
    "\n",
    "\n",
    "print(ex_whisk_idx)\n",
    "print(df_revs_text.loc[ex_whisk_idx, 'alc_name'])\n",
    "\n",
    "np.where(np.argsort(np.argsort(-sim_mtx[ex_whisk_idx,:])) <= 10)\n",
    "\n",
    "similar_whisk_ids = np.where((np.argsort(np.argsort(-sim_mtx[ex_whisk_idx,:])) <= 10) & \\\n",
    "                             (sim_mtx[ex_whisk_idx,:] >= 0.25))[0]\n",
    "\n",
    "df_ex_whisk = df_revs_fin.loc[similar_whisk_ids,:]\n",
    "df_ex_whisk['similarity'] = np.round(sim_mtx[ex_whisk_idx, similar_whisk_ids], 4)\n",
    "df_ex_whisk"
   ]
  },
  {
   "cell_type": "code",
   "execution_count": 126,
   "metadata": {},
   "outputs": [
    {
     "data": {
      "text/plain": [
       "array(['BUFFALO TRACE SINGLE BARREL', 'BUFFALO TRACE BOURBON',\n",
       "       'BUFFALO TRACE KOSHER WHEAT RECIPE STRAIGHT BOURBON (2020 RELEASE)',\n",
       "       'BUFFALO TRACE KOSHER RYE RECIPE STRAIGHT BOURBON (2020 RELEASE)',\n",
       "       'BUFFALO TRACE SINGLE BARREL SELECT BOURBON',\n",
       "       'BUFFALO TRACE SINGLE OAK PROJECT BOURBON',\n",
       "       'BUFFALO TRACE KENTUCKY STRAIGHT BOURBON WHISKEY',\n",
       "       'BUFFALO TRACE STRAIGHT BOURBON SINGLE BARREL SELECT'],\n",
       "      dtype=object)"
      ]
     },
     "execution_count": 126,
     "metadata": {},
     "output_type": "execute_result"
    }
   ],
   "source": [
    "np.array(df_revs_text['alc_name'])[['BUFFALO ' in elem for elem in df_revs_text['alc_name']]]"
   ]
  },
  {
   "cell_type": "markdown",
   "metadata": {},
   "source": [
    "### SVD STUFF"
   ]
  },
  {
   "cell_type": "code",
   "execution_count": 52,
   "metadata": {
    "scrolled": true
   },
   "outputs": [],
   "source": [
    "u, s, v = np.linalg.svd(df_full_res, full_matrices=False, compute_uv=True)"
   ]
  },
  {
   "cell_type": "code",
   "execution_count": 53,
   "metadata": {},
   "outputs": [
    {
     "data": {
      "text/plain": [
       "[<matplotlib.lines.Line2D at 0x7fe41f2fe5e0>]"
      ]
     },
     "execution_count": 53,
     "metadata": {},
     "output_type": "execute_result"
    },
    {
     "data": {
      "image/png": "[encoded data removed]",
      "text/plain": [
       "<Figure size 432x288 with 1 Axes>"
      ]
     },
     "metadata": {
      "needs_background": "light"
     },
     "output_type": "display_data"
    }
   ],
   "source": [
    "plt.plot(np.cumsum((s**2)[0:50])/np.sum(s**2))"
   ]
  },
  {
   "cell_type": "code",
   "execution_count": 54,
   "metadata": {},
   "outputs": [
    {
     "data": {
      "text/plain": [
       "-9.194034422677078e-17"
      ]
     },
     "execution_count": 54,
     "metadata": {},
     "output_type": "execute_result"
    }
   ],
   "source": [
    "np.dot(v[:,2], v[:,100])"
   ]
  },
  {
   "cell_type": "code",
   "execution_count": 132,
   "metadata": {},
   "outputs": [
    {
     "data": {
      "text/html": [
       "<div>\n",
       "<style scoped>\n",
       "    .dataframe tbody tr th:only-of-type {\n",
       "        vertical-align: middle;\n",
       "    }\n",
       "\n",
       "    .dataframe tbody tr th {\n",
       "        vertical-align: top;\n",
       "    }\n",
       "\n",
       "    .dataframe thead th {\n",
       "        text-align: right;\n",
       "    }\n",
       "</style>\n",
       "<table border=\"1\" class=\"dataframe\">\n",
       "  <thead>\n",
       "    <tr style=\"text-align: right;\">\n",
       "      <th></th>\n",
       "      <th>V1</th>\n",
       "      <th>V2</th>\n",
       "      <th>V3</th>\n",
       "      <th>V4</th>\n",
       "      <th>V5</th>\n",
       "      <th>V6</th>\n",
       "      <th>V7</th>\n",
       "      <th>V8</th>\n",
       "      <th>V9</th>\n",
       "      <th>V10</th>\n",
       "      <th>alc_name</th>\n",
       "      <th>alc_type</th>\n",
       "      <th>Brand</th>\n",
       "      <th>Flavor</th>\n",
       "    </tr>\n",
       "  </thead>\n",
       "  <tbody>\n",
       "    <tr>\n",
       "      <th>1884</th>\n",
       "      <td>0.013096</td>\n",
       "      <td>0.032685</td>\n",
       "      <td>0.035262</td>\n",
       "      <td>-0.011332</td>\n",
       "      <td>0.027852</td>\n",
       "      <td>0.015107</td>\n",
       "      <td>0.034344</td>\n",
       "      <td>0.019295</td>\n",
       "      <td>0.021352</td>\n",
       "      <td>0.011611</td>\n",
       "      <td>FILIBUSTER DUAL CASK FINISHED</td>\n",
       "      <td>bourbon</td>\n",
       "      <td>NaN</td>\n",
       "      <td>NaN</td>\n",
       "    </tr>\n",
       "    <tr>\n",
       "      <th>1951</th>\n",
       "      <td>-0.000515</td>\n",
       "      <td>0.036238</td>\n",
       "      <td>-0.032633</td>\n",
       "      <td>-0.041120</td>\n",
       "      <td>0.010659</td>\n",
       "      <td>-0.019405</td>\n",
       "      <td>-0.007532</td>\n",
       "      <td>-0.007356</td>\n",
       "      <td>0.014542</td>\n",
       "      <td>-0.014221</td>\n",
       "      <td>CAOL ILA 17 YEAR (2015 SPECIAL RELEASE)</td>\n",
       "      <td>single_malt</td>\n",
       "      <td>Caol Ila</td>\n",
       "      <td>NaN</td>\n",
       "    </tr>\n",
       "    <tr>\n",
       "      <th>2309</th>\n",
       "      <td>0.109909</td>\n",
       "      <td>0.026027</td>\n",
       "      <td>-0.031247</td>\n",
       "      <td>-0.008465</td>\n",
       "      <td>0.050763</td>\n",
       "      <td>0.016843</td>\n",
       "      <td>-0.008085</td>\n",
       "      <td>0.012264</td>\n",
       "      <td>-0.017439</td>\n",
       "      <td>-0.044271</td>\n",
       "      <td>GLENCADAM 15 YEAR</td>\n",
       "      <td>single_malt</td>\n",
       "      <td>Glencadam</td>\n",
       "      <td>NaN</td>\n",
       "    </tr>\n",
       "    <tr>\n",
       "      <th>2303</th>\n",
       "      <td>-0.019312</td>\n",
       "      <td>0.074311</td>\n",
       "      <td>0.008677</td>\n",
       "      <td>-0.036139</td>\n",
       "      <td>-0.006942</td>\n",
       "      <td>0.000933</td>\n",
       "      <td>-0.025343</td>\n",
       "      <td>0.001581</td>\n",
       "      <td>-0.086479</td>\n",
       "      <td>-0.044671</td>\n",
       "      <td>SCARABUS SINGLE MALT</td>\n",
       "      <td>single_malt_peated</td>\n",
       "      <td>Scarabus</td>\n",
       "      <td>PEATY</td>\n",
       "    </tr>\n",
       "    <tr>\n",
       "      <th>2975</th>\n",
       "      <td>0.002287</td>\n",
       "      <td>0.016872</td>\n",
       "      <td>0.030390</td>\n",
       "      <td>-0.027910</td>\n",
       "      <td>0.023291</td>\n",
       "      <td>0.007249</td>\n",
       "      <td>0.003097</td>\n",
       "      <td>0.014450</td>\n",
       "      <td>0.007317</td>\n",
       "      <td>-0.001464</td>\n",
       "      <td>SONS OF ERIN IRISH WHISKEY</td>\n",
       "      <td>ireland_whiskey</td>\n",
       "      <td>NaN</td>\n",
       "      <td>NaN</td>\n",
       "    </tr>\n",
       "  </tbody>\n",
       "</table>\n",
       "</div>"
      ],
      "text/plain": [
       "            V1        V2        V3        V4        V5        V6        V7  \\\n",
       "1884  0.013096  0.032685  0.035262 -0.011332  0.027852  0.015107  0.034344   \n",
       "1951 -0.000515  0.036238 -0.032633 -0.041120  0.010659 -0.019405 -0.007532   \n",
       "2309  0.109909  0.026027 -0.031247 -0.008465  0.050763  0.016843 -0.008085   \n",
       "2303 -0.019312  0.074311  0.008677 -0.036139 -0.006942  0.000933 -0.025343   \n",
       "2975  0.002287  0.016872  0.030390 -0.027910  0.023291  0.007249  0.003097   \n",
       "\n",
       "            V8        V9       V10                                 alc_name  \\\n",
       "1884  0.019295  0.021352  0.011611            FILIBUSTER DUAL CASK FINISHED   \n",
       "1951 -0.007356  0.014542 -0.014221  CAOL ILA 17 YEAR (2015 SPECIAL RELEASE)   \n",
       "2309  0.012264 -0.017439 -0.044271                        GLENCADAM 15 YEAR   \n",
       "2303  0.001581 -0.086479 -0.044671                     SCARABUS SINGLE MALT   \n",
       "2975  0.014450  0.007317 -0.001464               SONS OF ERIN IRISH WHISKEY   \n",
       "\n",
       "                alc_type      Brand Flavor  \n",
       "1884             bourbon        NaN    NaN  \n",
       "1951         single_malt   Caol Ila    NaN  \n",
       "2309         single_malt  Glencadam    NaN  \n",
       "2303  single_malt_peated   Scarabus  PEATY  \n",
       "2975     ireland_whiskey        NaN    NaN  "
      ]
     },
     "execution_count": 132,
     "metadata": {},
     "output_type": "execute_result"
    }
   ],
   "source": [
    "df_alc_svd = np.matmul(df_full_res.to_numpy(), v[:,0:10])\n",
    "df_alc_svd = pd.DataFrame(df_alc_svd, columns = ['V1','V2','V3','V4','V5','V6','V7','V8','V9','V10'])\n",
    "df_alc_svd.shape\n",
    "df_alc_svd['alc_name'] = df_revs_text['alc_name']\n",
    "df_alc_svd = pd.merge(df_alc_svd, df_revs_fin, \"left\", on = \"alc_name\")\n",
    "df_alc_svd.sample(5)"
   ]
  },
  {
   "cell_type": "code",
   "execution_count": 168,
   "metadata": {},
   "outputs": [
    {
     "data": {
      "text/plain": [
       "<matplotlib.legend.Legend at 0x7fe40ab67e50>"
      ]
     },
     "execution_count": 168,
     "metadata": {},
     "output_type": "execute_result"
    },
    {
     "data": {
      "image/png": "[encoded data removed]",
      "text/plain": [
       "<Figure size 720x576 with 1 Axes>"
      ]
     },
     "metadata": {
      "needs_background": "light"
     },
     "output_type": "display_data"
    }
   ],
   "source": [
    "grouping = df_alc_svd.loc[np.isin(df_alc_svd['alc_type'], ['bourbon', 'rye', 'single_malt', 'single_malt_peated']),:]\n",
    "grouping = grouping.groupby(['alc_type'])\n",
    "\n",
    "fig, ax = plt.subplots(figsize = (10, 8))\n",
    "ax.margins(0.05) # Optional, just adds 5% padding to the autoscaling\n",
    "for name, group in grouping:\n",
    "    ax.plot(group.V2, group.V3, marker='o', linestyle='', ms = 4, label=name, alpha = 0.5)\n",
    "ax.legend()"
   ]
  },
  {
   "cell_type": "code",
   "execution_count": 176,
   "metadata": {},
   "outputs": [
    {
     "data": {
      "text/plain": [
       "<matplotlib.legend.Legend at 0x7fe40a90fc10>"
      ]
     },
     "execution_count": 176,
     "metadata": {},
     "output_type": "execute_result"
    },
    {
     "data": {
      "image/png": "[encoded data removed]",
      "text/plain": [
       "<Figure size 720x576 with 1 Axes>"
      ]
     },
     "metadata": {
      "needs_background": "light"
     },
     "output_type": "display_data"
    }
   ],
   "source": [
    "grouping = df_alc_svd.loc[~df_alc_svd['Brand'].isnull(),:].reset_index(drop = True)\n",
    "grouping['ct_brand'] = grouping.groupby(['Brand'])['V1'].transform(lambda x: sum(~np.isnan(x)))\n",
    "grouping = grouping.loc[grouping['ct_brand'] >= 25]\n",
    "\n",
    "grouping = grouping.groupby(['Brand'])\n",
    "\n",
    "fig, ax = plt.subplots(figsize = (10, 8))\n",
    "ax.margins(0.05) # Optional, just adds 5% padding to the autoscaling\n",
    "for name, group in grouping:\n",
    "    ax.plot(group.V2, group.V3, marker='o', linestyle='', ms = 4, label=name, alpha = 0.5)\n",
    "ax.legend()"
   ]
  },
  {
   "cell_type": "code",
   "execution_count": 226,
   "metadata": {},
   "outputs": [
    {
     "name": "stdout",
     "output_type": "stream",
     "text": [
      "(3112, 14)\n",
      "                 Flavor   ct\n",
      "70   RICH & FULL BODIED  171\n",
      "28       FRUITY & SWEET  143\n",
      "111        SWEET & RICH  107\n",
      "103               SWEET   89\n",
      "91                SPICY   72\n",
      "37   FULL BODIED & RICH   58\n",
      "106      SWEET & FRUITY   58\n",
      "133     VANILLA & SWEET   57\n",
      "18               FRUITY   53\n",
      "30     FRUITY & VANILLA   50\n",
      "31          FULL BODIED   48\n",
      "24        FRUITY & RICH   48\n",
      "67                 RICH   42\n",
      "131      VANILLA & RICH   38\n",
      "125             VANILLA   36\n"
     ]
    },
    {
     "data": {
      "text/plain": [
       "<matplotlib.legend.Legend at 0x7fe4091c9c10>"
      ]
     },
     "execution_count": 226,
     "metadata": {},
     "output_type": "execute_result"
    },
    {
     "data": {
      "image/png": "[encoded data removed]",
      "text/plain": [
       "<Figure size 720x576 with 1 Axes>"
      ]
     },
     "metadata": {
      "needs_background": "light"
     },
     "output_type": "display_data"
    }
   ],
   "source": [
    "print(df_alc_svd.shape)\n",
    "grouping = df_alc_svd.loc[~df_alc_svd['Flavor'].isnull(),:].reset_index(drop = True)\n",
    "grouping['ct_flavor'] = grouping.groupby(['Flavor'])['V1'].transform(lambda x: sum(~np.isnan(x)))\n",
    "top_flavors = grouping.groupby(['Flavor']).size().reset_index(name = 'ct').sort_values('ct', ascending = False)[0:15]\n",
    "print(top_flavors)\n",
    "\n",
    "# grouping = grouping.loc[np.isin(grouping['Flavor'], top_flavors['Flavor']),:]\n",
    "grouping = grouping.loc[np.isin(grouping['Flavor'], ['FRUITY', 'SWEET', 'RICH', 'VANILLA & SWEET', 'SPICY', 'PEATY', 'PEATY & SMOKY', 'SMOKY', 'BRINY & SALTY'] ),:]\n",
    "grouping = grouping.groupby(['Flavor'])\n",
    "\n",
    "fig, ax = plt.subplots(figsize = (10, 8))\n",
    "ax.margins(0.05) # Optional, just adds 5% padding to the autoscaling\n",
    "for name, group in grouping:\n",
    "    ax.plot(group.V2, group.V3, marker='o', linestyle='', ms = 4, label=name, alpha = 0.5)\n",
    "ax.legend()"
   ]
  },
  {
   "cell_type": "code",
   "execution_count": 221,
   "metadata": {},
   "outputs": [
    {
     "data": {
      "text/html": [
       "<div>\n",
       "<style scoped>\n",
       "    .dataframe tbody tr th:only-of-type {\n",
       "        vertical-align: middle;\n",
       "    }\n",
       "\n",
       "    .dataframe tbody tr th {\n",
       "        vertical-align: top;\n",
       "    }\n",
       "\n",
       "    .dataframe thead th {\n",
       "        text-align: right;\n",
       "    }\n",
       "</style>\n",
       "<table border=\"1\" class=\"dataframe\">\n",
       "  <thead>\n",
       "    <tr style=\"text-align: right;\">\n",
       "      <th></th>\n",
       "      <th>Flavor</th>\n",
       "      <th>ct</th>\n",
       "    </tr>\n",
       "  </thead>\n",
       "  <tbody>\n",
       "    <tr>\n",
       "      <th>6</th>\n",
       "      <td>BRINY &amp; SALTY</td>\n",
       "      <td>4</td>\n",
       "    </tr>\n",
       "    <tr>\n",
       "      <th>77</th>\n",
       "      <td>SALTY</td>\n",
       "      <td>3</td>\n",
       "    </tr>\n",
       "    <tr>\n",
       "      <th>112</th>\n",
       "      <td>SWEET &amp; SALTY</td>\n",
       "      <td>3</td>\n",
       "    </tr>\n",
       "    <tr>\n",
       "      <th>25</th>\n",
       "      <td>FRUITY &amp; SALTY</td>\n",
       "      <td>2</td>\n",
       "    </tr>\n",
       "    <tr>\n",
       "      <th>80</th>\n",
       "      <td>SALTY &amp; OILY</td>\n",
       "      <td>2</td>\n",
       "    </tr>\n",
       "    <tr>\n",
       "      <th>88</th>\n",
       "      <td>SMOKY &amp; SALTY</td>\n",
       "      <td>1</td>\n",
       "    </tr>\n",
       "    <tr>\n",
       "      <th>78</th>\n",
       "      <td>SALTY &amp; BRINY</td>\n",
       "      <td>1</td>\n",
       "    </tr>\n",
       "    <tr>\n",
       "      <th>79</th>\n",
       "      <td>SALTY &amp; FRUITY</td>\n",
       "      <td>1</td>\n",
       "    </tr>\n",
       "    <tr>\n",
       "      <th>81</th>\n",
       "      <td>SALTY &amp; SPICY</td>\n",
       "      <td>1</td>\n",
       "    </tr>\n",
       "  </tbody>\n",
       "</table>\n",
       "</div>"
      ],
      "text/plain": [
       "             Flavor  ct\n",
       "6     BRINY & SALTY   4\n",
       "77            SALTY   3\n",
       "112   SWEET & SALTY   3\n",
       "25   FRUITY & SALTY   2\n",
       "80     SALTY & OILY   2\n",
       "88    SMOKY & SALTY   1\n",
       "78    SALTY & BRINY   1\n",
       "79   SALTY & FRUITY   1\n",
       "81    SALTY & SPICY   1"
      ]
     },
     "execution_count": 221,
     "metadata": {},
     "output_type": "execute_result"
    }
   ],
   "source": [
    "grouping = df_alc_svd.loc[~df_alc_svd['Flavor'].isnull(),:].reset_index(drop = True)\n",
    "grouping['ct_flavor'] = grouping.groupby(['Flavor'])['V1'].transform(lambda x: sum(~np.isnan(x)))\n",
    "top_flavors = grouping.groupby(['Flavor']).size().reset_index(name = 'ct').sort_values('ct', ascending = False)\n",
    "top_flavors.loc[['SALTY' in elem for elem in top_flavors.Flavor]]"
   ]
  },
  {
   "cell_type": "code",
   "execution_count": null,
   "metadata": {},
   "outputs": [],
   "source": []
  },
  {
   "cell_type": "code",
   "execution_count": null,
   "metadata": {},
   "outputs": [],
   "source": []
  },
  {
   "cell_type": "code",
   "execution_count": null,
   "metadata": {},
   "outputs": [],
   "source": []
  },
  {
   "cell_type": "code",
   "execution_count": 11,
   "metadata": {},
   "outputs": [],
   "source": [
    "# WRITE A TOP 10 TYPE OF THING\n",
    "# Serendipity and novelty --> specific concepts in recommender world\n",
    "# Would you discover this item on your own, or is it only through us recommending it to you? \n",
    "# A measure of serendipity --> like how popular is it? \n",
    "# Find not-so-popular distillers, not-so-popular whiskeys, a DIFFERENT whiskey from the alc_type\n",
    "# Inverse Zipf dist. --> boosting things low on tail for recommending\n",
    "# Slope1 collaborative filtering --> it's in Surprise"
   ]
  },
  {
   "cell_type": "code",
   "execution_count": null,
   "metadata": {},
   "outputs": [],
   "source": [
    "'''\n",
    "Generating a top 10 list, top 5 list etc.\n",
    "So, WEIGHT the error based off of what the actual rating of the user is. \n",
    "e.g. If average rating of user = 3 but they actually rate a thing 1.5, that's too low and we don't care. \n",
    "Concordant pairs --> another useful metric for recommenders\n",
    "'''"
   ]
  },
  {
   "cell_type": "code",
   "execution_count": 294,
   "metadata": {},
   "outputs": [],
   "source": [
    "### If estimate is higher --> fine. If estimate is lower --> penalty\n",
    "### % of items recommended / total actual items user likes --> \"recall\"\n",
    "### % of items actually liked / total items recommended --> \"precision\"\n",
    "### Recommended items versus relevant items\n",
    "### Serendipity / novelty --> look at list\n",
    "### How to define serendipity? At USER level, pick distilleries that are less frequently rated by them / pick alc_types less frequently rated\n",
    "### MATRIX FAC!!!! SGD based or ALS. SVD with missing values. NNMF\n",
    "### Content-based?\n",
    "### NFA applications --> recommending teams for a module\n",
    "### MULTI-DIMENSIONAL RECOMMENDATION MATRICES? Ratings over time --> treated as a time series\n",
    "### RATINGS VS RANKINGS ACCURACY"
   ]
  }
 ],
 "metadata": {
  "kernel_info": {
   "name": "python3"
  },
  "kernelspec": {
   "display_name": "Python 3 (ipykernel)",
   "language": "python",
   "name": "python3"
  },
  "language_info": {
   "codemirror_mode": {
    "name": "ipython",
    "version": 3
   },
   "file_extension": ".py",
   "mimetype": "text/x-python",
   "name": "python",
   "nbconvert_exporter": "python",
   "pygments_lexer": "ipython3",
   "version": "3.8.5"
  },
  "nteract": {
   "version": "nteract-front-end@1.0.0"
  }
 },
 "nbformat": 4,
 "nbformat_minor": 4
}
