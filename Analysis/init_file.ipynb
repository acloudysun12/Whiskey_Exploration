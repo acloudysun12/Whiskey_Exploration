{
 "cells": [
  {
   "cell_type": "code",
   "execution_count": 1,
   "metadata": {},
   "outputs": [],
   "source": [
    "import numpy as np\n",
    "import pandas as pd\n",
    "import csv\n",
    "import scipy\n",
    "from scipy import stats\n",
    "import os\n",
    "import datetime\n",
    "from dateutil.relativedelta import relativedelta\n",
    "import statsmodels.api as sm\n",
    "import investpy\n",
    "import requests\n",
    "import sys, json\n",
    "import time\n",
    "from bs4 import BeautifulSoup\n",
    "from selenium import webdriver\n",
    "from selenium.webdriver.common.keys import Keys"
   ]
  },
  {
   "cell_type": "code",
   "execution_count": 2,
   "metadata": {},
   "outputs": [],
   "source": [
    "# IN CASE NEED TO UPDATE CHROMEDRIVER, RUN BELOW \n",
    "\n",
    "# from selenium import webdriver\n",
    "# from webdriver_manager.chrome import ChromeDriverManager\n",
    "# driver = webdriver.Chrome(ChromeDriverManager().install())"
   ]
  },
  {
   "cell_type": "code",
   "execution_count": 3,
   "metadata": {
    "scrolled": true
   },
   "outputs": [
    {
     "name": "stdout",
     "output_type": "stream",
     "text": [
      "C:\\Users\\aclou\\Documents\\Projects\\Investing\\Utils\n",
      "C:\\Users\\aclou\\anaconda3\\python38.zip\n",
      "C:\\Users\\aclou\\anaconda3\\DLLs\n",
      "C:\\Users\\aclou\\anaconda3\\lib\n",
      "C:\\Users\\aclou\\anaconda3\n",
      "\n",
      "C:\\Users\\aclou\\anaconda3\\lib\\site-packages\n",
      "C:\\Users\\aclou\\anaconda3\\lib\\site-packages\\win32\n",
      "C:\\Users\\aclou\\anaconda3\\lib\\site-packages\\win32\\lib\n",
      "C:\\Users\\aclou\\anaconda3\\lib\\site-packages\\Pythonwin\n",
      "C:\\Users\\aclou\\anaconda3\\lib\\site-packages\\IPython\\extensions\n",
      "C:\\Users\\aclou\\.ipython\n"
     ]
    }
   ],
   "source": [
    "for p in sys.path:\n",
    "    print(p)"
   ]
  },
  {
   "cell_type": "code",
   "execution_count": 4,
   "metadata": {
    "scrolled": false
   },
   "outputs": [],
   "source": [
    "driver = webdriver.Chrome(r'C:\\Users\\aclou\\AppData\\Local\\Programs\\Python\\Python39\\Scripts\\chromedriver')"
   ]
  },
  {
   "cell_type": "code",
   "execution_count": null,
   "metadata": {},
   "outputs": [],
   "source": []
  },
  {
   "cell_type": "code",
   "execution_count": null,
   "metadata": {},
   "outputs": [],
   "source": []
  }
 ],
 "metadata": {
  "kernelspec": {
   "display_name": "Python 3",
   "language": "python",
   "name": "python3"
  },
  "language_info": {
   "codemirror_mode": {
    "name": "ipython",
    "version": 3
   },
   "file_extension": ".py",
   "mimetype": "text/x-python",
   "name": "python",
   "nbconvert_exporter": "python",
   "pygments_lexer": "ipython3",
   "version": "3.8.5"
  }
 },
 "nbformat": 4,
 "nbformat_minor": 4
}
