{
 "cells": [
  {
   "cell_type": "code",
   "execution_count": 1,
   "metadata": {},
   "outputs": [],
   "source": [
    "import numpy as np\n",
    "import pandas as pd\n",
    "import csv\n",
    "from scipy import stats\n",
    "import os\n",
    "import datetime\n",
    "import statsmodels.api as sm\n",
    "import requests\n",
    "import sys, json\n",
    "import time\n",
    "from bs4 import BeautifulSoup\n",
    "from selenium import webdriver\n",
    "from selenium.webdriver.common.keys import Keys\n",
    "from selenium.common.exceptions import NoSuchElementException\n",
    "import random"
   ]
  },
  {
   "cell_type": "code",
   "execution_count": 2,
   "metadata": {},
   "outputs": [],
   "source": [
    "# IN CASE NEED TO UPDATE CHROMEDRIVER, RUN BELOW \n",
    "\n",
    "# from selenium import webdriver\n",
    "# from webdriver_manager.chrome import ChromeDriverManager\n",
    "# driver = webdriver.Chrome(ChromeDriverManager().install())"
   ]
  },
  {
   "cell_type": "code",
   "execution_count": 3,
   "metadata": {
    "scrolled": true
   },
   "outputs": [
    {
     "name": "stdout",
     "output_type": "stream",
     "text": [
      "C:\\Users\\aclou\\Documents\\Projects\\Whiskey_Ratings\\Scripts\n",
      "C:\\Users\\aclou\\anaconda3\\python38.zip\n",
      "C:\\Users\\aclou\\anaconda3\\DLLs\n",
      "C:\\Users\\aclou\\anaconda3\\lib\n",
      "C:\\Users\\aclou\\anaconda3\n",
      "\n",
      "C:\\Users\\aclou\\anaconda3\\lib\\site-packages\n",
      "C:\\Users\\aclou\\anaconda3\\lib\\site-packages\\win32\n",
      "C:\\Users\\aclou\\anaconda3\\lib\\site-packages\\win32\\lib\n",
      "C:\\Users\\aclou\\anaconda3\\lib\\site-packages\\Pythonwin\n",
      "C:\\Users\\aclou\\anaconda3\\lib\\site-packages\\IPython\\extensions\n",
      "C:\\Users\\aclou\\.ipython\n"
     ]
    }
   ],
   "source": [
    "for p in sys.path:\n",
    "    print(p)"
   ]
  },
  {
   "cell_type": "code",
   "execution_count": 4,
   "metadata": {},
   "outputs": [],
   "source": [
    "# DATA PREP. READ IN FILE\n",
    "\n",
    "df_whisk_main_char = pd.read_csv(os.path.dirname(os.getcwd())+'\\Datasets\\single_malt_peated_main.csv', index_col = False)\n",
    "\n",
    "ls_num_revs = []\n",
    "ls_brand = []\n",
    "ls_cost = []\n",
    "ls_age = []\n",
    "ls_abv = []\n",
    "ls_flavor = []\n",
    "ls_profile = []"
   ]
  },
  {
   "cell_type": "code",
   "execution_count": 5,
   "metadata": {},
   "outputs": [
    {
     "data": {
      "text/plain": [
       "True"
      ]
     },
     "execution_count": 5,
     "metadata": {},
     "output_type": "execute_result"
    }
   ],
   "source": [
    "np.isnan(df_whisk_main_char['Distiller_Score'][1])"
   ]
  },
  {
   "cell_type": "code",
   "execution_count": 6,
   "metadata": {},
   "outputs": [],
   "source": [
    "# url = df_whisk_main_char['URL'][1]\n",
    "\n",
    "# driver = webdriver.Chrome(r'C:\\Users\\aclou\\AppData\\Local\\Programs\\Python\\Python39\\Scripts\\chromedriver')\n",
    "# driver.get(url)\n",
    "# time.sleep(10)\n",
    "    \n",
    "# # scrape\n",
    "# xpath_olist = \"//ol[@class='spirits']/li[@class='spirit whiskey-content']\"\n",
    "# whiskey_elems = driver.find_elements_by_xpath(xpath_olist)"
   ]
  },
  {
   "cell_type": "code",
   "execution_count": null,
   "metadata": {},
   "outputs": [],
   "source": [
    "xpath_num_revs = \"//div[@class='primary-content']//div[@class='tab-content']//span[@class='count']\"\n",
    "whiskey_num_revs = driver.find_element_by_xpath(xpath_num_revs)\n",
    "whiskey_num_revs.text"
   ]
  },
  {
   "cell_type": "code",
   "execution_count": null,
   "metadata": {},
   "outputs": [],
   "source": [
    "xpath_brand = \"//div[@class='top-image']//div[@class='secondary-details']//h2[2]\"\n",
    "whiskey_brand = driver.find_element_by_xpath(xpath_brand)\n",
    "whiskey_brand.get_attribute('content')"
   ]
  },
  {
   "cell_type": "code",
   "execution_count": null,
   "metadata": {},
   "outputs": [],
   "source": [
    "xpath_cost = \"//div[@class='primary-content']//div[@class='tabs-body']//li[@class='detail cost']//div[@class='value']/div\"\n",
    "whiskey_cost = driver.find_element_by_xpath(xpath_cost)\n",
    "whiskey_cost.get_attribute('class')"
   ]
  },
  {
   "cell_type": "code",
   "execution_count": null,
   "metadata": {},
   "outputs": [],
   "source": [
    "xpath_age = \"//div[@class='primary-content']//div[@class='tabs-body']//div[@class='row']//li[@class='detail age']//div[@class='value']\"\n",
    "whiskey_age = driver.find_element_by_xpath(xpath_age)\n",
    "whiskey_age.text"
   ]
  },
  {
   "cell_type": "code",
   "execution_count": null,
   "metadata": {},
   "outputs": [],
   "source": [
    "xpath_abv = \"//div[@class='primary-content']//div[@class='tabs-body']//div[@class='row']//li[@class='detail abv']//div[@class='value']\"\n",
    "whiskey_abv = driver.find_element_by_xpath(xpath_abv)\n",
    "whiskey_abv.text"
   ]
  },
  {
   "cell_type": "code",
   "execution_count": null,
   "metadata": {},
   "outputs": [],
   "source": [
    "xpath_flavor = \"//div[@class='primary-content']//div[@class='tabs-body']//div[@class='flavor-profile']/h3\"\n",
    "whiskey_flavor = driver.find_element_by_xpath(xpath_flavor)\n",
    "whiskey_flavor.text"
   ]
  },
  {
   "cell_type": "code",
   "execution_count": null,
   "metadata": {
    "scrolled": true
   },
   "outputs": [],
   "source": [
    "xpath_profile = \"//div[@class='primary-content']//div[@class='tabs-body']//div[@class='flavor-profile']/canvas\"\n",
    "whiskey_profile = driver.find_element_by_xpath(xpath_profile)\n",
    "whiskey_profile.get_attribute('data-flavors')"
   ]
  },
  {
   "cell_type": "code",
   "execution_count": null,
   "metadata": {},
   "outputs": [],
   "source": []
  },
  {
   "cell_type": "code",
   "execution_count": null,
   "metadata": {},
   "outputs": [],
   "source": [
    "driver = webdriver.Chrome(r'C:\\Users\\aclou\\AppData\\Local\\Programs\\Python\\Python39\\Scripts\\chromedriver')\n",
    "\n",
    "start = time.time() \n",
    "\n",
    "for idx in range(len(df_whisk_main_char)):\n",
    "    url = df_whisk_main_char['URL'][idx]\n",
    "    driver.get(url)\n",
    "    time.sleep(5)\n",
    "    \n",
    "    # scrape\n",
    "    xpath_num_revs = \"//div[@class='primary-content']//div[@class='tab-content']//span[@class='count']\"\n",
    "    whiskey_num_revs = driver.find_element_by_xpath(xpath_num_revs)\n",
    "    ls_num_revs.append(whiskey_num_revs.text)\n",
    "    \n",
    "    xpath_brand = \"//div[@class='top-image']//div[@class='secondary-details']//h2[2]\"\n",
    "    whiskey_brand = driver.find_element_by_xpath(xpath_brand)\n",
    "    ls_brand.append(whiskey_brand.get_attribute('content'))\n",
    "    \n",
    "    xpath_cost = \"//div[@class='primary-content']//div[@class='tabs-body']//li[@class='detail cost']//div[@class='value']/div\"\n",
    "    whiskey_cost = driver.find_element_by_xpath(xpath_cost)\n",
    "    ls_cost.append(whiskey_cost.get_attribute('class'))\n",
    "    \n",
    "    xpath_age = \"//div[@class='primary-content']//div[@class='tabs-body']//div[@class='row']//li[@class='detail age']//div[@class='value']\"\n",
    "    whiskey_age = driver.find_element_by_xpath(xpath_age)\n",
    "    ls_age.append(whiskey_age.text)\n",
    "    \n",
    "    xpath_abv = \"//div[@class='primary-content']//div[@class='tabs-body']//div[@class='row']//li[@class='detail abv']//div[@class='value']\"\n",
    "    whiskey_abv = driver.find_element_by_xpath(xpath_abv)\n",
    "    ls_abv.append(whiskey_abv.text)\n",
    "    \n",
    "    if np.isnan(df_whisk_main_char['Distiller_Score'][idx]):\n",
    "        ls_flavor.append('NA')\n",
    "        ls_profile.append('NA')\n",
    "    else: \n",
    "        xpath_flavor = \"//div[@class='primary-content']//div[@class='tabs-body']//div[@class='flavor-profile']/h3\"\n",
    "        whiskey_flavor = driver.find_element_by_xpath(xpath_flavor)\n",
    "        ls_flavor.append(whiskey_flavor.text)\n",
    "\n",
    "        xpath_profile = \"//div[@class='primary-content']//div[@class='tabs-body']//div[@class='flavor-profile']/canvas\"\n",
    "        whiskey_profile = driver.find_element_by_xpath(xpath_profile)\n",
    "        ls_profile.append(whiskey_profile.get_attribute('data-flavors'))\n",
    "\n",
    "    wait_time = random.randrange(20, 35)\n",
    "    time.sleep(wait_time)\n",
    "\n",
    "end = time.time()\n",
    "\n",
    "driver.close()"
   ]
  },
  {
   "cell_type": "code",
   "execution_count": null,
   "metadata": {
    "scrolled": true
   },
   "outputs": [],
   "source": [
    "end - start"
   ]
  },
  {
   "cell_type": "code",
   "execution_count": null,
   "metadata": {},
   "outputs": [],
   "source": []
  },
  {
   "cell_type": "code",
   "execution_count": null,
   "metadata": {},
   "outputs": [],
   "source": [
    "# content = driver.page_source\n",
    "# whiskey_elems[0].get_attribute('innerHTML')\n",
    "# print(whiskey_elems[0].text)"
   ]
  },
  {
   "cell_type": "code",
   "execution_count": 8,
   "metadata": {},
   "outputs": [
    {
     "data": {
      "text/html": [
       "<div>\n",
       "<style scoped>\n",
       "    .dataframe tbody tr th:only-of-type {\n",
       "        vertical-align: middle;\n",
       "    }\n",
       "\n",
       "    .dataframe tbody tr th {\n",
       "        vertical-align: top;\n",
       "    }\n",
       "\n",
       "    .dataframe thead th {\n",
       "        text-align: right;\n",
       "    }\n",
       "</style>\n",
       "<table border=\"1\" class=\"dataframe\">\n",
       "  <thead>\n",
       "    <tr style=\"text-align: right;\">\n",
       "      <th></th>\n",
       "      <th>Whisk_Name</th>\n",
       "      <th>URL</th>\n",
       "      <th>Num_Revs</th>\n",
       "      <th>Brand</th>\n",
       "      <th>Cost</th>\n",
       "      <th>Age</th>\n",
       "      <th>ABV</th>\n",
       "      <th>Flavor</th>\n",
       "      <th>Profile</th>\n",
       "    </tr>\n",
       "  </thead>\n",
       "  <tbody>\n",
       "    <tr>\n",
       "      <th>0</th>\n",
       "      <td>LEDAIG SINCLAIR SERIES RIOJA CASK</td>\n",
       "      <td>https://distiller.com/spirits/ledaig-sinclair-...</td>\n",
       "      <td>9</td>\n",
       "      <td>None</td>\n",
       "      <td>spirit-cost cost-2</td>\n",
       "      <td></td>\n",
       "      <td>46.3</td>\n",
       "      <td>NA</td>\n",
       "      <td>NA</td>\n",
       "    </tr>\n",
       "    <tr>\n",
       "      <th>1</th>\n",
       "      <td>ISLAY GOLD LORCAN ISLAY SINGLE MALT</td>\n",
       "      <td>https://distiller.com/spirits/islay-gold-lorca...</td>\n",
       "      <td>10</td>\n",
       "      <td>Islay Gold</td>\n",
       "      <td>spirit-cost cost-2</td>\n",
       "      <td>NAS</td>\n",
       "      <td>46.0</td>\n",
       "      <td>NA</td>\n",
       "      <td>NA</td>\n",
       "    </tr>\n",
       "    <tr>\n",
       "      <th>2</th>\n",
       "      <td>'AS WE GET IT' CASK STRENGTH ISLAY SINGLE MALT...</td>\n",
       "      <td>https://distiller.com/spirits/as-we-get-it</td>\n",
       "      <td>9</td>\n",
       "      <td>None</td>\n",
       "      <td>spirit-cost cost-3</td>\n",
       "      <td></td>\n",
       "      <td>60.5</td>\n",
       "      <td>NA</td>\n",
       "      <td>NA</td>\n",
       "    </tr>\n",
       "    <tr>\n",
       "      <th>3</th>\n",
       "      <td>OCTOMORE 10.2/96.9 SCOTTISH BARLEY</td>\n",
       "      <td>https://distiller.com/spirits/octomore-10-2-96...</td>\n",
       "      <td>9</td>\n",
       "      <td>Octomore</td>\n",
       "      <td>spirit-cost cost-5</td>\n",
       "      <td>8 YEAR</td>\n",
       "      <td>56.9</td>\n",
       "      <td>RICH &amp; FULL BODIED</td>\n",
       "      <td>{\"smoky\":40,\"peaty\":35,\"spicy\":10,\"herbal\":10,...</td>\n",
       "    </tr>\n",
       "    <tr>\n",
       "      <th>4</th>\n",
       "      <td>FINLAGGAN RED WINE CASK MATURED</td>\n",
       "      <td>https://distiller.com/spirits/finlaggan-red-wi...</td>\n",
       "      <td>9</td>\n",
       "      <td>Finlaggan</td>\n",
       "      <td>spirit-cost cost-2</td>\n",
       "      <td>NAS</td>\n",
       "      <td>46.0</td>\n",
       "      <td>SWEET</td>\n",
       "      <td>{\"smoky\":35,\"peaty\":45,\"spicy\":35,\"herbal\":10,...</td>\n",
       "    </tr>\n",
       "  </tbody>\n",
       "</table>\n",
       "</div>"
      ],
      "text/plain": [
       "                                          Whisk_Name  \\\n",
       "0                  LEDAIG SINCLAIR SERIES RIOJA CASK   \n",
       "1                ISLAY GOLD LORCAN ISLAY SINGLE MALT   \n",
       "2  'AS WE GET IT' CASK STRENGTH ISLAY SINGLE MALT...   \n",
       "3                 OCTOMORE 10.2/96.9 SCOTTISH BARLEY   \n",
       "4                    FINLAGGAN RED WINE CASK MATURED   \n",
       "\n",
       "                                                 URL Num_Revs       Brand  \\\n",
       "0  https://distiller.com/spirits/ledaig-sinclair-...        9        None   \n",
       "1  https://distiller.com/spirits/islay-gold-lorca...       10  Islay Gold   \n",
       "2         https://distiller.com/spirits/as-we-get-it        9        None   \n",
       "3  https://distiller.com/spirits/octomore-10-2-96...        9    Octomore   \n",
       "4  https://distiller.com/spirits/finlaggan-red-wi...        9   Finlaggan   \n",
       "\n",
       "                 Cost     Age   ABV              Flavor  \\\n",
       "0  spirit-cost cost-2          46.3                  NA   \n",
       "1  spirit-cost cost-2     NAS  46.0                  NA   \n",
       "2  spirit-cost cost-3          60.5                  NA   \n",
       "3  spirit-cost cost-5  8 YEAR  56.9  RICH & FULL BODIED   \n",
       "4  spirit-cost cost-2     NAS  46.0               SWEET   \n",
       "\n",
       "                                             Profile  \n",
       "0                                                 NA  \n",
       "1                                                 NA  \n",
       "2                                                 NA  \n",
       "3  {\"smoky\":40,\"peaty\":35,\"spicy\":10,\"herbal\":10,...  \n",
       "4  {\"smoky\":35,\"peaty\":45,\"spicy\":35,\"herbal\":10,...  "
      ]
     },
     "execution_count": 8,
     "metadata": {},
     "output_type": "execute_result"
    }
   ],
   "source": [
    "ls_for_df = [df_whisk_main_char['Whisk_Name'], df_whisk_main_char['URL'], ls_num_revs, \\\n",
    "             ls_brand, ls_cost, ls_age, ls_abv, ls_flavor, ls_profile]\n",
    "df_whisk_prof = pd.DataFrame(np.array(ls_for_df).T, \\\n",
    "                             columns = ['Whisk_Name', 'URL', 'Num_Revs', 'Brand', 'Cost', 'Age', 'ABV', 'Flavor', 'Profile'])\n",
    "df_whisk_prof.head()"
   ]
  },
  {
   "cell_type": "code",
   "execution_count": null,
   "metadata": {},
   "outputs": [],
   "source": []
  },
  {
   "cell_type": "code",
   "execution_count": 9,
   "metadata": {},
   "outputs": [],
   "source": [
    "df_whisk_prof.to_csv(os.path.dirname(os.getcwd())+'\\Datasets\\single_malt_peated_profiles.csv', index = False)"
   ]
  }
 ],
 "metadata": {
  "kernelspec": {
   "display_name": "Python 3",
   "language": "python",
   "name": "python3"
  },
  "language_info": {
   "codemirror_mode": {
    "name": "ipython",
    "version": 3
   },
   "file_extension": ".py",
   "mimetype": "text/x-python",
   "name": "python",
   "nbconvert_exporter": "python",
   "pygments_lexer": "ipython3",
   "version": "3.8.5"
  }
 },
 "nbformat": 4,
 "nbformat_minor": 4
}
