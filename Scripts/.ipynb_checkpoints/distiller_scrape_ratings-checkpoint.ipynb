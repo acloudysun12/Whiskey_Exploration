{
 "cells": [
  {
   "cell_type": "code",
   "execution_count": 1,
   "metadata": {},
   "outputs": [
    {
     "name": "stderr",
     "output_type": "stream",
     "text": [
      "C:\\Users\\aclou\\anaconda3\\lib\\site-packages\\statsmodels\\tsa\\base\\tsa_model.py:7: FutureWarning: pandas.Int64Index is deprecated and will be removed from pandas in a future version. Use pandas.Index with the appropriate dtype instead.\n",
      "  from pandas import (to_datetime, Int64Index, DatetimeIndex, Period,\n",
      "C:\\Users\\aclou\\anaconda3\\lib\\site-packages\\statsmodels\\tsa\\base\\tsa_model.py:7: FutureWarning: pandas.Float64Index is deprecated and will be removed from pandas in a future version. Use pandas.Index with the appropriate dtype instead.\n",
      "  from pandas import (to_datetime, Int64Index, DatetimeIndex, Period,\n"
     ]
    }
   ],
   "source": [
    "import numpy as np\n",
    "import pandas as pd\n",
    "import csv\n",
    "from scipy import stats\n",
    "import os\n",
    "import datetime\n",
    "import statsmodels.api as sm\n",
    "import requests\n",
    "import sys, json\n",
    "import time\n",
    "import re\n",
    "from bs4 import BeautifulSoup\n",
    "from selenium import webdriver\n",
    "from selenium.webdriver.common.keys import Keys\n",
    "from selenium.common.exceptions import NoSuchElementException\n",
    "import random\n",
    "import pickle"
   ]
  },
  {
   "cell_type": "code",
   "execution_count": 2,
   "metadata": {
    "scrolled": true
   },
   "outputs": [
    {
     "name": "stdout",
     "output_type": "stream",
     "text": [
      "C:\\Users\\aclou\\Documents\\Projects\\Whiskey_Ratings\\Scripts\n",
      "C:\\Users\\aclou\\anaconda3\\python38.zip\n",
      "C:\\Users\\aclou\\anaconda3\\DLLs\n",
      "C:\\Users\\aclou\\anaconda3\\lib\n",
      "C:\\Users\\aclou\\anaconda3\n",
      "\n",
      "C:\\Users\\aclou\\anaconda3\\lib\\site-packages\n",
      "C:\\Users\\aclou\\anaconda3\\lib\\site-packages\\win32\n",
      "C:\\Users\\aclou\\anaconda3\\lib\\site-packages\\win32\\lib\n",
      "C:\\Users\\aclou\\anaconda3\\lib\\site-packages\\Pythonwin\n",
      "C:\\Users\\aclou\\anaconda3\\lib\\site-packages\\IPython\\extensions\n",
      "C:\\Users\\aclou\\.ipython\n"
     ]
    }
   ],
   "source": [
    "for p in sys.path:\n",
    "    print(p)"
   ]
  },
  {
   "cell_type": "code",
   "execution_count": 3,
   "metadata": {},
   "outputs": [],
   "source": [
    "# DATA PREP. READ IN FILE\n",
    "\n",
    "df_alc_main_char = pd.read_csv(os.path.dirname(os.getcwd())+'/Datasets/URLs/all_whiskeys_main_20231209.csv', index_col = False)\n",
    "df_alc_profile = pd.read_csv(os.path.dirname(os.getcwd())+'/Datasets/Profiles/all_whisk_profiles_20231209.csv', index_col = False)\n",
    "\n",
    "df_alc_main_full = df_alc_main_char.merge(df_alc_profile, how = \"inner\", left_on = ['Alc_Name', 'URL'], right_on = ['Alc_Name', 'URL'])\n",
    "\n",
    "ls_num_revs = []\n",
    "ls_brand = []\n",
    "ls_cost = []\n",
    "ls_age = []\n",
    "ls_abv = []\n",
    "ls_flavor = []\n",
    "ls_profile = []"
   ]
  },
  {
   "cell_type": "code",
   "execution_count": 4,
   "metadata": {
    "scrolled": true
   },
   "outputs": [
    {
     "name": "stdout",
     "output_type": "stream",
     "text": [
      "(8392, 16)\n"
     ]
    },
    {
     "data": {
      "text/html": [
       "<div>\n",
       "<style scoped>\n",
       "    .dataframe tbody tr th:only-of-type {\n",
       "        vertical-align: middle;\n",
       "    }\n",
       "\n",
       "    .dataframe tbody tr th {\n",
       "        vertical-align: top;\n",
       "    }\n",
       "\n",
       "    .dataframe thead th {\n",
       "        text-align: right;\n",
       "    }\n",
       "</style>\n",
       "<table border=\"1\" class=\"dataframe\">\n",
       "  <thead>\n",
       "    <tr style=\"text-align: right;\">\n",
       "      <th></th>\n",
       "      <th>Alc_Name</th>\n",
       "      <th>Alc_Type</th>\n",
       "      <th>Alc_Loc</th>\n",
       "      <th>Communal_Rating</th>\n",
       "      <th>Distiller_Score</th>\n",
       "      <th>URL</th>\n",
       "      <th>Spirit</th>\n",
       "      <th>Num_Revs</th>\n",
       "      <th>Brand</th>\n",
       "      <th>Cost</th>\n",
       "      <th>Age</th>\n",
       "      <th>ABV</th>\n",
       "      <th>Flavor</th>\n",
       "      <th>Profile</th>\n",
       "      <th>Notes</th>\n",
       "      <th>Reviewer</th>\n",
       "    </tr>\n",
       "  </thead>\n",
       "  <tbody>\n",
       "    <tr>\n",
       "      <th>0</th>\n",
       "      <td>GLENFIDDICH 12 YEAR</td>\n",
       "      <td>Single Malt</td>\n",
       "      <td>Speyside, Scotland</td>\n",
       "      <td>3.36</td>\n",
       "      <td>86.0</td>\n",
       "      <td>https://distiller.com/spirits/glenfiddich-12</td>\n",
       "      <td>Whiskey</td>\n",
       "      <td>6111</td>\n",
       "      <td>Glenfiddich</td>\n",
       "      <td>spirit-cost cost-2</td>\n",
       "      <td>12 YEAR</td>\n",
       "      <td>NaN</td>\n",
       "      <td>FRUITY &amp; VANILLA</td>\n",
       "      <td>{\"smoky\":20,\"peaty\":10,\"spicy\":40,\"herbal\":30,...</td>\n",
       "      <td>\"Aged predominately in used American whiskey b...</td>\n",
       "      <td>STEPHANIE MORENO</td>\n",
       "    </tr>\n",
       "    <tr>\n",
       "      <th>1</th>\n",
       "      <td>BALVENIE DOUBLEWOOD 12 YEAR</td>\n",
       "      <td>Single Malt</td>\n",
       "      <td>Speyside, Scotland</td>\n",
       "      <td>3.87</td>\n",
       "      <td>87.0</td>\n",
       "      <td>https://distiller.com/spirits/the-balvenie-dou...</td>\n",
       "      <td>Whiskey</td>\n",
       "      <td>6083</td>\n",
       "      <td>Balvenie</td>\n",
       "      <td>spirit-cost cost-3</td>\n",
       "      <td>12 YEAR</td>\n",
       "      <td>NaN</td>\n",
       "      <td>FRUITY &amp; VANILLA</td>\n",
       "      <td>{\"smoky\":30,\"peaty\":0,\"spicy\":30,\"herbal\":10,\"...</td>\n",
       "      <td>\"Upon nosing this whisky, you'll get grapes an...</td>\n",
       "      <td>STEPHANIE MORENO</td>\n",
       "    </tr>\n",
       "    <tr>\n",
       "      <th>2</th>\n",
       "      <td>GLENLIVET 12 YEAR DOUBLE OAK</td>\n",
       "      <td>Single Malt</td>\n",
       "      <td>Speyside, Scotland</td>\n",
       "      <td>3.41</td>\n",
       "      <td>85.0</td>\n",
       "      <td>https://distiller.com/spirits/the-glenlivet-12...</td>\n",
       "      <td>Whiskey</td>\n",
       "      <td>5890</td>\n",
       "      <td>The Glenlivet</td>\n",
       "      <td>spirit-cost cost-2</td>\n",
       "      <td>12 YEAR</td>\n",
       "      <td>NaN</td>\n",
       "      <td>VANILLA &amp; FRUITY</td>\n",
       "      <td>{\"smoky\":30,\"peaty\":10,\"spicy\":40,\"herbal\":20,...</td>\n",
       "      <td>\"There are times that you want an über complex...</td>\n",
       "      <td>STEPHANIE MORENO</td>\n",
       "    </tr>\n",
       "    <tr>\n",
       "      <th>3</th>\n",
       "      <td>MACALLAN 12 YEAR SHERRY OAK CASK</td>\n",
       "      <td>Single Malt</td>\n",
       "      <td>Highlands, Scotland</td>\n",
       "      <td>3.82</td>\n",
       "      <td>89.0</td>\n",
       "      <td>https://distiller.com/spirits/the-macallan-12</td>\n",
       "      <td>Whiskey</td>\n",
       "      <td>5519</td>\n",
       "      <td>The Macallan</td>\n",
       "      <td>spirit-cost cost-3</td>\n",
       "      <td>12 YEAR</td>\n",
       "      <td>NaN</td>\n",
       "      <td>FRUITY &amp; SWEET</td>\n",
       "      <td>{\"smoky\":30,\"peaty\":10,\"spicy\":50,\"herbal\":10,...</td>\n",
       "      <td>\"The color is a medium amber color with a slig...</td>\n",
       "      <td>STEPHANIE MORENO</td>\n",
       "    </tr>\n",
       "    <tr>\n",
       "      <th>4</th>\n",
       "      <td>GLENMORANGIE THE ORIGINAL 10 YEAR</td>\n",
       "      <td>Single Malt</td>\n",
       "      <td>Highlands, Scotland</td>\n",
       "      <td>3.48</td>\n",
       "      <td>85.0</td>\n",
       "      <td>https://distiller.com/spirits/glenmorangie-ori...</td>\n",
       "      <td>Whiskey</td>\n",
       "      <td>5290</td>\n",
       "      <td>Glenmorangie</td>\n",
       "      <td>spirit-cost cost-2</td>\n",
       "      <td>10 YEAR</td>\n",
       "      <td>NaN</td>\n",
       "      <td>FRUITY &amp; VANILLA</td>\n",
       "      <td>{\"smoky\":20,\"peaty\":10,\"spicy\":30,\"herbal\":20,...</td>\n",
       "      <td>\"There is an easy like Sunday morning-ness to ...</td>\n",
       "      <td>STEPHANIE MORENO</td>\n",
       "    </tr>\n",
       "  </tbody>\n",
       "</table>\n",
       "</div>"
      ],
      "text/plain": [
       "                            Alc_Name     Alc_Type              Alc_Loc  \\\n",
       "0                GLENFIDDICH 12 YEAR  Single Malt   Speyside, Scotland   \n",
       "1        BALVENIE DOUBLEWOOD 12 YEAR  Single Malt   Speyside, Scotland   \n",
       "2       GLENLIVET 12 YEAR DOUBLE OAK  Single Malt   Speyside, Scotland   \n",
       "3   MACALLAN 12 YEAR SHERRY OAK CASK  Single Malt  Highlands, Scotland   \n",
       "4  GLENMORANGIE THE ORIGINAL 10 YEAR  Single Malt  Highlands, Scotland   \n",
       "\n",
       "   Communal_Rating  Distiller_Score  \\\n",
       "0             3.36             86.0   \n",
       "1             3.87             87.0   \n",
       "2             3.41             85.0   \n",
       "3             3.82             89.0   \n",
       "4             3.48             85.0   \n",
       "\n",
       "                                                 URL   Spirit  Num_Revs  \\\n",
       "0       https://distiller.com/spirits/glenfiddich-12  Whiskey      6111   \n",
       "1  https://distiller.com/spirits/the-balvenie-dou...  Whiskey      6083   \n",
       "2  https://distiller.com/spirits/the-glenlivet-12...  Whiskey      5890   \n",
       "3      https://distiller.com/spirits/the-macallan-12  Whiskey      5519   \n",
       "4  https://distiller.com/spirits/glenmorangie-ori...  Whiskey      5290   \n",
       "\n",
       "           Brand                Cost      Age  ABV            Flavor  \\\n",
       "0    Glenfiddich  spirit-cost cost-2  12 YEAR  NaN  FRUITY & VANILLA   \n",
       "1       Balvenie  spirit-cost cost-3  12 YEAR  NaN  FRUITY & VANILLA   \n",
       "2  The Glenlivet  spirit-cost cost-2  12 YEAR  NaN  VANILLA & FRUITY   \n",
       "3   The Macallan  spirit-cost cost-3  12 YEAR  NaN    FRUITY & SWEET   \n",
       "4   Glenmorangie  spirit-cost cost-2  10 YEAR  NaN  FRUITY & VANILLA   \n",
       "\n",
       "                                             Profile  \\\n",
       "0  {\"smoky\":20,\"peaty\":10,\"spicy\":40,\"herbal\":30,...   \n",
       "1  {\"smoky\":30,\"peaty\":0,\"spicy\":30,\"herbal\":10,\"...   \n",
       "2  {\"smoky\":30,\"peaty\":10,\"spicy\":40,\"herbal\":20,...   \n",
       "3  {\"smoky\":30,\"peaty\":10,\"spicy\":50,\"herbal\":10,...   \n",
       "4  {\"smoky\":20,\"peaty\":10,\"spicy\":30,\"herbal\":20,...   \n",
       "\n",
       "                                               Notes          Reviewer  \n",
       "0  \"Aged predominately in used American whiskey b...  STEPHANIE MORENO  \n",
       "1  \"Upon nosing this whisky, you'll get grapes an...  STEPHANIE MORENO  \n",
       "2  \"There are times that you want an über complex...  STEPHANIE MORENO  \n",
       "3  \"The color is a medium amber color with a slig...  STEPHANIE MORENO  \n",
       "4  \"There is an easy like Sunday morning-ness to ...  STEPHANIE MORENO  "
      ]
     },
     "metadata": {},
     "output_type": "display_data"
    }
   ],
   "source": [
    "print(df_alc_main_full.shape)\n",
    "display(df_alc_main_full.head())"
   ]
  },
  {
   "cell_type": "code",
   "execution_count": 5,
   "metadata": {
    "scrolled": false
   },
   "outputs": [
    {
     "name": "stdout",
     "output_type": "stream",
     "text": [
      "(63, 16)\n",
      "(8392, 16)\n"
     ]
    }
   ],
   "source": [
    "print(df_alc_main_full.loc[df_alc_main_full['Num_Revs'] < 3].shape)\n",
    "print(df_alc_main_full.shape)"
   ]
  },
  {
   "cell_type": "markdown",
   "metadata": {},
   "source": [
    "## Test the Scraper"
   ]
  },
  {
   "cell_type": "code",
   "execution_count": 7,
   "metadata": {},
   "outputs": [],
   "source": [
    "driver = webdriver.Chrome(r'C:\\Users\\aclou\\AppData\\Local\\Programs\\Python\\Python39\\Scripts\\chromedriver')\n",
    "driver.maximize_window()"
   ]
  },
  {
   "cell_type": "code",
   "execution_count": 12,
   "metadata": {},
   "outputs": [
    {
     "name": "stdout",
     "output_type": "stream",
     "text": [
      "https://distiller.com/spirits/santiago-de-cuba-20-anos-extra-anejo\n"
     ]
    }
   ],
   "source": [
    "print(df_alc_main_full['URL'][1400])\n",
    "url = 'https://distiller.com/spirits/santiago-de-cuba-20-anos-extra-anejo/tastes?page=1&require_note=true&sort=recent'\n",
    "driver.get(url)\n",
    "# time.sleep(3)"
   ]
  },
  {
   "cell_type": "code",
   "execution_count": 15,
   "metadata": {},
   "outputs": [
    {
     "name": "stdout",
     "output_type": "stream",
     "text": [
      "0\n"
     ]
    }
   ],
   "source": [
    "xpath_num_rates = \"//div[@class='primary-content']//div[@class='tab-content']//span[@class = 'count']\"\n",
    "num_rates = driver.find_element_by_xpath(xpath_num_rates)\n",
    "num_rates = num_rates.text\n",
    "print(num_rates)"
   ]
  },
  {
   "cell_type": "code",
   "execution_count": 16,
   "metadata": {},
   "outputs": [
    {
     "data": {
      "text/plain": [
       "0"
      ]
     },
     "execution_count": 16,
     "metadata": {},
     "output_type": "execute_result"
    }
   ],
   "source": [
    "numpages = int(np.ceil(int(num_rates)/10))\n",
    "numpages # THE MOST POPULAR RATED --> 2.5k ratings with Notes --> how many to include?"
   ]
  },
  {
   "cell_type": "code",
   "execution_count": 17,
   "metadata": {},
   "outputs": [
    {
     "data": {
      "text/plain": [
       "[]"
      ]
     },
     "execution_count": 17,
     "metadata": {},
     "output_type": "execute_result"
    }
   ],
   "source": [
    "# the stuff to get the ratings and review text\n",
    "xpath_reviews = \"//div[@class='primary-content']//div[@class='tabs-body']//div[@class = 'results']//li[starts-with(@class, 'taste spirit-taste')]\"\n",
    "ls_reviews = driver.find_elements_by_xpath(xpath_reviews)\n",
    "ls_reviews"
   ]
  },
  {
   "cell_type": "code",
   "execution_count": 27,
   "metadata": {},
   "outputs": [
    {
     "data": {
      "text/plain": [
       "0"
      ]
     },
     "execution_count": 27,
     "metadata": {},
     "output_type": "execute_result"
    }
   ],
   "source": [
    "numpages = int(np.ceil(int(num_rates)/10))\n",
    "numpages"
   ]
  },
  {
   "cell_type": "code",
   "execution_count": 26,
   "metadata": {},
   "outputs": [
    {
     "name": "stdout",
     "output_type": "stream",
     "text": [
      "alc has no ratings\n"
     ]
    }
   ],
   "source": [
    "try:\n",
    "    idx = 0\n",
    "    rev_name = ls_reviews[idx].find_element_by_xpath(\".//div[@class='name-details']//h3\").text\n",
    "    print(rev_name)\n",
    "    rev_date = ls_reviews[idx].find_element_by_xpath(\".//div[@class='name-details']//div[@class='date']\").text\n",
    "    print(rev_date)\n",
    "    rev_rating = ls_reviews[idx].find_element_by_xpath(\".//div[@class='name-details']//div[@class='rating detail']\").text\n",
    "    if rev_rating == '':\n",
    "        rev_rating = \"NaN\" # just convert if it's empty to a string version \"NaN\"\n",
    "    print(rev_rating)\n",
    "    rev_text = ls_reviews[idx].find_element_by_xpath(\".//div[@class='taste-note note']//div[@class='body']\").text\n",
    "    rev_text = re.sub('[^(A-Za-z0-9\\W)]', '', rev_text)\n",
    "    print(rev_text)\n",
    "except IndexError: \n",
    "    print('alc has no ratings')"
   ]
  },
  {
   "cell_type": "code",
   "execution_count": null,
   "metadata": {},
   "outputs": [],
   "source": []
  },
  {
   "cell_type": "markdown",
   "metadata": {},
   "source": [
    "## Run the Scraper for Ratings"
   ]
  },
  {
   "cell_type": "code",
   "execution_count": 6,
   "metadata": {},
   "outputs": [],
   "source": [
    "# THE MAIN DICTIONARY\n",
    "final_alcs_dict = {}"
   ]
  },
  {
   "cell_type": "code",
   "execution_count": 7,
   "metadata": {},
   "outputs": [],
   "source": [
    "driver = webdriver.Chrome(r'C:\\Users\\aclou\\AppData\\Local\\Programs\\Python\\Python39\\Scripts\\chromedriver')\n",
    "driver.maximize_window()"
   ]
  },
  {
   "cell_type": "code",
   "execution_count": null,
   "metadata": {
    "scrolled": true
   },
   "outputs": [
    {
     "name": "stdout",
     "output_type": "stream",
     "text": [
      "GLENFIDDICH 12 YEAR\n",
      "https://distiller.com/spirits/glenfiddich-12\n",
      "BALVENIE DOUBLEWOOD 12 YEAR\n",
      "https://distiller.com/spirits/the-balvenie-doublewood-12-year\n",
      "GLENLIVET 12 YEAR DOUBLE OAK\n",
      "https://distiller.com/spirits/the-glenlivet-12-year\n"
     ]
    }
   ],
   "source": [
    "%%time\n",
    "\n",
    "# Run the script\n",
    "for alc_idx in range(len(df_alc_main_full)): \n",
    "    alc_name = df_alc_main_char['Alc_Name'][alc_idx]\n",
    "    url_core = df_alc_main_char['URL'][alc_idx]\n",
    "    print(alc_name)\n",
    "    print(url_core)\n",
    "    \n",
    "    if df_alc_main_full['Num_Revs'][alc_idx] < 3:\n",
    "        print(f'{alc_name} has fewer than 2 reviews. Skipped.')\n",
    "    else: \n",
    "        url_pg = '/tastes?page='\n",
    "        pg_nbr = 1\n",
    "        url_filters = '&require_note=true&sort=recent'\n",
    "        url = url_core+url_pg+str(pg_nbr)+url_filters\n",
    "        try:\n",
    "            driver.get(url)\n",
    "            wait_time = random.randint(8,12)/2 # 3.5 to 7.5 seconds wait time\n",
    "            time.sleep(wait_time)\n",
    "\n",
    "            # first, figure out how many ratings there are with notes\n",
    "            xpath_num_rates = \"//div[@class='primary-content']//div[@class='tab-content']//span[@class = 'count']\"\n",
    "            num_rates = driver.find_element_by_xpath(xpath_num_rates)\n",
    "            num_rates = num_rates.text\n",
    "\n",
    "            # next, figure out how many pages of ratings this would be\n",
    "            numpages = int(np.ceil(int(num_rates)/10))\n",
    "            numpages # THE MOST POPULAR RATED --> 2.5k ratings with Notes --> how many to include?\n",
    "\n",
    "            # below begin the saving process \n",
    "            ls_rev_name = []\n",
    "            ls_rev_date = []\n",
    "            ls_rev_rating = []\n",
    "            ls_rev_text = []\n",
    "            if numpages > 0:\n",
    "                for pg_num in range(min(numpages, 40)): # perhaps don't want more than 400 ratings max for any individual alcohol?\n",
    "                    pg_new = pg_num+1\n",
    "                    if pg_new > 1: # we're already on the first page. so, do NOT re-ping the website if not need to\n",
    "                        url_new = url_core+url_pg+str(pg_new)+url_filters\n",
    "                        driver.get(url_new)\n",
    "                        wait_time = random.randint(7,15)/2 # 3.5 to 6 seconds wait time\n",
    "                        time.sleep(wait_time)\n",
    "                    else:\n",
    "                        burn_var = 1 # aka do nothing since we're still on main page\n",
    "\n",
    "                    # the stuff to get the ratings and review text\n",
    "                    xpath_reviews = \"//div[@class='primary-content']//div[@class='tabs-body']//div[@class = 'results']//li[starts-with(@class, 'taste spirit-taste')]\"\n",
    "                    ls_reviews = driver.find_elements_by_xpath(xpath_reviews)\n",
    "\n",
    "                    for idx in range(len(ls_reviews)):\n",
    "                        rev_name = ls_reviews[idx].find_element_by_xpath(\".//div[@class='name-details']//h3\").text\n",
    "                        rev_date = ls_reviews[idx].find_element_by_xpath(\".//div[@class='name-details']//div[@class='date']\").text\n",
    "                        rev_rating = ls_reviews[idx].find_element_by_xpath(\".//div[@class='name-details']//div[@class='rating detail']\").text\n",
    "                        if rev_rating == '':\n",
    "                            rev_rating = \"NaN\" # just convert if it's empty to a string version \"NaN\"\n",
    "                        rev_text = ls_reviews[idx].find_element_by_xpath(\".//div[@class='taste-note note']//div[@class='body']\").text\n",
    "                        rev_text = re.sub('[^(A-Za-z0-9\\W)]', '', rev_text)\n",
    "                        ls_rev_name.append(rev_name)\n",
    "                        ls_rev_date.append(rev_date)\n",
    "                        ls_rev_rating.append(rev_rating)\n",
    "                        ls_rev_text.append(rev_text)\n",
    "                # create final ratings dict for the alcohol\n",
    "                ratings_dict = {'rev_names': ls_rev_name, 'rev_dates': ls_rev_date, 'rev_ratings': ls_rev_rating, 'rev_texts': ls_rev_text}\n",
    "\n",
    "            else: # i.e. ZERO reviews that contain Notes for the alcohol hence why ZERO pages\n",
    "                # still create final ratings dict for the alcohol, but this time just empty lists\n",
    "                ratings_dict = {'rev_names': ls_rev_name, 'rev_dates': ls_rev_date, 'rev_ratings': ls_rev_rating, 'rev_texts': ls_rev_text}\n",
    "\n",
    "        except NoSuchElementException:\n",
    "            print(\"The existing URL no longer shows that the alcohol exists\")\n",
    "            ratings_dict = {'rev_names': [], 'rev_dates': [], 'rev_ratings': [], 'rev_texts': []}\n",
    "            \n",
    "        # save the ratings_dict with the key representing the Alcohol Name\n",
    "        final_alcs_dict[alc_name] = ratings_dict\n"
   ]
  },
  {
   "cell_type": "code",
   "execution_count": 9,
   "metadata": {},
   "outputs": [],
   "source": [
    "driver.close()\n",
    "driver.quit()"
   ]
  },
  {
   "cell_type": "code",
   "execution_count": 10,
   "metadata": {
    "scrolled": true
   },
   "outputs": [
    {
     "data": {
      "text/plain": [
       "2"
      ]
     },
     "execution_count": 10,
     "metadata": {},
     "output_type": "execute_result"
    }
   ],
   "source": [
    "len(final_alcs_dict)"
   ]
  },
  {
   "cell_type": "code",
   "execution_count": 14,
   "metadata": {},
   "outputs": [
    {
     "name": "stdout",
     "output_type": "stream",
     "text": [
      "PLYMOUTH NAVY STRENGTH GIN\n"
     ]
    },
    {
     "data": {
      "text/plain": [
       "{'rev_names': ['JohnOlmos',\n",
       "  'mmorgan1231',\n",
       "  'mblosser007',\n",
       "  'gvsufan',\n",
       "  'BeginnerTaster51',\n",
       "  'gvsufan',\n",
       "  'micsalmoides',\n",
       "  'ShutUpNDrinkIt',\n",
       "  'Sonic8222',\n",
       "  'ShutUpNDrinkIt',\n",
       "  'CountDownDave',\n",
       "  'Ancient33w',\n",
       "  'mpfo',\n",
       "  'RussShackleford',\n",
       "  'danelle',\n",
       "  'drlewis',\n",
       "  'i3moore',\n",
       "  'Mattjrosenberg',\n",
       "  'Dimbledern',\n",
       "  'leightonkuwaye',\n",
       "  'JFlesh12'],\n",
       " 'rev_dates': ['Reviewed November 8, 2022',\n",
       "  'Reviewed July 26, 2022 (edited November 17, 2022)',\n",
       "  'Reviewed April 30, 2022',\n",
       "  'Reviewed January 21, 2022',\n",
       "  'Reviewed January 8, 2022 (edited April 30, 2022)',\n",
       "  'Reviewed January 5, 2022 (edited January 6, 2022)',\n",
       "  'Reviewed July 18, 2021 (edited January 6, 2022)',\n",
       "  'Reviewed May 10, 2021 (edited December 6, 2021)',\n",
       "  'Reviewed February 9, 2021 (edited February 10, 2021)',\n",
       "  'Reviewed August 31, 2020 (edited May 7, 2021)',\n",
       "  'Reviewed May 20, 2020 (edited November 29, 2020)',\n",
       "  'Reviewed March 18, 2020 (edited October 23, 2022)',\n",
       "  'Reviewed December 31, 2019',\n",
       "  'Reviewed December 5, 2019 (edited October 4, 2020)',\n",
       "  'Reviewed May 11, 2019 (edited May 20, 2020)',\n",
       "  'Reviewed April 22, 2019 (edited May 20, 2020)',\n",
       "  'Reviewed April 13, 2019 (edited January 6, 2020)',\n",
       "  'Reviewed October 21, 2018 (edited May 20, 2020)',\n",
       "  'Reviewed October 17, 2018 (edited July 1, 2020)',\n",
       "  'Reviewed October 11, 2018 (edited May 20, 2020)',\n",
       "  'Reviewed December 16, 2017 (edited May 20, 2020)'],\n",
       " 'rev_ratings': ['5.0',\n",
       "  '4.5',\n",
       "  '3.25',\n",
       "  '4.5',\n",
       "  '3.25',\n",
       "  '4.25',\n",
       "  '4.5',\n",
       "  '4.75',\n",
       "  '3.75',\n",
       "  '4.5',\n",
       "  '5.0',\n",
       "  '4.5',\n",
       "  '4.0',\n",
       "  '3.75',\n",
       "  '4.0',\n",
       "  '5.0',\n",
       "  '3.5',\n",
       "  '4.0',\n",
       "  '5.0',\n",
       "  'NaN',\n",
       "  '5.0'],\n",
       " 'rev_texts': ['My fav Gin period. Maximum flavor and punch. Very citrusy and rooty/earthy. Makes fantastic cocktails',\n",
       "  'N: Lemon, juniper, ethanol\\nP: More lemon and juniper at first then sweetness, not sugar sweet but natural fruity sweet\\nF: Medium\\n\\nDelicious gin. Sometimes I get overpowered by juniper but this is refreshing citrus and sweetness and drinks below its 114 proof',\n",
       "  'This one is strong. Really strong. 114 proof and you can taste it. Juniper, citrus and cardamon on the nose. Lemon on the palate. When you taste it, it hurts. It burns all the way down to your belly. Even with a splash of water. But the funny thing is that it not necessarily unpleasant. Tried it in a Martini. Meh. I like mine with a London Dry. Excellent in a Gimlet with 2 oz of gin and 1 oz of house made lime cordial',\n",
       "  'Makes a fantastic dirty martini and gibson',\n",
       "  \"Fruity, Juniper and Harsh\\n\\nThis is one of the few older gins that I don't only taste lemon as the fruit, I also get berry tastes (like blackcurrant or raspberry). Furthermore, this gin tastes sweet to me as compared with others, like a sort of soda-pop aftertaste. Other than that this tastes like a good standard gin, junipers and all. Finally, I'd be remiss to not talk about the harshness of this strong gin - at 57% abv it packs a punch, and I notice it. \\n\\nI must say that this 57% gin goes down smoother than a lot of 40% gins I've tasted. Its one of a kind; it tastes like an exotic london dry, and is definitely worth a try.\",\n",
       "  \"Favorite gin for filthy martini's and gimlet's. It is smooth and savory with some backbone to it.\",\n",
       "  'This makes a great Negroni. I love the standard strength in a Martini with a lemon twist. Not my favorite neat. But one of my favorite Negronis.',\n",
       "  'As good as it gets in the gin world',\n",
       "  'I love having discovered the concept of navy strength gin, and was very happy to find this at my local store, even if it was the only navy strength gin there. The Distiller board seems to love it, and although I think the amount of botanicals used is shockingly small, maybe simplicity is the key to the enjoyment here. In any case, I\\'m excited, and hope to enjoy and purchase more navy strength variants as I hiatus from other spirits.\\n\\nI DID know that this was going to be a clear spirit, of course, but the green tinted glass bottle is subtle, and was able to convince my brain that this gin was full of flavor. The nose is a split balance between citrus and floral, specifically some lime leaves, flower petals, lemon and lime rind, and some orange blossom. It may seem like I repeated myself, but it really is a simple back and forth between nostrils, with the juniper lightly holding back, and the ethanol surprisingly not making a big appearance almost at all.\\n\\nThe citrus rind is the first flavor I taste, showcasing the oils at first, and then fading into just the rind itself some seconds later. The floral character is also on the taste, but I can\\'t pull out anything specific, because it seems to just sit inside the top of my nose as a smell and not quite transform into a flavor to be tasted. I really only get a mild or mild-medium amount of juniper, and when I taste it more near the finish, I may also be getting a tea leaf flavor, but if so, it\\'s very faint. The burn is quite good through the finish, as to be expected. The flavors are left behind in the gums, but not in an oily manner like some whiskeys, and instead just digging into the gums and coming out slowly, like some jerky chew.\\n\\nThe flavor of this one was indeed pretty simple, but that definitely did not lead me to like it any less. Most gins that I seek have many botanicals, or a real heavy focus on a certain flavor profile, like the juniper, citrus, floral, juicy, etc, but having a \"boring\" gin like this is always a mood that comes along no matter how much flavor you try to hunt out. Because the juniper flavor is not as potent as I would have liked with this, it\\'s both hard to envision a good gin while drinking this, but also easy to allow the other botanicals to take over more within the higher proof. It was certainly enough to show me that navy strength gins are definitely worth pursuing, and I look forward to not only purchasing more variants, but also to try this in classic cocktails, since the reviewing is always done neat. I never quite saw eye to eye with sailors, but this is one tradition I will have to admire about them.',\n",
       "  'Bloody brilliantly gin!',\n",
       "  'Extremely smooth, given its ABV. Makes a superb Gin & Tonic, Classic Martini, and an ever better Perfect Martini. Classic gin notes of juniper and coriander.',\n",
       "  'I bought this a little while back and wanted to taste it in several drinks before I wrote a review of it especially since this will the Gin\\'s first Rabble Review. So here we go. This is an outstanding and easy drinking Gin. It is a Navy Strength version of the regular Plymouth Gin. However, the botanicals seem to be stronger and more pronounced in this one as well. It has a wonderful juniper nose with a mixture of others and a citrus middle and end. Now if you drink this liquid you had better put on your \"big boy drinking pants\" because of the difference in proofs if you mix your drinks at the same ratios you will feel it very fast. Plymouth NS makes an outstanding Gin and Tonic (I like mine with two lime wedges) and even with the higher proof it goes down very smoothly. In my Martinis, I do a 3 to 1 ratio of gin to vermouth and it will knock your socks off with this gin. Dolins and Noilly Pratt ED are amazing with this gin. Lastly, a Gimlet was made for this gin. The flavors work so well together and on a hot South Carolina afternoon, it is a little glass of heaven. The only reason I did not score this higher is that it is very hard to find in the liqueur stores around me as only one store carries it regularly. Overall this is an outstanding Gin and I will do my best to keep it in my bar. If you like the original I believe you will like this as well.',\n",
       "  'Very good clean taste. Probably my definitive navy strength. Dangerous stuff.',\n",
       "  \"Disclaimer: all comments refer to sample served neat, no water added, unless otherwise noted.\\n\\nLight grapefruit, lemon, and lime zest on the nose, and continues on entry. Juniper makes a sudden appearance, fades in intensity, yet still lingers end-to-end. Remains thick and sweet throughout, BUT....the light and laid-back taste profile betrays the high-ABV. While the burn is admirably low for the ABV (or I'm just used to cask strength spirits), the copper still alcohol signature comes through stronger than expected, and clashes with the otherwise sublime palate. The spice/sweetness ratio is acceptable.\\n\\nWith a dash of water, the flavors muted, while the copper/ethyl mix came through.\\n\\nWhile I am not one to drink anything on the rocks, that is the way to go for this spirit. The flavprs were still attenuated, but so were the offending characteristics.\\n\\nAs a mixer, this would be hard to top\",\n",
       "  'Simple nothing overly excited but a simple good gin',\n",
       "  'Juniper and spice with a little citrus. full oily mouthfeel and long finish. not overly hot. just a supercharged version of the regular strength. outstanding gin, the benchmark for every other NS gin. my favorite.',\n",
       "  \"it's super strong. cocktails only\",\n",
       "  'Damn good martini. Have to imagine it would be good in everything else.',\n",
       "  'very strong with a slap to the face of botanicals and a hint of juniper in it that I love.',\n",
       "  'V I',\n",
       "  '']}"
      ]
     },
     "execution_count": 14,
     "metadata": {},
     "output_type": "execute_result"
    }
   ],
   "source": [
    "keys_final_alcs_dict = list(final_alcs_dict.keys())\n",
    "print(keys_final_alcs_dict[53])\n",
    "final_alcs_dict[keys_final_alcs_dict[53]]"
   ]
  },
  {
   "cell_type": "code",
   "execution_count": null,
   "metadata": {},
   "outputs": [],
   "source": []
  },
  {
   "cell_type": "code",
   "execution_count": 15,
   "metadata": {},
   "outputs": [],
   "source": [
    "with open('../Datasets/Reviews/all_gin_reviews_20231210.pkl', 'wb') as handle:\n",
    "    pickle.dump(final_alcs_dict,handle)"
   ]
  },
  {
   "cell_type": "code",
   "execution_count": null,
   "metadata": {},
   "outputs": [],
   "source": []
  }
 ],
 "metadata": {
  "kernelspec": {
   "display_name": "Python 3",
   "language": "python",
   "name": "python3"
  },
  "language_info": {
   "codemirror_mode": {
    "name": "ipython",
    "version": 3
   },
   "file_extension": ".py",
   "mimetype": "text/x-python",
   "name": "python",
   "nbconvert_exporter": "python",
   "pygments_lexer": "ipython3",
   "version": "3.8.5"
  }
 },
 "nbformat": 4,
 "nbformat_minor": 4
}
