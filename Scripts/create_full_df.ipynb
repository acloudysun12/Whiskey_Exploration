{
 "cells": [
  {
   "cell_type": "code",
   "execution_count": 13,
   "metadata": {},
   "outputs": [],
   "source": [
    "import numpy as np\n",
    "import pandas as pd\n",
    "import csv\n",
    "from scipy import stats\n",
    "import os\n",
    "import datetime\n",
    "import statsmodels.api as sm\n",
    "import requests\n",
    "import sys, json\n",
    "import time\n",
    "import random\n",
    "import json"
   ]
  },
  {
   "cell_type": "code",
   "execution_count": 4,
   "metadata": {},
   "outputs": [],
   "source": [
    "# DATA PREP. READ IN FILE\n",
    "\n",
    "df_whisk_main_char = pd.read_csv(os.path.dirname(os.getcwd())+'\\Datasets\\single_malt_main.csv', index_col = False)\n",
    "df_whisk_profiles = pd.read_csv(os.path.dirname(os.getcwd())+'\\Datasets\\single_malt_profiles.csv', index_col = False)"
   ]
  },
  {
   "cell_type": "code",
   "execution_count": 102,
   "metadata": {},
   "outputs": [
    {
     "data": {
      "text/html": [
       "<div>\n",
       "<style scoped>\n",
       "    .dataframe tbody tr th:only-of-type {\n",
       "        vertical-align: middle;\n",
       "    }\n",
       "\n",
       "    .dataframe tbody tr th {\n",
       "        vertical-align: top;\n",
       "    }\n",
       "\n",
       "    .dataframe thead th {\n",
       "        text-align: right;\n",
       "    }\n",
       "</style>\n",
       "<table border=\"1\" class=\"dataframe\">\n",
       "  <thead>\n",
       "    <tr style=\"text-align: right;\">\n",
       "      <th></th>\n",
       "      <th>Whisk_Name</th>\n",
       "      <th>Whisk_Type</th>\n",
       "      <th>Whisk_Loc</th>\n",
       "      <th>Communal_Rating</th>\n",
       "      <th>Distiller_Score</th>\n",
       "      <th>URL</th>\n",
       "    </tr>\n",
       "  </thead>\n",
       "  <tbody>\n",
       "    <tr>\n",
       "      <th>0</th>\n",
       "      <td>TULLIBARDINE THE MURRAY MARSALA FINISH</td>\n",
       "      <td>Single Malt</td>\n",
       "      <td>Highlands, Scotland</td>\n",
       "      <td>4.19</td>\n",
       "      <td>86.0</td>\n",
       "      <td>https://distiller.com/spirits/tullibardine-the...</td>\n",
       "    </tr>\n",
       "    <tr>\n",
       "      <th>1</th>\n",
       "      <td>GLENGLASSAUGH 30 YEAR</td>\n",
       "      <td>Single Malt</td>\n",
       "      <td>Highlands, Scotland</td>\n",
       "      <td>4.38</td>\n",
       "      <td>NaN</td>\n",
       "      <td>https://distiller.com/spirits/glenglassaugh-30...</td>\n",
       "    </tr>\n",
       "    <tr>\n",
       "      <th>2</th>\n",
       "      <td>LEDAIG 13 AMONTILLADO CASK FINISH</td>\n",
       "      <td>Single Malt</td>\n",
       "      <td>Islands, Scotland</td>\n",
       "      <td>3.84</td>\n",
       "      <td>NaN</td>\n",
       "      <td>https://distiller.com/spirits/ledaig-13-amonti...</td>\n",
       "    </tr>\n",
       "    <tr>\n",
       "      <th>3</th>\n",
       "      <td>KILCHOMAN BOURBON SINGLE CASK</td>\n",
       "      <td>Single Malt</td>\n",
       "      <td>Islay, Scotland</td>\n",
       "      <td>3.03</td>\n",
       "      <td>NaN</td>\n",
       "      <td>https://distiller.com/spirits/kilchoman-bourbo...</td>\n",
       "    </tr>\n",
       "    <tr>\n",
       "      <th>4</th>\n",
       "      <td>DEANSTON 12 YEAR SHERRY OAK</td>\n",
       "      <td>Single Malt</td>\n",
       "      <td>Highlands , Scotland</td>\n",
       "      <td>3.34</td>\n",
       "      <td>NaN</td>\n",
       "      <td>https://distiller.com/spirits/deanston-12-year...</td>\n",
       "    </tr>\n",
       "    <tr>\n",
       "      <th>5</th>\n",
       "      <td>ARDBEG STILL YOUNG</td>\n",
       "      <td>Single Malt</td>\n",
       "      <td>Islay, Scotland</td>\n",
       "      <td>4.03</td>\n",
       "      <td>NaN</td>\n",
       "      <td>https://distiller.com/spirits/ardbeg-still-young</td>\n",
       "    </tr>\n",
       "    <tr>\n",
       "      <th>6</th>\n",
       "      <td>GLENALLACHIE 25 YEAR</td>\n",
       "      <td>Single Malt</td>\n",
       "      <td>Speyside, Scotland</td>\n",
       "      <td>3.75</td>\n",
       "      <td>89.0</td>\n",
       "      <td>https://distiller.com/spirits/glenallachie-25-...</td>\n",
       "    </tr>\n",
       "    <tr>\n",
       "      <th>7</th>\n",
       "      <td>IMPERIAL 1995 20 YEAR (THE ULTIMATE)</td>\n",
       "      <td>Single Malt</td>\n",
       "      <td>Speyside, Scotland</td>\n",
       "      <td>2.72</td>\n",
       "      <td>NaN</td>\n",
       "      <td>https://distiller.com/spirits/imperial-1995-20...</td>\n",
       "    </tr>\n",
       "    <tr>\n",
       "      <th>8</th>\n",
       "      <td>CAOL ILA 10 CONNOISSEUR’S CHOICE (GORDON &amp; MAC...</td>\n",
       "      <td>Single Malt</td>\n",
       "      <td>Islay , Scotland</td>\n",
       "      <td>3.69</td>\n",
       "      <td>NaN</td>\n",
       "      <td>https://distiller.com/spirits/caol-ila-10-conn...</td>\n",
       "    </tr>\n",
       "    <tr>\n",
       "      <th>9</th>\n",
       "      <td>GLENCADAM 18</td>\n",
       "      <td>Single Malt</td>\n",
       "      <td>Highland, Scotland</td>\n",
       "      <td>3.69</td>\n",
       "      <td>NaN</td>\n",
       "      <td>https://distiller.com/spirits/glencadam-18</td>\n",
       "    </tr>\n",
       "  </tbody>\n",
       "</table>\n",
       "</div>"
      ],
      "text/plain": [
       "                                          Whisk_Name   Whisk_Type  \\\n",
       "0             TULLIBARDINE THE MURRAY MARSALA FINISH  Single Malt   \n",
       "1                              GLENGLASSAUGH 30 YEAR  Single Malt   \n",
       "2                  LEDAIG 13 AMONTILLADO CASK FINISH  Single Malt   \n",
       "3                      KILCHOMAN BOURBON SINGLE CASK  Single Malt   \n",
       "4                        DEANSTON 12 YEAR SHERRY OAK  Single Malt   \n",
       "5                                 ARDBEG STILL YOUNG  Single Malt   \n",
       "6                               GLENALLACHIE 25 YEAR  Single Malt   \n",
       "7               IMPERIAL 1995 20 YEAR (THE ULTIMATE)  Single Malt   \n",
       "8  CAOL ILA 10 CONNOISSEUR’S CHOICE (GORDON & MAC...  Single Malt   \n",
       "9                                       GLENCADAM 18  Single Malt   \n",
       "\n",
       "              Whisk_Loc  Communal_Rating  Distiller_Score  \\\n",
       "0   Highlands, Scotland             4.19             86.0   \n",
       "1   Highlands, Scotland             4.38              NaN   \n",
       "2     Islands, Scotland             3.84              NaN   \n",
       "3       Islay, Scotland             3.03              NaN   \n",
       "4  Highlands , Scotland             3.34              NaN   \n",
       "5       Islay, Scotland             4.03              NaN   \n",
       "6    Speyside, Scotland             3.75             89.0   \n",
       "7    Speyside, Scotland             2.72              NaN   \n",
       "8      Islay , Scotland             3.69              NaN   \n",
       "9    Highland, Scotland             3.69              NaN   \n",
       "\n",
       "                                                 URL  \n",
       "0  https://distiller.com/spirits/tullibardine-the...  \n",
       "1  https://distiller.com/spirits/glenglassaugh-30...  \n",
       "2  https://distiller.com/spirits/ledaig-13-amonti...  \n",
       "3  https://distiller.com/spirits/kilchoman-bourbo...  \n",
       "4  https://distiller.com/spirits/deanston-12-year...  \n",
       "5   https://distiller.com/spirits/ardbeg-still-young  \n",
       "6  https://distiller.com/spirits/glenallachie-25-...  \n",
       "7  https://distiller.com/spirits/imperial-1995-20...  \n",
       "8  https://distiller.com/spirits/caol-ila-10-conn...  \n",
       "9         https://distiller.com/spirits/glencadam-18  "
      ]
     },
     "execution_count": 102,
     "metadata": {},
     "output_type": "execute_result"
    }
   ],
   "source": [
    "df_whisk_main_char.head(10)"
   ]
  },
  {
   "cell_type": "code",
   "execution_count": 107,
   "metadata": {},
   "outputs": [
    {
     "name": "stdout",
     "output_type": "stream",
     "text": [
      "[[0, 0, 15, 10, 40, 35, 40, 45, 0, 0, 20, 20, 35, 10]]\n"
     ]
    }
   ],
   "source": [
    "if np.isnan(df_whisk_main_char['Distiller_Score'][0]):\n",
    "    ls_of_ls = [float(\"nan\")]*14\n",
    "    ls_of_ls = [ls_of_ls]\n",
    "else: \n",
    "    ls_of_ls = list(json.loads(df_whisk_profiles['Profile'][0]).values())\n",
    "    ls_of_ls = [ls_of_ls]\n",
    "\n",
    "print(ls_of_ls)"
   ]
  },
  {
   "cell_type": "code",
   "execution_count": 108,
   "metadata": {},
   "outputs": [],
   "source": [
    "for idx in range(1, len(df_whisk_main_char)): \n",
    "    if np.isnan(df_whisk_main_char['Distiller_Score'][idx]):\n",
    "        list_append = [float(\"nan\")]*14\n",
    "    else: \n",
    "        list_append = list(json.loads(df_whisk_profiles['Profile'][idx]).values())\n",
    "    ls_of_ls.append(list_append)"
   ]
  },
  {
   "cell_type": "code",
   "execution_count": null,
   "metadata": {},
   "outputs": [],
   "source": []
  },
  {
   "cell_type": "code",
   "execution_count": 16,
   "metadata": {},
   "outputs": [
    {
     "data": {
      "text/plain": [
       "{'smoky': 0,\n",
       " 'peaty': 0,\n",
       " 'spicy': 15,\n",
       " 'herbal': 10,\n",
       " 'oily': 40,\n",
       " 'full_bodied': 35,\n",
       " 'rich': 40,\n",
       " 'sweet': 45,\n",
       " 'briny': 0,\n",
       " 'salty': 0,\n",
       " 'vanilla': 20,\n",
       " 'tart': 20,\n",
       " 'fruity': 35,\n",
       " 'floral': 10}"
      ]
     },
     "execution_count": 16,
     "metadata": {},
     "output_type": "execute_result"
    }
   ],
   "source": [
    "dict_sample = json.loads(df_whisk_profiles['Profile'][0])\n",
    "dict_sample"
   ]
  },
  {
   "cell_type": "code",
   "execution_count": 17,
   "metadata": {},
   "outputs": [
    {
     "data": {
      "text/plain": [
       "dict_keys(['smoky', 'peaty', 'spicy', 'herbal', 'oily', 'full_bodied', 'rich', 'sweet', 'briny', 'salty', 'vanilla', 'tart', 'fruity', 'floral'])"
      ]
     },
     "execution_count": 17,
     "metadata": {},
     "output_type": "execute_result"
    }
   ],
   "source": [
    "dict_sample.keys()"
   ]
  },
  {
   "cell_type": "code",
   "execution_count": 79,
   "metadata": {},
   "outputs": [],
   "source": [
    "a = list(list(dict_sample.values()))\n",
    "a = [a]\n",
    "c = json.loads(df_whisk_profiles['Profile'][6])\n",
    "c = list(c.values())"
   ]
  },
  {
   "cell_type": "code",
   "execution_count": 80,
   "metadata": {},
   "outputs": [],
   "source": [
    "b = [float(\"nan\")]*14"
   ]
  },
  {
   "cell_type": "code",
   "execution_count": 85,
   "metadata": {},
   "outputs": [],
   "source": [
    "a.append(b)"
   ]
  },
  {
   "cell_type": "code",
   "execution_count": 86,
   "metadata": {},
   "outputs": [
    {
     "data": {
      "text/plain": [
       "[[0, 0, 15, 10, 40, 35, 40, 45, 0, 0, 20, 20, 35, 10],\n",
       " [nan, nan, nan, nan, nan, nan, nan, nan, nan, nan, nan, nan, nan, nan],\n",
       " [0, 0, 25, 20, 40, 35, 60, 35, 0, 0, 10, 20, 40, 10],\n",
       " [nan, nan, nan, nan, nan, nan, nan, nan, nan, nan, nan, nan, nan, nan]]"
      ]
     },
     "execution_count": 86,
     "metadata": {},
     "output_type": "execute_result"
    }
   ],
   "source": [
    "a"
   ]
  },
  {
   "cell_type": "code",
   "execution_count": null,
   "metadata": {},
   "outputs": [],
   "source": []
  },
  {
   "cell_type": "code",
   "execution_count": null,
   "metadata": {},
   "outputs": [],
   "source": []
  }
 ],
 "metadata": {
  "kernelspec": {
   "display_name": "Python 3",
   "language": "python",
   "name": "python3"
  },
  "language_info": {
   "codemirror_mode": {
    "name": "ipython",
    "version": 3
   },
   "file_extension": ".py",
   "mimetype": "text/x-python",
   "name": "python",
   "nbconvert_exporter": "python",
   "pygments_lexer": "ipython3",
   "version": "3.8.5"
  }
 },
 "nbformat": 4,
 "nbformat_minor": 4
}
