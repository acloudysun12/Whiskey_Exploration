{
 "cells": [
  {
   "cell_type": "code",
   "execution_count": 2,
   "metadata": {},
   "outputs": [
    {
     "name": "stderr",
     "output_type": "stream",
     "text": [
      "C:\\Users\\aclou\\anaconda3\\lib\\site-packages\\statsmodels\\tsa\\base\\tsa_model.py:7: FutureWarning: pandas.Int64Index is deprecated and will be removed from pandas in a future version. Use pandas.Index with the appropriate dtype instead.\n",
      "  from pandas import (to_datetime, Int64Index, DatetimeIndex, Period,\n",
      "C:\\Users\\aclou\\anaconda3\\lib\\site-packages\\statsmodels\\tsa\\base\\tsa_model.py:7: FutureWarning: pandas.Float64Index is deprecated and will be removed from pandas in a future version. Use pandas.Index with the appropriate dtype instead.\n",
      "  from pandas import (to_datetime, Int64Index, DatetimeIndex, Period,\n"
     ]
    }
   ],
   "source": [
    "import numpy as np\n",
    "import pandas as pd\n",
    "import csv\n",
    "from scipy import stats\n",
    "import os\n",
    "import datetime\n",
    "import statsmodels.api as sm\n",
    "import requests\n",
    "import sys, json\n",
    "import time\n",
    "import re\n",
    "from bs4 import BeautifulSoup\n",
    "from selenium import webdriver\n",
    "from selenium.webdriver.common.keys import Keys\n",
    "from selenium.common.exceptions import NoSuchElementException\n",
    "import random"
   ]
  },
  {
   "cell_type": "code",
   "execution_count": 3,
   "metadata": {},
   "outputs": [],
   "source": [
    "# IN CASE NEED TO UPDATE CHROMEDRIVER, RUN BELOW \n",
    "\n",
    "# from selenium import webdriver\n",
    "# from webdriver_manager.chrome import ChromeDriverManager\n",
    "# driver = webdriver.Chrome(ChromeDriverManager().install())"
   ]
  },
  {
   "cell_type": "code",
   "execution_count": 4,
   "metadata": {},
   "outputs": [],
   "source": [
    "# DATA PREP FOR DISTILLER SCRAPE \n",
    "\n",
    "ls_whisk_name = []\n",
    "ls_whisk_type = []\n",
    "ls_whisk_loc = []\n",
    "ls_comm_rating = []\n",
    "ls_distiller_score = []\n",
    "ls_whisk_url = []\n",
    "\n",
    "# https://distiller.com/search?country_id=1&page=10&sort=total_num_of_ratings&spirit_style_id=1 # THIS IS SINGLE MALT\n",
    "# spirit style --> 56-63 --> the rums"
   ]
  },
  {
   "cell_type": "markdown",
   "metadata": {},
   "source": [
    "### Loop through EVERY rum type based on History\n",
    "\n",
    "We can do this in one ls_url list b/c ls_url can be extended\n",
    "\n",
    "Note, for rum, we don't do any filtering. Just pick up all rums by first clicking on the rum button when visiting distiller.com home page and then going to the search page"
   ]
  },
  {
   "cell_type": "code",
   "execution_count": 14,
   "metadata": {},
   "outputs": [],
   "source": [
    "### Start with empty list\n",
    "ls_url = []"
   ]
  },
  {
   "cell_type": "code",
   "execution_count": 15,
   "metadata": {},
   "outputs": [],
   "source": [
    "### All Brandies in One Go!\n",
    "\n",
    "ls_sites = list(range(1, 75)) # FIGURE THIS OUT MANUALLY FOR EACH PULL WE DO\n",
    "ls_url_iter = [f'https://distiller.com/search?page={str(i)}&sort=total_num_of_ratings' for i in ls_sites]\n",
    "ls_url.extend(ls_url_iter)"
   ]
  },
  {
   "cell_type": "code",
   "execution_count": 16,
   "metadata": {
    "scrolled": true
   },
   "outputs": [
    {
     "name": "stdout",
     "output_type": "stream",
     "text": [
      "74\n"
     ]
    },
    {
     "data": {
      "text/plain": [
       "'https://distiller.com/search?page=54&sort=total_num_of_ratings'"
      ]
     },
     "execution_count": 16,
     "metadata": {},
     "output_type": "execute_result"
    }
   ],
   "source": [
    "# Print the first page for recon\n",
    "print(len(ls_url))\n",
    "ls_url[53]"
   ]
  },
  {
   "cell_type": "code",
   "execution_count": 17,
   "metadata": {},
   "outputs": [],
   "source": [
    "### THE BELOW SCRAPER GETS US TO BRANDY\n",
    "\n",
    "driver = webdriver.Chrome(r'C:\\Users\\aclou\\AppData\\Local\\Programs\\Python\\Python39\\Scripts\\chromedriver')\n",
    "driver.maximize_window()\n",
    "driver.get('https://distiller.com')\n",
    "time.sleep(3)\n",
    "xpath_brandy = \"//div[@class='center-column']/ul[@class='spirit-family-select__options']/li[@class='spirit-family-select__option brandy']/button\"\n",
    "elem = driver.find_element_by_xpath(xpath_brandy)\n",
    "elem.click() ### this gets us to the BRANDIES"
   ]
  },
  {
   "cell_type": "code",
   "execution_count": 18,
   "metadata": {
    "scrolled": true
   },
   "outputs": [
    {
     "name": "stdout",
     "output_type": "stream",
     "text": [
      "0\n",
      "https://distiller.com/search?page=1&sort=total_num_of_ratings\n",
      "1\n",
      "https://distiller.com/search?page=2&sort=total_num_of_ratings\n",
      "2\n",
      "https://distiller.com/search?page=3&sort=total_num_of_ratings\n",
      "3\n",
      "https://distiller.com/search?page=4&sort=total_num_of_ratings\n",
      "4\n",
      "https://distiller.com/search?page=5&sort=total_num_of_ratings\n",
      "5\n",
      "https://distiller.com/search?page=6&sort=total_num_of_ratings\n",
      "6\n",
      "https://distiller.com/search?page=7&sort=total_num_of_ratings\n",
      "7\n",
      "https://distiller.com/search?page=8&sort=total_num_of_ratings\n",
      "8\n",
      "https://distiller.com/search?page=9&sort=total_num_of_ratings\n",
      "9\n",
      "https://distiller.com/search?page=10&sort=total_num_of_ratings\n",
      "10\n",
      "https://distiller.com/search?page=11&sort=total_num_of_ratings\n",
      "11\n",
      "https://distiller.com/search?page=12&sort=total_num_of_ratings\n",
      "12\n",
      "https://distiller.com/search?page=13&sort=total_num_of_ratings\n",
      "13\n",
      "https://distiller.com/search?page=14&sort=total_num_of_ratings\n",
      "14\n",
      "https://distiller.com/search?page=15&sort=total_num_of_ratings\n",
      "15\n",
      "https://distiller.com/search?page=16&sort=total_num_of_ratings\n",
      "16\n",
      "https://distiller.com/search?page=17&sort=total_num_of_ratings\n",
      "17\n",
      "https://distiller.com/search?page=18&sort=total_num_of_ratings\n",
      "18\n",
      "https://distiller.com/search?page=19&sort=total_num_of_ratings\n",
      "19\n",
      "https://distiller.com/search?page=20&sort=total_num_of_ratings\n",
      "20\n",
      "https://distiller.com/search?page=21&sort=total_num_of_ratings\n",
      "21\n",
      "https://distiller.com/search?page=22&sort=total_num_of_ratings\n",
      "22\n",
      "https://distiller.com/search?page=23&sort=total_num_of_ratings\n",
      "23\n",
      "https://distiller.com/search?page=24&sort=total_num_of_ratings\n",
      "24\n",
      "https://distiller.com/search?page=25&sort=total_num_of_ratings\n",
      "25\n",
      "https://distiller.com/search?page=26&sort=total_num_of_ratings\n",
      "26\n",
      "https://distiller.com/search?page=27&sort=total_num_of_ratings\n",
      "27\n",
      "https://distiller.com/search?page=28&sort=total_num_of_ratings\n",
      "28\n",
      "https://distiller.com/search?page=29&sort=total_num_of_ratings\n",
      "29\n",
      "https://distiller.com/search?page=30&sort=total_num_of_ratings\n",
      "30\n",
      "https://distiller.com/search?page=31&sort=total_num_of_ratings\n",
      "31\n",
      "https://distiller.com/search?page=32&sort=total_num_of_ratings\n",
      "32\n",
      "https://distiller.com/search?page=33&sort=total_num_of_ratings\n",
      "33\n",
      "https://distiller.com/search?page=34&sort=total_num_of_ratings\n",
      "34\n",
      "https://distiller.com/search?page=35&sort=total_num_of_ratings\n",
      "35\n",
      "https://distiller.com/search?page=36&sort=total_num_of_ratings\n",
      "36\n",
      "https://distiller.com/search?page=37&sort=total_num_of_ratings\n",
      "37\n",
      "https://distiller.com/search?page=38&sort=total_num_of_ratings\n",
      "38\n",
      "https://distiller.com/search?page=39&sort=total_num_of_ratings\n",
      "39\n",
      "https://distiller.com/search?page=40&sort=total_num_of_ratings\n",
      "40\n",
      "https://distiller.com/search?page=41&sort=total_num_of_ratings\n",
      "41\n",
      "https://distiller.com/search?page=42&sort=total_num_of_ratings\n",
      "42\n",
      "https://distiller.com/search?page=43&sort=total_num_of_ratings\n",
      "43\n",
      "https://distiller.com/search?page=44&sort=total_num_of_ratings\n",
      "44\n",
      "https://distiller.com/search?page=45&sort=total_num_of_ratings\n",
      "45\n",
      "https://distiller.com/search?page=46&sort=total_num_of_ratings\n",
      "46\n",
      "https://distiller.com/search?page=47&sort=total_num_of_ratings\n",
      "47\n",
      "https://distiller.com/search?page=48&sort=total_num_of_ratings\n",
      "48\n",
      "https://distiller.com/search?page=49&sort=total_num_of_ratings\n",
      "49\n",
      "https://distiller.com/search?page=50&sort=total_num_of_ratings\n",
      "50\n",
      "https://distiller.com/search?page=51&sort=total_num_of_ratings\n",
      "51\n",
      "https://distiller.com/search?page=52&sort=total_num_of_ratings\n",
      "52\n",
      "https://distiller.com/search?page=53&sort=total_num_of_ratings\n",
      "53\n",
      "https://distiller.com/search?page=54&sort=total_num_of_ratings\n",
      "54\n",
      "https://distiller.com/search?page=55&sort=total_num_of_ratings\n",
      "55\n",
      "https://distiller.com/search?page=56&sort=total_num_of_ratings\n",
      "56\n",
      "https://distiller.com/search?page=57&sort=total_num_of_ratings\n",
      "57\n",
      "https://distiller.com/search?page=58&sort=total_num_of_ratings\n",
      "58\n",
      "https://distiller.com/search?page=59&sort=total_num_of_ratings\n",
      "59\n",
      "https://distiller.com/search?page=60&sort=total_num_of_ratings\n",
      "60\n",
      "https://distiller.com/search?page=61&sort=total_num_of_ratings\n",
      "61\n",
      "https://distiller.com/search?page=62&sort=total_num_of_ratings\n",
      "62\n",
      "https://distiller.com/search?page=63&sort=total_num_of_ratings\n",
      "63\n",
      "https://distiller.com/search?page=64&sort=total_num_of_ratings\n",
      "64\n",
      "https://distiller.com/search?page=65&sort=total_num_of_ratings\n",
      "65\n",
      "https://distiller.com/search?page=66&sort=total_num_of_ratings\n",
      "66\n",
      "https://distiller.com/search?page=67&sort=total_num_of_ratings\n",
      "67\n",
      "https://distiller.com/search?page=68&sort=total_num_of_ratings\n",
      "68\n",
      "https://distiller.com/search?page=69&sort=total_num_of_ratings\n",
      "69\n",
      "https://distiller.com/search?page=70&sort=total_num_of_ratings\n",
      "70\n",
      "https://distiller.com/search?page=71&sort=total_num_of_ratings\n",
      "71\n",
      "https://distiller.com/search?page=72&sort=total_num_of_ratings\n",
      "72\n",
      "https://distiller.com/search?page=73&sort=total_num_of_ratings\n",
      "73\n",
      "https://distiller.com/search?page=74&sort=total_num_of_ratings\n",
      "Wall time: 21min 18s\n"
     ]
    }
   ],
   "source": [
    "%%time\n",
    "\n",
    "start = time.time() \n",
    "\n",
    "for idx in range(len(ls_url)):\n",
    "    print(idx)\n",
    "    print(ls_url[idx])\n",
    "    url = ls_url[idx]\n",
    "    driver.get(url)\n",
    "    time.sleep(1)\n",
    "    xpath_search_ct = \"//div[@class='pagination-control']/span[@class='pagination-control__description']\"\n",
    "    \n",
    "    # scrape\n",
    "    xpath_olist = \"//ol[@class='spirits']/li[@class='spirit brandy-content']\"\n",
    "    whiskey_elems = driver.find_elements_by_xpath(xpath_olist)\n",
    "    if len(whiskey_elems) == 0: \n",
    "        time.sleep(1)\n",
    "        pass\n",
    "    else:\n",
    "        for i in range(len(whiskey_elems)): \n",
    "            elem = whiskey_elems[i]\n",
    "\n",
    "            whisk_name = elem.find_element_by_xpath(\".//div[@class='name']\").text\n",
    "            ls_whisk_name.append(whisk_name)\n",
    "\n",
    "            whisk_type = elem.find_element_by_xpath(\".//span[@class='accented-text']\").text\n",
    "            whisk_type = re.sub(',', '', whisk_type)\n",
    "            ls_whisk_type.append(whisk_type)\n",
    "\n",
    "            whisk_loc = elem.find_element_by_xpath(\".//span[@class='location']\").text\n",
    "            ls_whisk_loc.append(whisk_loc)\n",
    "            \n",
    "            try: \n",
    "                comm_rating = elem.find_element_by_xpath(\".//div[@class='community-rating']\").text\n",
    "                ls_comm_rating.append(comm_rating)\n",
    "            except NoSuchElementException:\n",
    "                comm_rating = float(\"NaN\")\n",
    "                ls_comm_rating.append(comm_rating)\n",
    "\n",
    "            try:\n",
    "                distiller_score = elem.find_element_by_xpath(\".//div[@class='distiller-score']\").text\n",
    "            except NoSuchElementException:\n",
    "                distiller_score = float(\"NaN\")\n",
    "            ls_distiller_score.append(distiller_score)\n",
    "\n",
    "            whisk_url = elem.find_element_by_xpath(\"./a\").get_attribute('href')\n",
    "            ls_whisk_url.append(whisk_url)\n",
    "\n",
    "            wait_time = random.randrange(10, 20)/10 ### PER REVIEW, TAKE 1s - 2s!!\n",
    "            time.sleep(wait_time)\n",
    "\n"
   ]
  },
  {
   "cell_type": "code",
   "execution_count": 19,
   "metadata": {
    "scrolled": true
   },
   "outputs": [],
   "source": [
    "driver.close()"
   ]
  },
  {
   "cell_type": "code",
   "execution_count": 20,
   "metadata": {},
   "outputs": [],
   "source": [
    "# content = driver.page_source\n",
    "# whiskey_elems[0].get_attribute('innerHTML')\n",
    "# print(whiskey_elems[0].text)"
   ]
  },
  {
   "cell_type": "code",
   "execution_count": null,
   "metadata": {},
   "outputs": [],
   "source": []
  },
  {
   "cell_type": "code",
   "execution_count": 21,
   "metadata": {},
   "outputs": [
    {
     "data": {
      "text/html": [
       "<div>\n",
       "<style scoped>\n",
       "    .dataframe tbody tr th:only-of-type {\n",
       "        vertical-align: middle;\n",
       "    }\n",
       "\n",
       "    .dataframe tbody tr th {\n",
       "        vertical-align: top;\n",
       "    }\n",
       "\n",
       "    .dataframe thead th {\n",
       "        text-align: right;\n",
       "    }\n",
       "</style>\n",
       "<table border=\"1\" class=\"dataframe\">\n",
       "  <thead>\n",
       "    <tr style=\"text-align: right;\">\n",
       "      <th></th>\n",
       "      <th>Alc_Name</th>\n",
       "      <th>Alc_Type</th>\n",
       "      <th>Alc_Loc</th>\n",
       "      <th>Communal_Rating</th>\n",
       "      <th>Distiller_Score</th>\n",
       "      <th>URL</th>\n",
       "      <th>Spirit</th>\n",
       "    </tr>\n",
       "  </thead>\n",
       "  <tbody>\n",
       "    <tr>\n",
       "      <th>0</th>\n",
       "      <td>HENNESSY VS COGNAC</td>\n",
       "      <td>Cognac</td>\n",
       "      <td>Cognac, France</td>\n",
       "      <td>3.22</td>\n",
       "      <td>78</td>\n",
       "      <td>https://distiller.com/spirits/hennessy-vs-cognac</td>\n",
       "      <td>Brandy</td>\n",
       "    </tr>\n",
       "    <tr>\n",
       "      <th>1</th>\n",
       "      <td>RÉMY MARTIN VSOP COGNAC</td>\n",
       "      <td>Cognac</td>\n",
       "      <td>Cognac, France</td>\n",
       "      <td>3.42</td>\n",
       "      <td>83</td>\n",
       "      <td>https://distiller.com/spirits/remy-martin-vsop...</td>\n",
       "      <td>Brandy</td>\n",
       "    </tr>\n",
       "    <tr>\n",
       "      <th>2</th>\n",
       "      <td>RÉMY MARTIN 1738 ACCORD ROYAL COGNAC</td>\n",
       "      <td>Cognac</td>\n",
       "      <td>Cognac, France</td>\n",
       "      <td>4.12</td>\n",
       "      <td>90</td>\n",
       "      <td>https://distiller.com/spirits/remy-martin-1738...</td>\n",
       "      <td>Brandy</td>\n",
       "    </tr>\n",
       "    <tr>\n",
       "      <th>3</th>\n",
       "      <td>HENNESSY PRIVILÈGE VSOP COGNAC</td>\n",
       "      <td>Cognac</td>\n",
       "      <td>Cognac, France</td>\n",
       "      <td>3.81</td>\n",
       "      <td>85</td>\n",
       "      <td>https://distiller.com/spirits/hennessy-privile...</td>\n",
       "      <td>Brandy</td>\n",
       "    </tr>\n",
       "    <tr>\n",
       "      <th>4</th>\n",
       "      <td>COURVOISIER VS COGNAC</td>\n",
       "      <td>Cognac</td>\n",
       "      <td>Cognac, France</td>\n",
       "      <td>3.08</td>\n",
       "      <td>78</td>\n",
       "      <td>https://distiller.com/spirits/courvoisier-vs-c...</td>\n",
       "      <td>Brandy</td>\n",
       "    </tr>\n",
       "  </tbody>\n",
       "</table>\n",
       "</div>"
      ],
      "text/plain": [
       "                               Alc_Name Alc_Type         Alc_Loc  \\\n",
       "0                    HENNESSY VS COGNAC   Cognac  Cognac, France   \n",
       "1               RÉMY MARTIN VSOP COGNAC   Cognac  Cognac, France   \n",
       "2  RÉMY MARTIN 1738 ACCORD ROYAL COGNAC   Cognac  Cognac, France   \n",
       "3        HENNESSY PRIVILÈGE VSOP COGNAC   Cognac  Cognac, France   \n",
       "4                 COURVOISIER VS COGNAC   Cognac  Cognac, France   \n",
       "\n",
       "  Communal_Rating Distiller_Score  \\\n",
       "0            3.22              78   \n",
       "1            3.42              83   \n",
       "2            4.12              90   \n",
       "3            3.81              85   \n",
       "4            3.08              78   \n",
       "\n",
       "                                                 URL  Spirit  \n",
       "0   https://distiller.com/spirits/hennessy-vs-cognac  Brandy  \n",
       "1  https://distiller.com/spirits/remy-martin-vsop...  Brandy  \n",
       "2  https://distiller.com/spirits/remy-martin-1738...  Brandy  \n",
       "3  https://distiller.com/spirits/hennessy-privile...  Brandy  \n",
       "4  https://distiller.com/spirits/courvoisier-vs-c...  Brandy  "
      ]
     },
     "execution_count": 21,
     "metadata": {},
     "output_type": "execute_result"
    }
   ],
   "source": [
    "list_for_df = [ls_whisk_name, ls_whisk_type, ls_whisk_loc, ls_comm_rating, ls_distiller_score, ls_whisk_url]\n",
    "\n",
    "df_alc_main_char = pd.DataFrame(np.array(list_for_df).T, \\\n",
    "    columns = ['Alc_Name', 'Alc_Type', 'Alc_Loc', 'Communal_Rating', 'Distiller_Score', 'URL'])\n",
    "df_alc_main_char['Spirit'] = 'Brandy'\n",
    "df_alc_main_char.head()"
   ]
  },
  {
   "cell_type": "code",
   "execution_count": 26,
   "metadata": {},
   "outputs": [
    {
     "name": "stdout",
     "output_type": "stream",
     "text": [
      "(740, 7)\n",
      "(740, 7)\n"
     ]
    }
   ],
   "source": [
    "print(df_alc_main_char.shape)\n",
    "df_alc_main_char = df_alc_main_char.drop_duplicates().reset_index(drop = True)\n",
    "print(df_alc_main_char.shape)"
   ]
  },
  {
   "cell_type": "code",
   "execution_count": 28,
   "metadata": {},
   "outputs": [],
   "source": [
    "df_alc_main_char.to_csv(os.path.dirname(os.getcwd())+'/Datasets/URLs/all_brandies_main_20231210.csv', index = False)"
   ]
  },
  {
   "cell_type": "code",
   "execution_count": null,
   "metadata": {},
   "outputs": [],
   "source": []
  },
  {
   "cell_type": "code",
   "execution_count": null,
   "metadata": {},
   "outputs": [],
   "source": []
  }
 ],
 "metadata": {
  "kernelspec": {
   "display_name": "Python 3",
   "language": "python",
   "name": "python3"
  },
  "language_info": {
   "codemirror_mode": {
    "name": "ipython",
    "version": 3
   },
   "file_extension": ".py",
   "mimetype": "text/x-python",
   "name": "python",
   "nbconvert_exporter": "python",
   "pygments_lexer": "ipython3",
   "version": "3.8.5"
  }
 },
 "nbformat": 4,
 "nbformat_minor": 4
}
