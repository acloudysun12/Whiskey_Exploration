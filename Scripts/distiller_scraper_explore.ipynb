{
 "cells": [
  {
   "cell_type": "code",
   "execution_count": 13,
   "metadata": {},
   "outputs": [],
   "source": [
    "import numpy as np\n",
    "import pandas as pd\n",
    "import csv\n",
    "from scipy import stats\n",
    "import os\n",
    "import datetime\n",
    "import statsmodels.api as sm\n",
    "import requests\n",
    "import sys, json\n",
    "import time\n",
    "from bs4 import BeautifulSoup\n",
    "from selenium import webdriver\n",
    "from selenium.webdriver.common.keys import Keys\n",
    "from selenium.common.exceptions import NoSuchElementException\n",
    "import random"
   ]
  },
  {
   "cell_type": "code",
   "execution_count": 14,
   "metadata": {},
   "outputs": [],
   "source": [
    "# IN CASE NEED TO UPDATE CHROMEDRIVER, RUN BELOW \n",
    "\n",
    "# from selenium import webdriver\n",
    "# from webdriver_manager.chrome import ChromeDriverManager\n",
    "# driver = webdriver.Chrome(ChromeDriverManager().install())"
   ]
  },
  {
   "cell_type": "code",
   "execution_count": 15,
   "metadata": {
    "scrolled": true
   },
   "outputs": [
    {
     "name": "stdout",
     "output_type": "stream",
     "text": [
      "C:\\Users\\aclou\\Documents\\Projects\\Whiskey_Ratings\\Scripts\n",
      "C:\\Users\\aclou\\anaconda3\\python38.zip\n",
      "C:\\Users\\aclou\\anaconda3\\DLLs\n",
      "C:\\Users\\aclou\\anaconda3\\lib\n",
      "C:\\Users\\aclou\\anaconda3\n",
      "\n",
      "C:\\Users\\aclou\\anaconda3\\lib\\site-packages\n",
      "C:\\Users\\aclou\\anaconda3\\lib\\site-packages\\win32\n",
      "C:\\Users\\aclou\\anaconda3\\lib\\site-packages\\win32\\lib\n",
      "C:\\Users\\aclou\\anaconda3\\lib\\site-packages\\Pythonwin\n",
      "C:\\Users\\aclou\\anaconda3\\lib\\site-packages\\IPython\\extensions\n",
      "C:\\Users\\aclou\\.ipython\n"
     ]
    }
   ],
   "source": [
    "for p in sys.path:\n",
    "    print(p)"
   ]
  },
  {
   "cell_type": "code",
   "execution_count": 48,
   "metadata": {},
   "outputs": [],
   "source": [
    "# DATA PREP. TOP 1K SINGLE MALTS (TOP 1K). TOP  PEATED SINGLE MALTS (TOP 500).\n",
    "\n",
    "ls_whisk_name = []\n",
    "ls_whisk_loc = []\n",
    "ls_comm_rating = []\n",
    "ls_distiller_score = []\n",
    "ls_whisk_url = []\n",
    "\n",
    "# https://distiller.com/search?country_id=1&page=10&sort=total_num_of_ratings&spirit_style_id=1\n",
    "# country_id --> Scotland\n",
    "# sort --> for popularity\n",
    "# spirit style --> single malt/peated single mat.\n",
    "ls_sites = [10, 8, 7, 9, 6, 4, 5, 3, 1, 2] # randomize a little?\n",
    "ls_url = ['https://distiller.com/search?country_id=1&page='+str(i)+'&sort=total_num_of_ratings&spirit_style_id=17' for i in ls_sites]"
   ]
  },
  {
   "cell_type": "code",
   "execution_count": null,
   "metadata": {},
   "outputs": [],
   "source": []
  },
  {
   "cell_type": "code",
   "execution_count": 17,
   "metadata": {},
   "outputs": [],
   "source": [
    "# 'https://distiller.com/search?country_id=1&page=10&sort=total_num_of_ratings&spirit_style_id=1'"
   ]
  },
  {
   "cell_type": "code",
   "execution_count": 49,
   "metadata": {},
   "outputs": [],
   "source": [
    "driver = webdriver.Chrome(r'C:\\Users\\aclou\\AppData\\Local\\Programs\\Python\\Python39\\Scripts\\chromedriver')\n",
    "\n",
    "start = time.time() \n",
    "\n",
    "for idx in range(len(ls_url)):\n",
    "    url = ls_url[idx]\n",
    "    driver.get(url)\n",
    "    time.sleep(10)\n",
    "    \n",
    "    # scrape\n",
    "    xpath_olist = \"//ol[@class='spirits']/li[@class='spirit whiskey-content']\"\n",
    "    whiskey_elems = driver.find_elements_by_xpath(xpath_olist)\n",
    "\n",
    "    for i in range(len(whiskey_elems)):\n",
    "        elem = whiskey_elems[i]\n",
    "\n",
    "        whisk_name = elem.find_element_by_xpath(\".//div[@class='name']\").text\n",
    "        ls_whisk_name.append(whisk_name)\n",
    "        \n",
    "        whisk_loc = elem.find_element_by_xpath(\".//span[@class='location']\").text\n",
    "        ls_whisk_loc.append(whisk_loc)\n",
    "\n",
    "        comm_rating = elem.find_element_by_xpath(\".//div[@class='community-rating']\").text\n",
    "        ls_comm_rating.append(comm_rating)\n",
    "\n",
    "        try:\n",
    "            distiller_score = elem.find_element_by_xpath(\".//div[@class='distiller-score']\").text\n",
    "        except NoSuchElementException:\n",
    "            distiller_score = float(\"NaN\")\n",
    "        ls_distiller_score.append(distiller_score)\n",
    "\n",
    "        whisk_url = elem.find_element_by_xpath(\"./a\").get_attribute('href')\n",
    "        ls_whisk_url.append(whisk_url)\n",
    "        \n",
    "        wait_time = random.randrange(25, 100)/100\n",
    "        time.sleep(wait_time)\n",
    "\n",
    "end = time.time()\n",
    "\n",
    "driver.close()"
   ]
  },
  {
   "cell_type": "code",
   "execution_count": 50,
   "metadata": {
    "scrolled": true
   },
   "outputs": [
    {
     "data": {
      "text/plain": [
       "473.80560517311096"
      ]
     },
     "execution_count": 50,
     "metadata": {},
     "output_type": "execute_result"
    }
   ],
   "source": [
    "end - start"
   ]
  },
  {
   "cell_type": "code",
   "execution_count": 51,
   "metadata": {},
   "outputs": [],
   "source": [
    "# content = driver.page_source\n",
    "# whiskey_elems[0].get_attribute('innerHTML')\n",
    "# print(whiskey_elems[0].text)"
   ]
  },
  {
   "cell_type": "code",
   "execution_count": 53,
   "metadata": {},
   "outputs": [
    {
     "data": {
      "text/html": [
       "<div>\n",
       "<style scoped>\n",
       "    .dataframe tbody tr th:only-of-type {\n",
       "        vertical-align: middle;\n",
       "    }\n",
       "\n",
       "    .dataframe tbody tr th {\n",
       "        vertical-align: top;\n",
       "    }\n",
       "\n",
       "    .dataframe thead th {\n",
       "        text-align: right;\n",
       "    }\n",
       "</style>\n",
       "<table border=\"1\" class=\"dataframe\">\n",
       "  <thead>\n",
       "    <tr style=\"text-align: right;\">\n",
       "      <th></th>\n",
       "      <th>Whisk_Name</th>\n",
       "      <th>Whisk_Type</th>\n",
       "      <th>Whisk_Loc</th>\n",
       "      <th>Communal_Rating</th>\n",
       "      <th>Distiller_Score</th>\n",
       "      <th>URL</th>\n",
       "    </tr>\n",
       "  </thead>\n",
       "  <tbody>\n",
       "    <tr>\n",
       "      <th>0</th>\n",
       "      <td>LEDAIG SINCLAIR SERIES RIOJA CASK</td>\n",
       "      <td>Peated Single Malt</td>\n",
       "      <td>Isle of mull, Scotland</td>\n",
       "      <td>3.36</td>\n",
       "      <td>nan</td>\n",
       "      <td>https://distiller.com/spirits/ledaig-sinclair-...</td>\n",
       "    </tr>\n",
       "    <tr>\n",
       "      <th>1</th>\n",
       "      <td>ISLAY GOLD LORCAN ISLAY SINGLE MALT</td>\n",
       "      <td>Peated Single Malt</td>\n",
       "      <td>Islay, Scotland</td>\n",
       "      <td>3.44</td>\n",
       "      <td>nan</td>\n",
       "      <td>https://distiller.com/spirits/islay-gold-lorca...</td>\n",
       "    </tr>\n",
       "    <tr>\n",
       "      <th>2</th>\n",
       "      <td>'AS WE GET IT' CASK STRENGTH ISLAY SINGLE MALT...</td>\n",
       "      <td>Peated Single Malt</td>\n",
       "      <td>Islay, Scotland</td>\n",
       "      <td>3.64</td>\n",
       "      <td>nan</td>\n",
       "      <td>https://distiller.com/spirits/as-we-get-it</td>\n",
       "    </tr>\n",
       "    <tr>\n",
       "      <th>3</th>\n",
       "      <td>OCTOMORE 10.2/96.9 SCOTTISH BARLEY</td>\n",
       "      <td>Peated Single Malt</td>\n",
       "      <td>Islay, Scotland</td>\n",
       "      <td>4.56</td>\n",
       "      <td>91</td>\n",
       "      <td>https://distiller.com/spirits/octomore-10-2-96...</td>\n",
       "    </tr>\n",
       "    <tr>\n",
       "      <th>4</th>\n",
       "      <td>FINLAGGAN RED WINE CASK MATURED</td>\n",
       "      <td>Peated Single Malt</td>\n",
       "      <td>Islay, Scotland</td>\n",
       "      <td>3.03</td>\n",
       "      <td>86</td>\n",
       "      <td>https://distiller.com/spirits/finlaggan-red-wi...</td>\n",
       "    </tr>\n",
       "  </tbody>\n",
       "</table>\n",
       "</div>"
      ],
      "text/plain": [
       "                                          Whisk_Name          Whisk_Type  \\\n",
       "0                  LEDAIG SINCLAIR SERIES RIOJA CASK  Peated Single Malt   \n",
       "1                ISLAY GOLD LORCAN ISLAY SINGLE MALT  Peated Single Malt   \n",
       "2  'AS WE GET IT' CASK STRENGTH ISLAY SINGLE MALT...  Peated Single Malt   \n",
       "3                 OCTOMORE 10.2/96.9 SCOTTISH BARLEY  Peated Single Malt   \n",
       "4                    FINLAGGAN RED WINE CASK MATURED  Peated Single Malt   \n",
       "\n",
       "                Whisk_Loc Communal_Rating Distiller_Score  \\\n",
       "0  Isle of mull, Scotland            3.36             nan   \n",
       "1         Islay, Scotland            3.44             nan   \n",
       "2         Islay, Scotland            3.64             nan   \n",
       "3         Islay, Scotland            4.56              91   \n",
       "4         Islay, Scotland            3.03              86   \n",
       "\n",
       "                                                 URL  \n",
       "0  https://distiller.com/spirits/ledaig-sinclair-...  \n",
       "1  https://distiller.com/spirits/islay-gold-lorca...  \n",
       "2         https://distiller.com/spirits/as-we-get-it  \n",
       "3  https://distiller.com/spirits/octomore-10-2-96...  \n",
       "4  https://distiller.com/spirits/finlaggan-red-wi...  "
      ]
     },
     "execution_count": 53,
     "metadata": {},
     "output_type": "execute_result"
    }
   ],
   "source": [
    "ls_whisk_type = [\"Peated Single Malt\"]*len(ls_whisk_name)\n",
    "\n",
    "list_for_df = [ls_whisk_name, ls_whisk_type, ls_whisk_loc, ls_comm_rating, ls_distiller_score, ls_whisk_url]\n",
    "\n",
    "df_whisk_main_char = pd.DataFrame(np.array(list_for_df).T, columns = ['Whisk_Name', 'Whisk_Type', 'Whisk_Loc', 'Communal_Rating', 'Distiller_Score', 'URL'])\n",
    "df_whisk_main_char.head()"
   ]
  },
  {
   "cell_type": "code",
   "execution_count": 54,
   "metadata": {},
   "outputs": [],
   "source": [
    "df_whisk_main_char.to_csv(os.path.dirname(os.getcwd())+'\\Datasets\\single_malt_peated_main.csv', index = False)"
   ]
  },
  {
   "cell_type": "code",
   "execution_count": null,
   "metadata": {},
   "outputs": [],
   "source": []
  },
  {
   "cell_type": "code",
   "execution_count": null,
   "metadata": {},
   "outputs": [],
   "source": [
    "4.3393473625183105\n",
    "3.887097120285034\n",
    "3.69065260887146"
   ]
  },
  {
   "cell_type": "code",
   "execution_count": 179,
   "metadata": {},
   "outputs": [],
   "source": []
  },
  {
   "cell_type": "code",
   "execution_count": 132,
   "metadata": {},
   "outputs": [],
   "source": [
    "# UNFORTUNATELY NO GO BECAUSE CANT GO BACKWARDS?\n",
    "element[1].click()"
   ]
  },
  {
   "cell_type": "code",
   "execution_count": 121,
   "metadata": {},
   "outputs": [
    {
     "data": {
      "text/plain": [
       "['78', None, '88', '88', '88', nan, nan]"
      ]
     },
     "execution_count": 121,
     "metadata": {},
     "output_type": "execute_result"
    }
   ],
   "source": [
    "# mmm = []\n",
    "mmm.append(m)\n",
    "mmm"
   ]
  }
 ],
 "metadata": {
  "kernelspec": {
   "display_name": "Python 3",
   "language": "python",
   "name": "python3"
  },
  "language_info": {
   "codemirror_mode": {
    "name": "ipython",
    "version": 3
   },
   "file_extension": ".py",
   "mimetype": "text/x-python",
   "name": "python",
   "nbconvert_exporter": "python",
   "pygments_lexer": "ipython3",
   "version": "3.8.5"
  }
 },
 "nbformat": 4,
 "nbformat_minor": 4
}
